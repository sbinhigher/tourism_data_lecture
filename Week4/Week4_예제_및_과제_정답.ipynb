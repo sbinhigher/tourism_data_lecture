{
  "nbformat": 4,
  "nbformat_minor": 0,
  "metadata": {
    "colab": {
      "provenance": []
    },
    "kernelspec": {
      "name": "python3",
      "display_name": "Python 3"
    },
    "language_info": {
      "name": "python"
    }
  },
  "cells": [
    {
      "cell_type": "markdown",
      "source": [
        "# 순서형"
      ],
      "metadata": {
        "id": "ttQM0nh6fpfH"
      }
    },
    {
      "cell_type": "code",
      "execution_count": null,
      "metadata": {
        "colab": {
          "base_uri": "https://localhost:8080/"
        },
        "id": "tKHuC5r9R5WK",
        "outputId": "b015552b-4958-4d3e-91ee-5ea92a3503a7"
      },
      "outputs": [
        {
          "output_type": "stream",
          "name": "stdout",
          "text": [
            "2\n",
            "[3, 4]\n"
          ]
        }
      ],
      "source": [
        "#@title 예제 1-1. 2차원과 3차원 리스트에서 인덱싱/슬라이싱을 연습해봅시다.\n",
        "\n",
        "matrix = [[1, 2], [3, 4]]\n",
        "\n",
        "# TODO: 첫 번째 행의 두 번째 원소를 출력해보세요.\n",
        "print(matrix[0][1])\n",
        "\n",
        "tensor = [\n",
        "          [[1, 2], [3, 4]],\n",
        "          [[5, 6], [7, 8]]\n",
        "         ]\n",
        "\n",
        "# TODO: 첫 번째 층의 두 번째 행 전체를 출력해보세요.\n",
        "print(tensor[0][1][:])"
      ]
    },
    {
      "cell_type": "code",
      "source": [
        "#@title 예제 1-2. 리스트 생성과 인덱싱\n",
        "fruits = [\"apple\", \"banana\", \"cherry\"]\n",
        "\n",
        "# TODO: 리스트에서 두 번째 원소를 출력해보세요.\n",
        "print(fruits[1])"
      ],
      "metadata": {
        "colab": {
          "base_uri": "https://localhost:8080/"
        },
        "id": "_18KzMJWTG4G",
        "outputId": "52a01cbb-5752-4efc-bb84-384519b15d90"
      },
      "execution_count": null,
      "outputs": [
        {
          "output_type": "stream",
          "name": "stdout",
          "text": [
            "banana\n"
          ]
        }
      ]
    },
    {
      "cell_type": "code",
      "source": [
        "#@title 예제 1-3. 튜플 생성과 인덱싱\n",
        "numbers = (10, 20, 30, 40)\n",
        "\n",
        "# TODO: 튜플에서 세 번째 원소를 출력해보세요.\n",
        "print(numbers[2])"
      ],
      "metadata": {
        "colab": {
          "base_uri": "https://localhost:8080/"
        },
        "id": "exl2NGbDTIui",
        "outputId": "d891941f-5fe1-4c22-fd52-86a06817c565"
      },
      "execution_count": null,
      "outputs": [
        {
          "output_type": "stream",
          "name": "stdout",
          "text": [
            "30\n"
          ]
        }
      ]
    },
    {
      "cell_type": "code",
      "source": [
        "#@title 예제 1-4. range 객체 활용\n",
        "r = range(5, 15, 2)\n",
        "\n",
        "# TODO: range 객체를 리스트로 변환하여 출력해보세요.\n",
        "print(list(r))"
      ],
      "metadata": {
        "colab": {
          "base_uri": "https://localhost:8080/"
        },
        "id": "eY81sK9NTK3x",
        "outputId": "9be73992-f9a7-4a00-fd5c-b4f585a03705"
      },
      "execution_count": null,
      "outputs": [
        {
          "output_type": "stream",
          "name": "stdout",
          "text": [
            "[5, 7, 9, 11, 13]\n"
          ]
        }
      ]
    },
    {
      "cell_type": "code",
      "source": [
        "#@title 예제 1-5. 리스트 인덱싱과 슬라이싱 활용\n",
        "data = [10, 20, 30, 40, 50]\n",
        "\n",
        "# TODO: 두 번째 원소를 200으로 변경해보세요.\n",
        "data[1] = 200\n",
        "\n",
        "# TODO: 리스트의 2번째부터 4번째까지 잘라서 출력해보세요.\n",
        "print(data[1:4])"
      ],
      "metadata": {
        "colab": {
          "base_uri": "https://localhost:8080/"
        },
        "id": "CkkAPOSSTM4D",
        "outputId": "882ed1a2-e451-4631-8df3-b4a0c09409c6"
      },
      "execution_count": null,
      "outputs": [
        {
          "output_type": "stream",
          "name": "stdout",
          "text": [
            "[200, 30, 40]\n"
          ]
        }
      ]
    },
    {
      "cell_type": "markdown",
      "source": [
        "# 집합형"
      ],
      "metadata": {
        "id": "_yDDH46cfsIY"
      }
    },
    {
      "cell_type": "code",
      "source": [
        "#@title 예제 2-1. 집합을 생성하고 자료형을 확인해봅시다.\n",
        "\n",
        "# TODO: {\"apple\", \"banana\", \"cherry\"} 집합을 만들어 fruit_set 변수에 저장해보세요.\n",
        "fruit_set = {\"apple\", \"banana\", \"cherry\"}\n",
        "\n",
        "# TODO: fruit_set의 자료형을 출력해보세요.\n",
        "print(type(fruit_set))  # 힌트 : 타입 확인 함수"
      ],
      "metadata": {
        "colab": {
          "base_uri": "https://localhost:8080/"
        },
        "id": "ki75zvIKTOtG",
        "outputId": "2392379e-1c4b-4a4e-f391-9a54b2a685b3"
      },
      "execution_count": null,
      "outputs": [
        {
          "output_type": "stream",
          "name": "stdout",
          "text": [
            "<class 'set'>\n"
          ]
        }
      ]
    },
    {
      "cell_type": "code",
      "source": [
        "#@title 예제 2-2. 집합에 원소를 추가하고 삭제해봅시다.\n",
        "\n",
        "numbers = {1, 2, 3}\n",
        "\n",
        "# TODO: numbers에 4를 추가해보세요.\n",
        "numbers.add(4)\n",
        "\n",
        "# TODO: numbers에서 2를 삭제해보세요.\n",
        "numbers.remove(2)\n",
        "\n",
        "print(numbers)"
      ],
      "metadata": {
        "colab": {
          "base_uri": "https://localhost:8080/"
        },
        "id": "R9nhS-z5fxcg",
        "outputId": "98fcb633-3c32-47d9-bc59-70e67dbc8d5a"
      },
      "execution_count": null,
      "outputs": [
        {
          "output_type": "stream",
          "name": "stdout",
          "text": [
            "{1, 3, 4}\n"
          ]
        }
      ]
    },
    {
      "cell_type": "code",
      "source": [
        "#@title 예제 2-3. 집합 연산을 해봅시다.\n",
        "\n",
        "set_a = {1, 2, 3, 4}\n",
        "set_b = {3, 4, 5, 6}\n",
        "\n",
        "# TODO: set_a와 set_b의 교집합을 출력해보세요.\n",
        "print(set_a & set_b)\n",
        "print(set_a.intersection(set_b))\n",
        "\n",
        "# TODO: set_a와 set_b의 합집합을 출력해보세요.\n",
        "print(set_a | set_b)\n",
        "print(set_a.union(set_b))\n",
        "\n",
        "# TODO: set_a와 set_b의 차집합을 출력해보세요.\n",
        "print(set_a - set_b)\n",
        "print(set_a.difference(set_b))"
      ],
      "metadata": {
        "colab": {
          "base_uri": "https://localhost:8080/"
        },
        "id": "cSoApQRifxxJ",
        "outputId": "79ede42e-b3dc-405d-d102-43222277b4b5"
      },
      "execution_count": null,
      "outputs": [
        {
          "output_type": "stream",
          "name": "stdout",
          "text": [
            "{3, 4}\n",
            "{3, 4}\n",
            "{1, 2, 3, 4, 5, 6}\n",
            "{1, 2, 3, 4, 5, 6}\n",
            "{1, 2}\n",
            "{1, 2}\n"
          ]
        }
      ]
    },
    {
      "cell_type": "markdown",
      "source": [
        "# 매핑형"
      ],
      "metadata": {
        "id": "dxkHcRPaKy9B"
      }
    },
    {
      "cell_type": "code",
      "source": [
        "#@title 예제 3-1. 딕셔너리에서 키를 이용해 값을 출력해봅시다.\n",
        "\n",
        "student = {\"name\": \"Tom\", \"grade\": \"A\", \"age\": 20}\n",
        "\n",
        "# TODO: 학생의 이름(name)을 출력해보세요.\n",
        "print(student[\"name\"])\n",
        "print(student.get(\"name\"))"
      ],
      "metadata": {
        "id": "nvA4KpohfzJQ",
        "colab": {
          "base_uri": "https://localhost:8080/"
        },
        "outputId": "78606122-de52-4198-fc51-237d4ff5a5e7"
      },
      "execution_count": null,
      "outputs": [
        {
          "output_type": "stream",
          "name": "stdout",
          "text": [
            "Tom\n",
            "Tom\n"
          ]
        }
      ]
    },
    {
      "cell_type": "code",
      "source": [
        "#@title 예제 3-2. 딕셔너리에 새로운 키-값 쌍을 추가해봅시다.\n",
        "\n",
        "car = {\"brand\": \"Hyundai\", \"model\": \"Sonata\"}\n",
        "\n",
        "# TODO: 키 \"year\"에 값 2023을 추가하고, 딕셔너리를 출력해보세요.\n",
        "car[\"year\"] = 2023\n",
        "print(car)"
      ],
      "metadata": {
        "colab": {
          "base_uri": "https://localhost:8080/"
        },
        "id": "RU8uTih4K7vd",
        "outputId": "8c20f5d4-4737-4b48-cf5b-ae0f2a54a922"
      },
      "execution_count": null,
      "outputs": [
        {
          "output_type": "stream",
          "name": "stdout",
          "text": [
            "{'brand': 'Hyundai', 'model': 'Sonata', 'year': 2023}\n"
          ]
        }
      ]
    },
    {
      "cell_type": "code",
      "source": [
        "#@title 예제 3-3. 딕셔너리에서 안전하게 키를 조회해봅시다.\n",
        "\n",
        "info = {\"id\": 101, \"name\": \"Kim\"}\n",
        "\n",
        "# TODO: \"email\" 키를 get 메서드로 조회하고, 없으면 \"N/A\"를 출력해보세요.\n",
        "print(info.get(\"email\", \"N/A\"))"
      ],
      "metadata": {
        "colab": {
          "base_uri": "https://localhost:8080/"
        },
        "id": "ruxd6INFLApi",
        "outputId": "5bdca0ec-dfc5-4292-ad27-394ef1eaff2a"
      },
      "execution_count": null,
      "outputs": [
        {
          "output_type": "stream",
          "name": "stdout",
          "text": [
            "N/A\n"
          ]
        }
      ]
    },
    {
      "cell_type": "markdown",
      "source": [
        "# 과제 정답"
      ],
      "metadata": {
        "id": "q_mU6p-royxv"
      }
    },
    {
      "cell_type": "markdown",
      "source": [
        "#"
      ],
      "metadata": {
        "id": "bTLA2dkCJ3YU"
      }
    },
    {
      "cell_type": "code",
      "execution_count": 4,
      "metadata": {
        "id": "46154311"
      },
      "outputs": [],
      "source": [
        "!wget -q -O Week4_Q.py https://raw.githubusercontent.com/sbinhigher/tourism_data_lecture/main/Week4/Week4_Q.py"
      ]
    },
    {
      "cell_type": "code",
      "execution_count": 5,
      "metadata": {
        "id": "909d2057"
      },
      "outputs": [],
      "source": [
        "import Week4_Q as quiz"
      ]
    },
    {
      "cell_type": "code",
      "source": [
        "quiz.show_all_explanations()"
      ],
      "metadata": {
        "colab": {
          "base_uri": "https://localhost:8080/"
        },
        "id": "53A_kjwvo2We",
        "outputId": "ea01152f-10c8-469b-9d67-ba1446e89a83"
      },
      "execution_count": 7,
      "outputs": [
        {
          "output_type": "stream",
          "name": "stdout",
          "text": [
            "\n",
            "### Q1\n",
            "정답: list(set(nums))\n",
            "Q1 해설: list(set(nums)) 로 중복 제거 후 리스트 변환\n",
            "\n",
            "### Q2\n",
            "정답: 1. [8, 9]\n",
            "Q2 해설: 3차원 인덱싱/슬라이싱\n",
            "- tensor[1]           → [[7, 8, 9], [10, 11, 12]]  (두 번째 '층')\n",
            "- tensor[1][0]        → [7, 8, 9]                   (그 층의 첫 번째 '행')\n",
            "- tensor[1][0][1:]    → [8, 9]                      (그 행의 인덱스 1부터 끝까지)\n",
            "\n",
            "### Q3\n",
            "정답: t[1] = 5\n",
            "Q3 해설: 튜플은 불변이라 t[1]=5는 오류\n",
            "\n",
            "### Q4\n",
            "정답: 2. [2,4,6,8,10]\n",
            "Q4 해설:\n",
            "range(2, 11, 2)는 2부터 시작해 11 직전까지 2씩 증가하는 수열을 만듭니다.\n",
            "→ 2, 4, 6, 8, 10\n",
            "따라서 list(r)의 결과는 [2, 4, 6, 8, 10] 입니다.\n",
            "\n",
            "### Q5\n",
            "정답: fruits.add('orange')\n",
            "Q5 해설: fruits.add('orange') 로 원소 추가\n",
            "\n",
            "### Q6\n",
            "정답: {'b', 'c'}\n",
            "Q6 해설: & 는 교집합, 결과는 {'b','c'}\n",
            "\n",
            "### Q7\n",
            "정답: 4, 4) info.index() → [0,1,2]\n",
            "Q7 해설:\n",
            "1) info.keys() ✅ 올바름 → 키들의 목록 ['이름','나이','학과']\n",
            "2) info.values() ✅ 올바름 → 값들의 목록 ['홍길동', 30, '데이터사이언스']\n",
            "3) info.items() ✅ 올바름 → (키, 값) 쌍들의 목록 [('이름','홍길동'), ('나이',30), ('학과','데이터사이언스')]\n",
            "4) info.index() ❌ 틀림 → 딕셔너리에는 index() 메서드가 없습니다. 인덱스는 리스트·튜플 등 순서형 자료에서만 사용됩니다.\n",
            "❌ 인덱스(index)는 리스트나 튜플처럼 순서형 자료에서 사용하는 개념이지, 딕셔너리의 구성 요소가 아닙니다.\n",
            "\n",
            "### Q8\n",
            "정답: student['email'] = 'lee@example.com'\n",
            "Q8 해설: student['email']='...' 으로 추가\n",
            "\n",
            "### Q9\n",
            "정답: 'N/A'\n",
            "Q9 해설: get(key,default) → 없으면 'N/A'\n",
            "\n",
            "### Q10\n",
            "정답: 2 (tuple은 수정 불가)\n",
            "Q10 해설: tuple은 수정 불가, 나머지는 맞음\n",
            "\n",
            "✅ 모든 해설 출력 완료\n"
          ]
        }
      ]
    },
    {
      "cell_type": "code",
      "source": [],
      "metadata": {
        "id": "wz2hPOrxo5Mx"
      },
      "execution_count": null,
      "outputs": []
    }
  ]
}