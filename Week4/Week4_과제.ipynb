{
  "cells": [
    {
      "cell_type": "code",
      "execution_count": 1,
      "id": "46154311",
      "metadata": {
        "id": "46154311"
      },
      "outputs": [],
      "source": [
        "!wget -q -O Week4_Q.py https://raw.githubusercontent.com/sbinhigher/tourism_data_lecture/main/Week4/Week4_Q.py"
      ]
    },
    {
      "cell_type": "code",
      "execution_count": 2,
      "id": "909d2057",
      "metadata": {
        "id": "909d2057"
      },
      "outputs": [],
      "source": [
        "import Week4_Q as quiz"
      ]
    },
    {
      "cell_type": "code",
      "execution_count": 3,
      "id": "90926c13",
      "metadata": {
        "colab": {
          "base_uri": "https://localhost:8080/",
          "height": 179
        },
        "id": "90926c13",
        "outputId": "8f7c6f7f-91fd-4103-cd4f-1fa1113d4d8e"
      },
      "outputs": [
        {
          "output_type": "display_data",
          "data": {
            "text/plain": [
              "<IPython.core.display.HTML object>"
            ],
            "text/html": [
              "\n",
              "<style>\n",
              ".quiz-panel {border:1px solid #e5e7eb;border-left:6px solid #3b82f6;border-radius:10px;\n",
              "             padding:14px 16px;margin:10px 0;background:#fafbff;font-family:ui-sans-serif,system-ui,-apple-system,Segoe UI,Roboto,Noto Sans,Apple SD Gothic Neo,Helvetica Neue,Arial;}\n",
              ".quiz-title {font-weight:700;color:#1f2937;margin-bottom:6px;font-size:1.05rem;}\n",
              ".quiz-body  {color:#374151;line-height:1.6;}\n",
              ".quiz-code  {background:#111827;color:#e5e7eb;padding:10px 12px;border-radius:8px;\n",
              "             font-family:ui-monospace,SFMono-Regular,Menlo,Monaco,Consolas,\"Liberation Mono\",monospace;margin-top:8px;white-space:pre-wrap;}\n",
              "</style>\n",
              "<div class=\"quiz-panel\"><div class=\"quiz-title\">Q1) 주관식: 리스트 중복 제거</div><div class=\"quiz-body\">다음 리스트의 중복을 제거하여 새로운 리스트로 출력하세요.</div><div class=\"quiz-code\">nums = [1, 2, 2, 3, 4, 4, 5]\n",
              "print(    )</div></div>"
            ]
          },
          "metadata": {}
        }
      ],
      "source": [
        "#@title Q1\n",
        "quiz.show_q1()"
      ]
    },
    {
      "cell_type": "code",
      "execution_count": null,
      "id": "680b0ea9",
      "metadata": {
        "id": "680b0ea9",
        "collapsed": true
      },
      "outputs": [],
      "source": [
        "quiz.answer_q1()"
      ]
    },
    {
      "cell_type": "code",
      "execution_count": 4,
      "id": "b8304b1f",
      "metadata": {
        "colab": {
          "base_uri": "https://localhost:8080/",
          "height": 346
        },
        "id": "b8304b1f",
        "outputId": "35037f1c-dcaf-4b79-bb92-71a42d4fff9c"
      },
      "outputs": [
        {
          "output_type": "display_data",
          "data": {
            "text/plain": [
              "<IPython.core.display.HTML object>"
            ],
            "text/html": [
              "\n",
              "<style>\n",
              ".quiz-panel {border:1px solid #e5e7eb;border-left:6px solid #3b82f6;border-radius:10px;\n",
              "             padding:14px 16px;margin:10px 0;background:#fafbff;font-family:ui-sans-serif,system-ui,-apple-system,Segoe UI,Roboto,Noto Sans,Apple SD Gothic Neo,Helvetica Neue,Arial;}\n",
              ".quiz-title {font-weight:700;color:#1f2937;margin-bottom:6px;font-size:1.05rem;}\n",
              ".quiz-body  {color:#374151;line-height:1.6;}\n",
              ".quiz-code  {background:#111827;color:#e5e7eb;padding:10px 12px;border-radius:8px;\n",
              "             font-family:ui-monospace,SFMono-Regular,Menlo,Monaco,Consolas,\"Liberation Mono\",monospace;margin-top:8px;white-space:pre-wrap;}\n",
              "</style>\n",
              "<div class=\"quiz-panel\"><div class=\"quiz-title\">Q2) 객관식: 3차원 인덱싱/슬라이싱</div><div class=\"quiz-body\">다음에서 `tensor[1][0][1:]` 의 결과를 고르세요.</div><div class=\"quiz-code\">tensor = [\n",
              "  [[1, 2, 3], [4, 5, 6]],\n",
              "  [[7, 8, 9], [10, 11, 12]]\n",
              "]</div></div>"
            ]
          },
          "metadata": {}
        },
        {
          "output_type": "display_data",
          "data": {
            "text/plain": [
              "<IPython.core.display.Markdown object>"
            ],
            "text/markdown": "보기\n\n1) [8, 9]\n\n2) 8\n\n3) [7, 8]\n\n4) [10, 11, 12]"
          },
          "metadata": {}
        }
      ],
      "source": [
        "#@title Q2\n",
        "quiz.show_q2()"
      ]
    },
    {
      "cell_type": "code",
      "execution_count": null,
      "id": "fce686f7",
      "metadata": {
        "id": "fce686f7"
      },
      "outputs": [],
      "source": [
        "quiz.answer_q2()"
      ]
    },
    {
      "cell_type": "code",
      "execution_count": 5,
      "id": "58fcb9ca",
      "metadata": {
        "colab": {
          "base_uri": "https://localhost:8080/",
          "height": 267
        },
        "id": "58fcb9ca",
        "outputId": "dc72d240-24a8-4403-9521-129b263dc497"
      },
      "outputs": [
        {
          "output_type": "display_data",
          "data": {
            "text/plain": [
              "<IPython.core.display.HTML object>"
            ],
            "text/html": [
              "\n",
              "<style>\n",
              ".quiz-panel {border:1px solid #e5e7eb;border-left:6px solid #3b82f6;border-radius:10px;\n",
              "             padding:14px 16px;margin:10px 0;background:#fafbff;font-family:ui-sans-serif,system-ui,-apple-system,Segoe UI,Roboto,Noto Sans,Apple SD Gothic Neo,Helvetica Neue,Arial;}\n",
              ".quiz-title {font-weight:700;color:#1f2937;margin-bottom:6px;font-size:1.05rem;}\n",
              ".quiz-body  {color:#374151;line-height:1.6;}\n",
              ".quiz-code  {background:#111827;color:#e5e7eb;padding:10px 12px;border-radius:8px;\n",
              "             font-family:ui-monospace,SFMono-Regular,Menlo,Monaco,Consolas,\"Liberation Mono\",monospace;margin-top:8px;white-space:pre-wrap;}\n",
              "</style>\n",
              "<div class=\"quiz-panel\"><div class=\"quiz-title\">Q3) 객관식: 튜플의 불변성</div><div class=\"quiz-body\">다음 중 실행 시 오류가 발생하는 코드는?</div><div class=\"quiz-code\">t = (1, 2, 3)</div></div>"
            ]
          },
          "metadata": {}
        },
        {
          "output_type": "display_data",
          "data": {
            "text/plain": [
              "<IPython.core.display.Markdown object>"
            ],
            "text/markdown": "1) print(t[1])\n\n2) t[1] = 5\n\n3) new_t = t + (4,)\n\n4) print(len(t))"
          },
          "metadata": {}
        }
      ],
      "source": [
        "#@title Q3\n",
        "quiz.show_q3()"
      ]
    },
    {
      "cell_type": "code",
      "execution_count": null,
      "id": "c1139c4d",
      "metadata": {
        "id": "c1139c4d"
      },
      "outputs": [],
      "source": [
        "quiz.answer_q3()"
      ]
    },
    {
      "cell_type": "code",
      "execution_count": 6,
      "id": "df07dd98",
      "metadata": {
        "colab": {
          "base_uri": "https://localhost:8080/",
          "height": 312
        },
        "id": "df07dd98",
        "outputId": "3d357ec2-c8c0-4975-ee7e-ef787ae8eb77"
      },
      "outputs": [
        {
          "output_type": "display_data",
          "data": {
            "text/plain": [
              "<IPython.core.display.HTML object>"
            ],
            "text/html": [
              "\n",
              "<style>\n",
              ".quiz-panel {border:1px solid #e5e7eb;border-left:6px solid #3b82f6;border-radius:10px;\n",
              "             padding:14px 16px;margin:10px 0;background:#fafbff;font-family:ui-sans-serif,system-ui,-apple-system,Segoe UI,Roboto,Noto Sans,Apple SD Gothic Neo,Helvetica Neue,Arial;}\n",
              ".quiz-title {font-weight:700;color:#1f2937;margin-bottom:6px;font-size:1.05rem;}\n",
              ".quiz-body  {color:#374151;line-height:1.6;}\n",
              ".quiz-code  {background:#111827;color:#e5e7eb;padding:10px 12px;border-radius:8px;\n",
              "             font-family:ui-monospace,SFMono-Regular,Menlo,Monaco,Consolas,\"Liberation Mono\",monospace;margin-top:8px;white-space:pre-wrap;}\n",
              "</style>\n",
              "<div class=\"quiz-panel\"><div class=\"quiz-title\">Q4) 객관식: range → list 변환</div><div class=\"quiz-body\">다음 range 객체를 리스트로 변환했을 때, 출력 결과로 올바른 것은?</div><div class=\"quiz-code\">r = range(2, 11, 2)\n",
              "print(list(r))</div></div>"
            ]
          },
          "metadata": {}
        },
        {
          "output_type": "display_data",
          "data": {
            "text/plain": [
              "<IPython.core.display.Markdown object>"
            ],
            "text/markdown": "보기\n\n1) [1, 3, 5, 7, 9, 11]\n\n2) [2, 4, 6, 8, 10]\n\n3) [2, 5, 8, 11]\n\n4) [1, 4, 7, 10]"
          },
          "metadata": {}
        }
      ],
      "source": [
        "#@title Q4\n",
        "quiz.show_q4()"
      ]
    },
    {
      "cell_type": "code",
      "execution_count": null,
      "id": "a1ce923e",
      "metadata": {
        "id": "a1ce923e"
      },
      "outputs": [],
      "source": [
        "quiz.answer_q4()"
      ]
    },
    {
      "cell_type": "code",
      "execution_count": null,
      "id": "fddc2874",
      "metadata": {
        "colab": {
          "base_uri": "https://localhost:8080/",
          "height": 179
        },
        "id": "fddc2874",
        "outputId": "adfd8939-a5df-4216-ef0a-794d49e21de0"
      },
      "outputs": [
        {
          "output_type": "display_data",
          "data": {
            "text/plain": [
              "<IPython.core.display.HTML object>"
            ],
            "text/html": [
              "\n",
              "<style>\n",
              ".quiz-panel {border:1px solid #e5e7eb;border-left:6px solid #3b82f6;border-radius:10px;\n",
              "             padding:14px 16px;margin:10px 0;background:#fafbff;font-family:ui-sans-serif,system-ui,-apple-system,Segoe UI,Roboto,Noto Sans,Apple SD Gothic Neo,Helvetica Neue,Arial;}\n",
              ".quiz-title {font-weight:700;color:#1f2937;margin-bottom:6px;font-size:1.05rem;}\n",
              ".quiz-body  {color:#374151;line-height:1.6;}\n",
              ".quiz-code  {background:#111827;color:#e5e7eb;padding:10px 12px;border-radius:8px;\n",
              "             font-family:ui-monospace,SFMono-Regular,Menlo,Monaco,Consolas,\"Liberation Mono\",monospace;margin-top:8px;white-space:pre-wrap;}\n",
              "</style>\n",
              "<div class=\"quiz-panel\"><div class=\"quiz-title\">Q5) 주관식: 집합에 원소 추가</div><div class=\"quiz-body\">\"orange\" 를 집합에 추가하고 출력하세요.</div><div class=\"quiz-code\">fruits = {\"apple\", \"banana\"}\n",
              "print(fruits)</div></div>"
            ]
          },
          "metadata": {}
        }
      ],
      "source": [
        "#@title Q5\n",
        "quiz.show_q5()"
      ]
    },
    {
      "cell_type": "code",
      "execution_count": null,
      "id": "4601812f",
      "metadata": {
        "id": "4601812f"
      },
      "outputs": [],
      "source": [
        "quiz.answer_q5()"
      ]
    },
    {
      "cell_type": "code",
      "execution_count": null,
      "id": "6191d4e4",
      "metadata": {
        "colab": {
          "base_uri": "https://localhost:8080/",
          "height": 338
        },
        "id": "6191d4e4",
        "outputId": "e05cc55f-f48f-4792-ff15-bfb90d36a632"
      },
      "outputs": [
        {
          "output_type": "display_data",
          "data": {
            "text/plain": [
              "<IPython.core.display.HTML object>"
            ],
            "text/html": [
              "\n",
              "<style>\n",
              ".quiz-panel {border:1px solid #e5e7eb;border-left:6px solid #3b82f6;border-radius:10px;\n",
              "             padding:14px 16px;margin:10px 0;background:#fafbff;font-family:ui-sans-serif,system-ui,-apple-system,Segoe UI,Roboto,Noto Sans,Apple SD Gothic Neo,Helvetica Neue,Arial;}\n",
              ".quiz-title {font-weight:700;color:#1f2937;margin-bottom:6px;font-size:1.05rem;}\n",
              ".quiz-body  {color:#374151;line-height:1.6;}\n",
              ".quiz-code  {background:#111827;color:#e5e7eb;padding:10px 12px;border-radius:8px;\n",
              "             font-family:ui-monospace,SFMono-Regular,Menlo,Monaco,Consolas,\"Liberation Mono\",monospace;margin-top:8px;white-space:pre-wrap;}\n",
              ".quiz-hint  {color:#6b7280;font-size:0.92rem;margin-top:8px;}\n",
              "</style>\n",
              "<div class=\"quiz-panel\"><div class=\"quiz-title\">Q6) 객관식: 집합 연산</div><div class=\"quiz-body\">`set_a & set_b` 의 결과를 고르세요.</div><div class=\"quiz-code\">set_a = {\"a\", \"b\", \"c\"}\n",
              "set_b = {\"b\", \"c\", \"d\"}</div><div class=\"quiz-hint\">힌트: & 는 교집합</div></div>"
            ]
          },
          "metadata": {}
        },
        {
          "output_type": "display_data",
          "data": {
            "text/plain": [
              "<IPython.core.display.Markdown object>"
            ],
            "text/markdown": "보기\n\n1) {'a', 'b'}\n\n2) {'b', 'c'}\n\n3) {'c', 'd'}\n\n4) {'a', 'd'}"
          },
          "metadata": {}
        }
      ],
      "source": [
        "#@title Q6\n",
        "quiz.show_q6()"
      ]
    },
    {
      "cell_type": "code",
      "execution_count": null,
      "id": "5f5d867f",
      "metadata": {
        "id": "5f5d867f"
      },
      "outputs": [],
      "source": [
        "quiz.answer_q6()"
      ]
    },
    {
      "cell_type": "code",
      "execution_count": 5,
      "id": "b7af1c88",
      "metadata": {
        "colab": {
          "base_uri": "https://localhost:8080/",
          "height": 294
        },
        "id": "b7af1c88",
        "outputId": "69bca6fb-03d4-45fe-ce7d-7697a13b87fe"
      },
      "outputs": [
        {
          "output_type": "display_data",
          "data": {
            "text/plain": [
              "<IPython.core.display.HTML object>"
            ],
            "text/html": [
              "\n",
              "<style>\n",
              ".quiz-panel {border:1px solid #e5e7eb;border-left:6px solid #3b82f6;border-radius:10px;\n",
              "             padding:14px 16px;margin:10px 0;background:#fafbff;font-family:ui-sans-serif,system-ui,-apple-system,Segoe UI,Roboto,Noto Sans,Apple SD Gothic Neo,Helvetica Neue,Arial;}\n",
              ".quiz-title {font-weight:700;color:#1f2937;margin-bottom:6px;font-size:1.05rem;}\n",
              ".quiz-body  {color:#374151;line-height:1.6;}\n",
              ".quiz-code  {background:#111827;color:#e5e7eb;padding:10px 12px;border-radius:8px;\n",
              "             font-family:ui-monospace,SFMono-Regular,Menlo,Monaco,Consolas,\"Liberation Mono\",monospace;margin-top:8px;white-space:pre-wrap;}\n",
              "</style>\n",
              "<div class=\"quiz-panel\"><div class=\"quiz-title\">Q7) 객관식: 딕셔너리 요소 연결</div><div class=\"quiz-body\">다음 중 **알맞게 연결되지 않은 것**은 무엇일까요?</div><div class=\"quiz-code\">info = {\"이름\": \"홍길동\", \"나이\": 30, \"학과\": \"데이터사이언스\"}\n",
              "</div></div>"
            ]
          },
          "metadata": {}
        },
        {
          "output_type": "display_data",
          "data": {
            "text/plain": [
              "<IPython.core.display.Markdown object>"
            ],
            "text/markdown": "보기\n\n1) info.keys() → ['이름','나이','학과']\n\n2) info.values() → ['홍길동', 30, '데이터사이언스']\n\n3) info.items() → [('이름','홍길동'), ('나이',30), ('학과','데이터사이언스')]\n\n4) info.index() → [0,1,2]"
          },
          "metadata": {}
        }
      ],
      "source": [
        "#@title Q7\n",
        "quiz.show_q7()"
      ]
    },
    {
      "cell_type": "code",
      "execution_count": null,
      "id": "9dffd972",
      "metadata": {
        "id": "9dffd972"
      },
      "outputs": [],
      "source": [
        "quiz.answer_q7()"
      ]
    },
    {
      "cell_type": "code",
      "execution_count": 3,
      "id": "9818b4b2",
      "metadata": {
        "colab": {
          "base_uri": "https://localhost:8080/",
          "height": 179
        },
        "id": "9818b4b2",
        "outputId": "ab766910-25d2-430b-809f-4729fb516d36"
      },
      "outputs": [
        {
          "output_type": "display_data",
          "data": {
            "text/plain": [
              "<IPython.core.display.HTML object>"
            ],
            "text/html": [
              "\n",
              "<style>\n",
              ".quiz-panel {border:1px solid #e5e7eb;border-left:6px solid #3b82f6;border-radius:10px;\n",
              "             padding:14px 16px;margin:10px 0;background:#fafbff;font-family:ui-sans-serif,system-ui,-apple-system,Segoe UI,Roboto,Noto Sans,Apple SD Gothic Neo,Helvetica Neue,Arial;}\n",
              ".quiz-title {font-weight:700;color:#1f2937;margin-bottom:6px;font-size:1.05rem;}\n",
              ".quiz-body  {color:#374151;line-height:1.6;}\n",
              ".quiz-code  {background:#111827;color:#e5e7eb;padding:10px 12px;border-radius:8px;\n",
              "             font-family:ui-monospace,SFMono-Regular,Menlo,Monaco,Consolas,\"Liberation Mono\",monospace;margin-top:8px;white-space:pre-wrap;}\n",
              "</style>\n",
              "<div class=\"quiz-panel\"><div class=\"quiz-title\">Q8) 주관식: 딕셔너리에 키-값 추가</div><div class=\"quiz-body\">\"email\" 키에 \"lee@example.com\" 을 추가하고 출력하세요.</div><div class=\"quiz-code\">student = {\"name\": \"Lee\", \"age\": 21, \"major\": \"Data Science\"}\n",
              "print(student)</div></div>"
            ]
          },
          "metadata": {}
        }
      ],
      "source": [
        "#@title Q8\n",
        "quiz.show_q8()"
      ]
    },
    {
      "cell_type": "code",
      "execution_count": null,
      "id": "aa45f3de",
      "metadata": {
        "id": "aa45f3de"
      },
      "outputs": [],
      "source": [
        "quiz.answer_q8()"
      ]
    },
    {
      "cell_type": "code",
      "execution_count": 6,
      "id": "2bc85959",
      "metadata": {
        "colab": {
          "base_uri": "https://localhost:8080/",
          "height": 267
        },
        "id": "2bc85959",
        "outputId": "42176475-48bb-4b6a-d1aa-605b955ee187"
      },
      "outputs": [
        {
          "output_type": "display_data",
          "data": {
            "text/plain": [
              "<IPython.core.display.HTML object>"
            ],
            "text/html": [
              "\n",
              "<style>\n",
              ".quiz-panel {border:1px solid #e5e7eb;border-left:6px solid #3b82f6;border-radius:10px;\n",
              "             padding:14px 16px;margin:10px 0;background:#fafbff;font-family:ui-sans-serif,system-ui,-apple-system,Segoe UI,Roboto,Noto Sans,Apple SD Gothic Neo,Helvetica Neue,Arial;}\n",
              ".quiz-title {font-weight:700;color:#1f2937;margin-bottom:6px;font-size:1.05rem;}\n",
              ".quiz-body  {color:#374151;line-height:1.6;}\n",
              ".quiz-code  {background:#111827;color:#e5e7eb;padding:10px 12px;border-radius:8px;\n",
              "             font-family:ui-monospace,SFMono-Regular,Menlo,Monaco,Consolas,\"Liberation Mono\",monospace;margin-top:8px;white-space:pre-wrap;}\n",
              "</style>\n",
              "<div class=\"quiz-panel\"><div class=\"quiz-title\">Q9) 객관식: get 기본값</div><div class=\"quiz-body\">`info.get(\"email\", \"N/A\")` 의 결과를 고르세요.</div><div class=\"quiz-code\">info = {\"id\": 1001, \"name\": \"Park\"}</div></div>"
            ]
          },
          "metadata": {}
        },
        {
          "output_type": "display_data",
          "data": {
            "text/plain": [
              "<IPython.core.display.Markdown object>"
            ],
            "text/markdown": "1) None\n\n2) \"N/A\"\n\n3) Error\n\n4) {\"email\": \"N/A\"}"
          },
          "metadata": {}
        }
      ],
      "source": [
        "#@title Q9\n",
        "quiz.show_q9()"
      ]
    },
    {
      "cell_type": "code",
      "execution_count": null,
      "id": "5712e823",
      "metadata": {
        "id": "5712e823"
      },
      "outputs": [],
      "source": [
        "quiz.answer_q9()"
      ]
    },
    {
      "cell_type": "code",
      "execution_count": 7,
      "id": "2d9e951e",
      "metadata": {
        "colab": {
          "base_uri": "https://localhost:8080/",
          "height": 222
        },
        "id": "2d9e951e",
        "outputId": "ecba9d2f-5ee6-4994-df27-c9582d322e99"
      },
      "outputs": [
        {
          "output_type": "display_data",
          "data": {
            "text/plain": [
              "<IPython.core.display.HTML object>"
            ],
            "text/html": [
              "\n",
              "<style>\n",
              ".quiz-panel {border:1px solid #e5e7eb;border-left:6px solid #3b82f6;border-radius:10px;\n",
              "             padding:14px 16px;margin:10px 0;background:#fafbff;font-family:ui-sans-serif,system-ui,-apple-system,Segoe UI,Roboto,Noto Sans,Apple SD Gothic Neo,Helvetica Neue,Arial;}\n",
              ".quiz-title {font-weight:700;color:#1f2937;margin-bottom:6px;font-size:1.05rem;}\n",
              ".quiz-body  {color:#374151;line-height:1.6;}\n",
              ".quiz-code  {background:#111827;color:#e5e7eb;padding:10px 12px;border-radius:8px;\n",
              "             font-family:ui-monospace,SFMono-Regular,Menlo,Monaco,Consolas,\"Liberation Mono\",monospace;margin-top:8px;white-space:pre-wrap;}\n",
              "</style>\n",
              "<div class=\"quiz-panel\"><div class=\"quiz-title\">Q10) 객관식: 컬렉션형 특징 연결</div><div class=\"quiz-body\">다음 중 특징 연결이 잘못된 것을 고르세요.</div></div>"
            ]
          },
          "metadata": {}
        },
        {
          "output_type": "display_data",
          "data": {
            "text/plain": [
              "<IPython.core.display.Markdown object>"
            ],
            "text/markdown": "1) list : 순서 있음, 수정 가능\n\n2) tuple : 순서 있음, 수정 가능\n\n3) set : 순서 없음, 중복 불가\n\n4) dict : 키-값 쌍 저장, 키는 중복 불가"
          },
          "metadata": {}
        }
      ],
      "source": [
        "#@title Q10\n",
        "quiz.show_q10()"
      ]
    },
    {
      "cell_type": "code",
      "execution_count": null,
      "id": "d28c7516",
      "metadata": {
        "id": "d28c7516"
      },
      "outputs": [],
      "source": [
        "quiz.answer_q10()"
      ]
    }
  ],
  "metadata": {
    "language_info": {
      "name": "python"
    },
    "colab": {
      "provenance": []
    },
    "kernelspec": {
      "name": "python3",
      "display_name": "Python 3"
    }
  },
  "nbformat": 4,
  "nbformat_minor": 5
}