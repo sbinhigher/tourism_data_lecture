{
  "nbformat": 4,
  "nbformat_minor": 0,
  "metadata": {
    "colab": {
      "provenance": []
    },
    "kernelspec": {
      "name": "python3",
      "display_name": "Python 3"
    },
    "language_info": {
      "name": "python"
    }
  },
  "cells": [
    {
      "cell_type": "code",
      "execution_count": 92,
      "metadata": {
        "id": "46154311"
      },
      "outputs": [],
      "source": [
        "!wget -q -O Week5_Q.py https://raw.githubusercontent.com/sbinhigher/tourism_data_lecture/main/Week5/Week5_Q.py"
      ]
    },
    {
      "cell_type": "code",
      "execution_count": 93,
      "metadata": {
        "id": "909d2057"
      },
      "outputs": [],
      "source": [
        "import importlib\n",
        "import Week5_Q as quiz\n",
        "importlib.reload(quiz)\n",
        "quiz.set_style(\"week4\")"
      ]
    },
    {
      "cell_type": "code",
      "execution_count": 71,
      "metadata": {
        "colab": {
          "base_uri": "https://localhost:8080/",
          "height": 246
        },
        "id": "90926c13",
        "outputId": "c1afc18f-f968-412e-845e-9f655db7dbe8"
      },
      "outputs": [
        {
          "output_type": "display_data",
          "data": {
            "text/plain": [
              "<IPython.core.display.HTML object>"
            ],
            "text/html": [
              "\n",
              "<style>\n",
              ".qbox{border:1px solid #e5e7eb;border-radius:10px;padding:14px 16px;margin:14px 0;background:#fff;}\n",
              ".qtitle{font-weight:700;font-size:1.05rem;margin-bottom:6px;}\n",
              ".qstem{margin:6px 0 10px 0;}\n",
              ".qchoices{margin:8px 0 0 22px;}\n",
              ".qchoices li{margin:4px 0;}\n",
              ".qlabel{display:inline-block;margin-top:6px;color:#6b7280;font-size:0.9rem}\n",
              ".qcode{background:#0b1021;color:#eaeefb;padding:10px;border-radius:6px;white-space:pre-wrap;overflow:auto;font-family:ui-monospace,Consolas,monospace;}\n",
              "</style>\n",
              "<div class=\"qbox\"><div class=\"qtitle\">Q1</div><div class=\"qstem\">다음 중 파이썬에서 **코드 블록을 구분**하는 방식으로 옳은 것은?</div><div class=\"qlabel\">보기</div><ol class=\"qchoices\"><li>중괄호 {}</li><li>세미콜론 ;</li><li>들여쓰기(Indentation)</li><li>괄호 ()</li></ol></div>"
            ]
          },
          "metadata": {}
        }
      ],
      "source": [
        "#@title Q1\n",
        "quiz.show_q1()"
      ]
    },
    {
      "cell_type": "code",
      "execution_count": 45,
      "metadata": {
        "id": "680b0ea9",
        "collapsed": true,
        "colab": {
          "base_uri": "https://localhost:8080/",
          "height": 117
        },
        "outputId": "4f3fac01-2d92-4297-9653-467b63865e95"
      },
      "outputs": [
        {
          "output_type": "stream",
          "name": "stdout",
          "text": [
            "정답을 입력하세요: 3\n",
            "✅ 정답입니다.\n"
          ]
        },
        {
          "output_type": "display_data",
          "data": {
            "text/plain": [
              "<IPython.core.display.Markdown object>"
            ],
            "text/markdown": "- 정답: **3**\n- 파이썬은 들여쓰기로 코드 블록을 구분합니다."
          },
          "metadata": {}
        },
        {
          "output_type": "execute_result",
          "data": {
            "text/plain": [
              "True"
            ]
          },
          "metadata": {},
          "execution_count": 45
        }
      ],
      "source": [
        "quiz.answer_q1()"
      ]
    },
    {
      "cell_type": "code",
      "execution_count": 70,
      "metadata": {
        "colab": {
          "base_uri": "https://localhost:8080/",
          "height": 246
        },
        "id": "b8304b1f",
        "outputId": "3cfe9433-b88e-4639-9190-fc3af93dc78b"
      },
      "outputs": [
        {
          "output_type": "display_data",
          "data": {
            "text/plain": [
              "<IPython.core.display.HTML object>"
            ],
            "text/html": [
              "\n",
              "<style>\n",
              ".qbox{border:1px solid #e5e7eb;border-radius:10px;padding:14px 16px;margin:14px 0;background:#fff;}\n",
              ".qtitle{font-weight:700;font-size:1.05rem;margin-bottom:6px;}\n",
              ".qstem{margin:6px 0 10px 0;}\n",
              ".qchoices{margin:8px 0 0 22px;}\n",
              ".qchoices li{margin:4px 0;}\n",
              ".qlabel{display:inline-block;margin-top:6px;color:#6b7280;font-size:0.9rem}\n",
              ".qcode{background:#0b1021;color:#eaeefb;padding:10px;border-radius:6px;white-space:pre-wrap;overflow:auto;font-family:ui-monospace,Consolas,monospace;}\n",
              "</style>\n",
              "<div class=\"qbox\"><div class=\"qtitle\">Q2</div><div class=\"qstem\">다음 중 if문 구조에 대한 설명으로 **틀린 것**은?</div><div class=\"qlabel\">보기</div><ol class=\"qchoices\"><li>elif는 여러 개 사용할 수 있다.</li><li>else는 선택적으로 사용할 수 있다.</li><li>if는 조건이 참일 때만 실행된다.</li><li>모든 if문에는 반드시 else가 있어야 한다.</li></ol></div>"
            ]
          },
          "metadata": {}
        }
      ],
      "source": [
        "#@title Q2\n",
        "quiz.show_q2()"
      ]
    },
    {
      "cell_type": "code",
      "execution_count": 36,
      "metadata": {
        "id": "fce686f7",
        "colab": {
          "base_uri": "https://localhost:8080/",
          "height": 154
        },
        "outputId": "35926ed0-9740-40d8-8a63-fe65d2de9eb7"
      },
      "outputs": [
        {
          "output_type": "stream",
          "name": "stdout",
          "text": [
            "정답을 입력하세요: 2\n",
            "❌ 오답입니다. 다시 시도해보세요.\n",
            "정답을 입력하세요: 4\n",
            "✅ 정답입니다.\n"
          ]
        },
        {
          "output_type": "display_data",
          "data": {
            "text/plain": [
              "<IPython.core.display.Markdown object>"
            ],
            "text/markdown": "- 정답: **4**\n- `else`는 필수가 아니라 선택입니다."
          },
          "metadata": {}
        },
        {
          "output_type": "execute_result",
          "data": {
            "text/plain": [
              "True"
            ]
          },
          "metadata": {},
          "execution_count": 36
        }
      ],
      "source": [
        "quiz.answer_q2()"
      ]
    },
    {
      "cell_type": "code",
      "execution_count": 69,
      "metadata": {
        "colab": {
          "base_uri": "https://localhost:8080/",
          "height": 219
        },
        "id": "58fcb9ca",
        "outputId": "8954e90d-6b54-4e6f-c324-4a19ae0072b0"
      },
      "outputs": [
        {
          "output_type": "display_data",
          "data": {
            "text/plain": [
              "<IPython.core.display.HTML object>"
            ],
            "text/html": [
              "\n",
              "<style>\n",
              ".qbox{border:1px solid #e5e7eb;border-radius:10px;padding:14px 16px;margin:14px 0;background:#fff;}\n",
              ".qtitle{font-weight:700;font-size:1.05rem;margin-bottom:6px;}\n",
              ".qstem{margin:6px 0 10px 0;}\n",
              ".qchoices{margin:8px 0 0 22px;}\n",
              ".qchoices li{margin:4px 0;}\n",
              ".qlabel{display:inline-block;margin-top:6px;color:#6b7280;font-size:0.9rem}\n",
              ".qcode{background:#0b1021;color:#eaeefb;padding:10px;border-radius:6px;white-space:pre-wrap;overflow:auto;font-family:ui-monospace,Consolas,monospace;}\n",
              "</style>\n",
              "<div class=\"qbox\"><div class=\"qtitle\">Q3</div><div class=\"qstem\">다음 조건문을 **한 줄로** 표현하세요.</div><div class=\"qcode\">if age &gt;= 20:\n",
              "    result = &quot;성인&quot;\n",
              "else:\n",
              "    result = &quot;미성년자&quot;</div></div>"
            ]
          },
          "metadata": {}
        }
      ],
      "source": [
        "#@title Q3\n",
        "quiz.show_q3()"
      ]
    },
    {
      "cell_type": "code",
      "execution_count": 38,
      "metadata": {
        "id": "c1139c4d",
        "colab": {
          "base_uri": "https://localhost:8080/",
          "height": 100
        },
        "outputId": "672c9d19-0e4c-48aa-aaf4-df2ef1feea76"
      },
      "outputs": [
        {
          "output_type": "stream",
          "name": "stdout",
          "text": [
            "정답을 입력하세요: [ \"성인\" if age >= 20 else \"미성년자\"]\n",
            "✅ 정답입니다.\n"
          ]
        },
        {
          "output_type": "display_data",
          "data": {
            "text/plain": [
              "<IPython.core.display.Markdown object>"
            ],
            "text/markdown": "- 예시 정답: `result = \"성인\" if age >= 20 else \"미성년자\"`"
          },
          "metadata": {}
        },
        {
          "output_type": "execute_result",
          "data": {
            "text/plain": [
              "True"
            ]
          },
          "metadata": {},
          "execution_count": 38
        }
      ],
      "source": [
        "quiz.answer_q3()"
      ]
    },
    {
      "cell_type": "code",
      "execution_count": 68,
      "metadata": {
        "colab": {
          "base_uri": "https://localhost:8080/",
          "height": 184
        },
        "id": "df07dd98",
        "outputId": "bb5ae425-29d2-4606-d85a-930b9644db96"
      },
      "outputs": [
        {
          "output_type": "display_data",
          "data": {
            "text/plain": [
              "<IPython.core.display.HTML object>"
            ],
            "text/html": [
              "\n",
              "<style>\n",
              ".qbox{border:1px solid #e5e7eb;border-radius:10px;padding:14px 16px;margin:14px 0;background:#fff;}\n",
              ".qtitle{font-weight:700;font-size:1.05rem;margin-bottom:6px;}\n",
              ".qstem{margin:6px 0 10px 0;}\n",
              ".qchoices{margin:8px 0 0 22px;}\n",
              ".qchoices li{margin:4px 0;}\n",
              ".qlabel{display:inline-block;margin-top:6px;color:#6b7280;font-size:0.9rem}\n",
              ".qcode{background:#0b1021;color:#eaeefb;padding:10px;border-radius:6px;white-space:pre-wrap;overflow:auto;font-family:ui-monospace,Consolas,monospace;}\n",
              "</style>\n",
              "<div class=\"qbox\"><div class=\"qtitle\">Q4</div><div class=\"qstem\">다음 코드의 출력 결과는 무엇입니까?</div><div class=\"qcode\">for i in range(2, 7, 2):\n",
              "    print(i, end=&#x27; &#x27;)</div></div>"
            ]
          },
          "metadata": {}
        }
      ],
      "source": [
        "#@title Q4\n",
        "quiz.show_q4()"
      ]
    },
    {
      "cell_type": "code",
      "execution_count": 41,
      "metadata": {
        "id": "a1ce923e",
        "colab": {
          "base_uri": "https://localhost:8080/",
          "height": 100
        },
        "outputId": "39b7c9ac-8312-4b52-b98f-97528fbd4bee"
      },
      "outputs": [
        {
          "output_type": "stream",
          "name": "stdout",
          "text": [
            "정답을 입력하세요: 2 4 6\n",
            "✅ 정답입니다.\n"
          ]
        },
        {
          "output_type": "display_data",
          "data": {
            "text/plain": [
              "<IPython.core.display.Markdown object>"
            ],
            "text/markdown": "- 정답: **2 4 6**"
          },
          "metadata": {}
        },
        {
          "output_type": "execute_result",
          "data": {
            "text/plain": [
              "True"
            ]
          },
          "metadata": {},
          "execution_count": 41
        }
      ],
      "source": [
        "quiz.answer_q4()"
      ]
    },
    {
      "cell_type": "code",
      "execution_count": 67,
      "metadata": {
        "colab": {
          "base_uri": "https://localhost:8080/",
          "height": 201
        },
        "id": "fddc2874",
        "outputId": "fc860d2a-2b9e-4288-a670-f7794099316b"
      },
      "outputs": [
        {
          "output_type": "display_data",
          "data": {
            "text/plain": [
              "<IPython.core.display.HTML object>"
            ],
            "text/html": [
              "\n",
              "<style>\n",
              ".qbox{border:1px solid #e5e7eb;border-radius:10px;padding:14px 16px;margin:14px 0;background:#fff;}\n",
              ".qtitle{font-weight:700;font-size:1.05rem;margin-bottom:6px;}\n",
              ".qstem{margin:6px 0 10px 0;}\n",
              ".qchoices{margin:8px 0 0 22px;}\n",
              ".qchoices li{margin:4px 0;}\n",
              ".qlabel{display:inline-block;margin-top:6px;color:#6b7280;font-size:0.9rem}\n",
              ".qcode{background:#0b1021;color:#eaeefb;padding:10px;border-radius:6px;white-space:pre-wrap;overflow:auto;font-family:ui-monospace,Consolas,monospace;}\n",
              "</style>\n",
              "<div class=\"qbox\"><div class=\"qtitle\">Q5</div><div class=\"qstem\">빈칸을 채워 코드를 완성하세요.</div><div class=\"qcode\">fruits = [&quot;apple&quot;, &quot;banana&quot;, &quot;cherry&quot;]\n",
              "for ____, ____ in enumerate(fruits, start=1):\n",
              "    print(____, ____)</div></div>"
            ]
          },
          "metadata": {}
        }
      ],
      "source": [
        "#@title Q5\n",
        "quiz.show_q5()"
      ]
    },
    {
      "cell_type": "code",
      "execution_count": null,
      "metadata": {
        "id": "4601812f"
      },
      "outputs": [],
      "source": [
        "quiz.answer_q5()"
      ]
    },
    {
      "cell_type": "code",
      "execution_count": 66,
      "metadata": {
        "colab": {
          "base_uri": "https://localhost:8080/",
          "height": 371
        },
        "id": "6191d4e4",
        "outputId": "41dd7843-a4aa-4d08-fcb0-9574a14aa11c"
      },
      "outputs": [
        {
          "output_type": "display_data",
          "data": {
            "text/plain": [
              "<IPython.core.display.HTML object>"
            ],
            "text/html": [
              "\n",
              "<style>\n",
              ".qbox{border:1px solid #e5e7eb;border-radius:10px;padding:14px 16px;margin:14px 0;background:#fff;}\n",
              ".qtitle{font-weight:700;font-size:1.05rem;margin-bottom:6px;}\n",
              ".qstem{margin:6px 0 10px 0;}\n",
              ".qchoices{margin:8px 0 0 22px;}\n",
              ".qchoices li{margin:4px 0;}\n",
              ".qlabel{display:inline-block;margin-top:6px;color:#6b7280;font-size:0.9rem}\n",
              ".qcode{background:#0b1021;color:#eaeefb;padding:10px;border-radius:6px;white-space:pre-wrap;overflow:auto;font-family:ui-monospace,Consolas,monospace;}\n",
              "</style>\n",
              "<div class=\"qbox\"><div class=\"qtitle\">Q6</div><div class=\"qstem\">다음 `while`문에서 **무한 루프를 깨기 위해** 빈칸(`_____`)에 들어갈 구문을 고르시오.<div class=\"qcode\">i = 0\n",
              "while True:\n",
              "    i += 1\n",
              "    if i > 5:\n",
              "        _____\n",
              "    print(i)</div></div><div class=\"qlabel\">보기</div><ol class=\"qchoices\"><li>break</li><li>continue</li><li>pass</li><li>raise SystemExit</li></ol></div>"
            ]
          },
          "metadata": {}
        }
      ],
      "source": [
        "#@title Q6\n",
        "quiz.show_q6()"
      ]
    },
    {
      "cell_type": "code",
      "execution_count": null,
      "metadata": {
        "id": "5f5d867f"
      },
      "outputs": [],
      "source": [
        "quiz.answer_q6()"
      ]
    },
    {
      "cell_type": "code",
      "execution_count": 72,
      "metadata": {
        "colab": {
          "base_uri": "https://localhost:8080/",
          "height": 219
        },
        "id": "b7af1c88",
        "outputId": "f5ab6042-dcb6-4f84-8c01-3f830f646d83"
      },
      "outputs": [
        {
          "output_type": "display_data",
          "data": {
            "text/plain": [
              "<IPython.core.display.HTML object>"
            ],
            "text/html": [
              "\n",
              "<style>\n",
              ".qbox{border:1px solid #e5e7eb;border-radius:10px;padding:14px 16px;margin:14px 0;background:#fff;}\n",
              ".qtitle{font-weight:700;font-size:1.05rem;margin-bottom:6px;}\n",
              ".qstem{margin:6px 0 10px 0;}\n",
              ".qchoices{margin:8px 0 0 22px;}\n",
              ".qchoices li{margin:4px 0;}\n",
              ".qlabel{display:inline-block;margin-top:6px;color:#6b7280;font-size:0.9rem}\n",
              ".qcode{background:#0b1021;color:#eaeefb;padding:10px;border-radius:6px;white-space:pre-wrap;overflow:auto;font-family:ui-monospace,Consolas,monospace;}\n",
              "</style>\n",
              "<div class=\"qbox\"><div class=\"qtitle\">Q7</div><div class=\"qstem\">다음 코드의 출력 결과는 무엇입니까?</div><div class=\"qcode\">n = 1\n",
              "while n &lt; 4:\n",
              "    print(n)\n",
              "    n += 1</div></div>"
            ]
          },
          "metadata": {}
        }
      ],
      "source": [
        "#@title Q7\n",
        "quiz.show_q7()"
      ]
    },
    {
      "cell_type": "code",
      "execution_count": 73,
      "metadata": {
        "id": "9dffd972",
        "colab": {
          "base_uri": "https://localhost:8080/",
          "height": 136
        },
        "outputId": "4d128f1c-93a5-44bf-c580-e21bd4421665"
      },
      "outputs": [
        {
          "output_type": "stream",
          "name": "stdout",
          "text": [
            "정답을 입력하세요: 1\n",
            "❌ 오답입니다. 다시 시도해보세요.\n",
            "정답을 입력하세요: 1 2 3\n",
            "✅ 정답입니다.\n"
          ]
        },
        {
          "output_type": "display_data",
          "data": {
            "text/plain": [
              "<IPython.core.display.Markdown object>"
            ],
            "text/markdown": "- 정답: **1 2 3** (줄바꿈으로 출력됨)"
          },
          "metadata": {}
        },
        {
          "output_type": "execute_result",
          "data": {
            "text/plain": [
              "True"
            ]
          },
          "metadata": {},
          "execution_count": 73
        }
      ],
      "source": [
        "quiz.answer_q7()"
      ]
    },
    {
      "cell_type": "code",
      "execution_count": 94,
      "metadata": {
        "colab": {
          "base_uri": "https://localhost:8080/",
          "height": 246
        },
        "id": "9818b4b2",
        "outputId": "0a793129-5af5-4370-dbb5-0de4fd64d79c"
      },
      "outputs": [
        {
          "output_type": "display_data",
          "data": {
            "text/plain": [
              "<IPython.core.display.HTML object>"
            ],
            "text/html": [
              "\n",
              "<style>\n",
              ".qbox{border:1px solid #e5e7eb;border-radius:10px;padding:14px 16px;margin:14px 0;background:#fff;}\n",
              ".qtitle{font-weight:700;font-size:1.05rem;margin-bottom:6px;}\n",
              ".qstem{margin:6px 0 10px 0;}\n",
              ".qchoices{margin:8px 0 0 22px;}\n",
              ".qchoices li{margin:4px 0;}\n",
              ".qlabel{display:inline-block;margin-top:6px;color:#6b7280;font-size:0.9rem}\n",
              ".qcode{background:#0b1021;color:#eaeefb;padding:10px;border-radius:6px;white-space:pre-wrap;overflow:auto;font-family:ui-monospace,Consolas,monospace;}\n",
              "</style>\n",
              "<div class=\"qbox\"><div class=\"qtitle\">Q8</div><div class=\"qstem\">다음 중 설명으로 틀린 것은?</div><div class=\"qlabel\">보기</div><ol class=\"qchoices\"><li>일반적으로 설치가 완료된 라이브러리는 import 문을 통해 코드 내에서 불러와 사용한다.</li><li>Python에서는 특정 모듈 전체 또는 일부만 선택적으로 불러올 수 있다.</li><li>라이브러리 명이 긴 경우에는 약어(Alias)를 지정하여 간결하게 사용할 수 있다.</li><li>from 문은 모듈 전체만 불러올 수 있으며 일부 구성요소만 선택적으로 불러오는 것은 불가능하다.</li></ol></div>"
            ]
          },
          "metadata": {}
        }
      ],
      "source": [
        "#@title Q8\n",
        "quiz.show_q8()"
      ]
    },
    {
      "cell_type": "code",
      "execution_count": 95,
      "metadata": {
        "id": "aa45f3de",
        "colab": {
          "base_uri": "https://localhost:8080/",
          "height": 100
        },
        "outputId": "849cb2fa-1006-4bc6-f822-d1293b010def"
      },
      "outputs": [
        {
          "output_type": "stream",
          "name": "stdout",
          "text": [
            "정답을 입력하세요: 4\n",
            "✅ 정답입니다.\n"
          ]
        },
        {
          "output_type": "display_data",
          "data": {
            "text/plain": [
              "<IPython.core.display.Markdown object>"
            ],
            "text/markdown": "정답: 4\nfrom 문은 일부 구성요소만 선택적으로 불러올 수 있습니다. 예: from numpy import array, mean 또는 from numpy import random as rnd"
          },
          "metadata": {}
        },
        {
          "output_type": "execute_result",
          "data": {
            "text/plain": [
              "True"
            ]
          },
          "metadata": {},
          "execution_count": 95
        }
      ],
      "source": [
        "quiz.answer_q8()"
      ]
    },
    {
      "cell_type": "code",
      "execution_count": 96,
      "metadata": {
        "colab": {
          "base_uri": "https://localhost:8080/",
          "height": 246
        },
        "id": "2bc85959",
        "outputId": "4ce3331a-3217-4a39-e12e-48b639da2afb"
      },
      "outputs": [
        {
          "output_type": "display_data",
          "data": {
            "text/plain": [
              "<IPython.core.display.HTML object>"
            ],
            "text/html": [
              "\n",
              "<style>\n",
              ".qbox{border:1px solid #e5e7eb;border-radius:10px;padding:14px 16px;margin:14px 0;background:#fff;}\n",
              ".qtitle{font-weight:700;font-size:1.05rem;margin-bottom:6px;}\n",
              ".qstem{margin:6px 0 10px 0;}\n",
              ".qchoices{margin:8px 0 0 22px;}\n",
              ".qchoices li{margin:4px 0;}\n",
              ".qlabel{display:inline-block;margin-top:6px;color:#6b7280;font-size:0.9rem}\n",
              ".qcode{background:#0b1021;color:#eaeefb;padding:10px;border-radius:6px;white-space:pre-wrap;overflow:auto;font-family:ui-monospace,Consolas,monospace;}\n",
              "</style>\n",
              "<div class=\"qbox\"><div class=\"qtitle\">Q9</div><div class=\"qstem\">다음 중 pandas.DataFrame.describe()의 기본 출력(수치형 기준)에 포함되지 않는 것은?</div><div class=\"qlabel\">보기</div><ol class=\"qchoices\"><li>분산(variance)</li><li>평균(mean)</li><li>표준편차(std)</li><li>사분위수(25%와 75%)</li></ol></div>"
            ]
          },
          "metadata": {}
        }
      ],
      "source": [
        "#@title Q9\n",
        "quiz.show_q9()"
      ]
    },
    {
      "cell_type": "code",
      "execution_count": 97,
      "metadata": {
        "id": "5712e823",
        "colab": {
          "base_uri": "https://localhost:8080/",
          "height": 100
        },
        "outputId": "d4ee148c-0cf8-4a21-f36b-edf0a1aaf147"
      },
      "outputs": [
        {
          "output_type": "stream",
          "name": "stdout",
          "text": [
            "정답을 입력하세요: 1\n",
            "✅ 정답입니다.\n"
          ]
        },
        {
          "output_type": "display_data",
          "data": {
            "text/plain": [
              "<IPython.core.display.Markdown object>"
            ],
            "text/markdown": "정답: 1\ndescribe 기본 수치형 출력: count, mean, std, min, 25%, 50%(median), 75%, max. 분산(var)은 포함되지 않습니다."
          },
          "metadata": {}
        },
        {
          "output_type": "execute_result",
          "data": {
            "text/plain": [
              "True"
            ]
          },
          "metadata": {},
          "execution_count": 97
        }
      ],
      "source": [
        "quiz.answer_q9()"
      ]
    },
    {
      "cell_type": "code",
      "execution_count": 98,
      "metadata": {
        "colab": {
          "base_uri": "https://localhost:8080/",
          "height": 246
        },
        "id": "2d9e951e",
        "outputId": "fe55e74c-45f7-49ca-8151-1fbcce065059"
      },
      "outputs": [
        {
          "output_type": "display_data",
          "data": {
            "text/plain": [
              "<IPython.core.display.HTML object>"
            ],
            "text/html": [
              "\n",
              "<style>\n",
              ".qbox{border:1px solid #e5e7eb;border-radius:10px;padding:14px 16px;margin:14px 0;background:#fff;}\n",
              ".qtitle{font-weight:700;font-size:1.05rem;margin-bottom:6px;}\n",
              ".qstem{margin:6px 0 10px 0;}\n",
              ".qchoices{margin:8px 0 0 22px;}\n",
              ".qchoices li{margin:4px 0;}\n",
              ".qlabel{display:inline-block;margin-top:6px;color:#6b7280;font-size:0.9rem}\n",
              ".qcode{background:#0b1021;color:#eaeefb;padding:10px;border-radius:6px;white-space:pre-wrap;overflow:auto;font-family:ui-monospace,Consolas,monospace;}\n",
              "</style>\n",
              "<div class=\"qbox\"><div class=\"qtitle\">Q10</div><div class=\"qstem\">다음 중 함수와 설명의 짝이 잘못된 것은?</div><div class=\"qlabel\">보기</div><ol class=\"qchoices\"><li>평균(mean): np.mean(a)</li><li>분산(variance, 표본): np.var(a, ddof=0)</li><li>사분위수범위(IQR): np.percentile(a,75) - np.percentile(a,25)</li><li>범위(range): np.max(a) - np.min(a)</li></ol></div>"
            ]
          },
          "metadata": {}
        }
      ],
      "source": [
        "#@title Q10\n",
        "quiz.show_q10()"
      ]
    },
    {
      "cell_type": "code",
      "execution_count": 99,
      "metadata": {
        "id": "d28c7516",
        "colab": {
          "base_uri": "https://localhost:8080/",
          "height": 100
        },
        "outputId": "47408a55-5c25-42a9-dd10-a41209f01c04"
      },
      "outputs": [
        {
          "output_type": "stream",
          "name": "stdout",
          "text": [
            "정답을 입력하세요: 2\n",
            "✅ 정답입니다.\n"
          ]
        },
        {
          "output_type": "display_data",
          "data": {
            "text/plain": [
              "<IPython.core.display.Markdown object>"
            ],
            "text/markdown": "정답: 2\n표본 분산은 ddof=1, 모집단 분산은 ddof=0을 사용합니다."
          },
          "metadata": {}
        },
        {
          "output_type": "execute_result",
          "data": {
            "text/plain": [
              "True"
            ]
          },
          "metadata": {},
          "execution_count": 99
        }
      ],
      "source": [
        "quiz.answer_q10()"
      ]
    },
    {
      "cell_type": "code",
      "source": [],
      "metadata": {
        "id": "_BjlfsbK7Ev5"
      },
      "execution_count": null,
      "outputs": []
    }
  ]
}