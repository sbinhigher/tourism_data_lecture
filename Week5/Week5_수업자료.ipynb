{
  "nbformat": 4,
  "nbformat_minor": 0,
  "metadata": {
    "colab": {
      "provenance": []
    },
    "kernelspec": {
      "name": "python3",
      "display_name": "Python 3"
    },
    "language_info": {
      "name": "python"
    }
  },
  "cells": [
    {
      "cell_type": "markdown",
      "source": [
        "# Week5. 라이브러리의 활용\n",
        "> 본 차시에서는 **라이브러리(Library)** 의 개념과 필요성을 이해하고,\n",
        "데이터 분석에서 핵심적으로 활용되는 **Pandas 및 Matplotlib 등의 라이브러리**의 기본 활용법을 학습합니다.\n",
        ">\n",
        "> 이전 차시에서는 Python의 기본 문법과 데이터 타입, 제어문 등 프로그래밍의 기초 내용을 학습하였습니다.\n",
        "이번 시간에는 이러한 기초를 바탕으로 실제 데이터를 처리하고 분석하기 위해 필요한 도구적 사고를 확장하고자 합니다.\n",
        "이를 위해 라이브러리의 역할과 등장 배경, 활용 필요성을 중심으로 학습을 진행합니다."
      ],
      "metadata": {
        "id": "JwhbFMuI6ptU"
      }
    },
    {
      "cell_type": "markdown",
      "source": [
        "# 📖 라이브러리(Library)란 무엇일까?\n",
        "> 라이브러리는 특정 작업을 수행하기 위해 필요한 함수(Function), 클래스(Class), 모듈(Module), 패키지(Package) 등을 체계적으로 구성한 도구 모음입니다.\n",
        "\n",
        "설명하기에 앞서 아래 영상을 시청해봅시다."
      ],
      "metadata": {
        "id": "pmaN2ERX8L1E"
      }
    },
    {
      "cell_type": "code",
      "source": [
        "#@title 영상자료 | 전과자 - 개발자 빡치게 하는 법\n",
        "from IPython.display import YouTubeVideo, display\n",
        "\n",
        "video = YouTubeVideo(\"vYuER_3og_M\", width=300, height=500)\n",
        "display(video)\n",
        "### 출처 : Youtube | ootb Studio"
      ],
      "metadata": {
        "colab": {
          "base_uri": "https://localhost:8080/",
          "height": 522
        },
        "cellView": "form",
        "id": "v6eAkaie8vdo",
        "outputId": "70ed5f7a-1019-40df-e301-b3c288319bf1"
      },
      "execution_count": 15,
      "outputs": [
        {
          "output_type": "display_data",
          "data": {
            "text/plain": [
              "<IPython.lib.display.YouTubeVideo at 0x7f1526e63770>"
            ],
            "text/html": [
              "\n",
              "        <iframe\n",
              "            width=\"300\"\n",
              "            height=\"500\"\n",
              "            src=\"https://www.youtube.com/embed/vYuER_3og_M\"\n",
              "            frameborder=\"0\"\n",
              "            allowfullscreen\n",
              "            \n",
              "        ></iframe>\n",
              "        "
            ],
            "image/jpeg": "[encoded data removed]"
          },
          "metadata": {}
        }
      ]
    },
    {
      "cell_type": "markdown",
      "source": [
        "## 라이브러리 등장 배경\n",
        "\n",
        "### 과거\n",
        "\t•\t초기 프로그래밍 환경에서는 간단한 기능 하나를 구현하기 위해서도 모든 코드를 직접 작성하였음.\n",
        "\t•\t코드의 길이가 길고 구조가 복잡하여 가독성이 떨어졌음.\n",
        "\t•\t동일한 기능을 여러 프로그램에서 반복적으로 구현해야 했음.\n",
        "\t•\t오류 발생률이 높고, 수정 및 유지보수가 어려웠음.\n",
        "\t•\t개발자는 핵심 로직보다 구현 과정에 많은 시간을 소모하였음.\n",
        "\n",
        "\n",
        "### 현재\n",
        "\t•\t반복적으로 사용되는 기능이 모듈화(modularization) 되어 라이브러리 형태로 제공됨.\n",
        "\t•\t개발자는 필요한 기능을 import 구문으로 호출하여 즉시 사용할 수 있음.\n",
        "\t•\t코드의 효율성과 안정성이 향상되고, 유지보수가 용이해짐.\n",
        "\t•\t검증된 코드의 재사용을 통해 오류를 최소화하고 개발 속도를 높일 수 있음.\n",
        "\t•\t분석과 문제 해결 등 핵심 로직에 집중할 수 있는 환경이 조성됨.\n",
        "\n",
        "### ⚠️ 라이브러리 등장 전후 예시 - 표준편차 구하기(참고만!)\n",
        "\n",
        "#### 과거\n",
        "\n",
        "```python\n",
        "arr = [10, 12, 23, 23, 16, 23, 21, 16]\n",
        "\n",
        "n = 0\n",
        "mean = 0.0\n",
        "M2 = 0.0\n",
        "\n",
        "for x in data:\n",
        "    n += 1\n",
        "    delta = x - mean\n",
        "    mean += delta / n\n",
        "    M2 += delta * (x - mean)\n",
        "\n",
        "if n < 2:\n",
        "    sample_std = 0.0\n",
        "    population_std = 0.0\n",
        "else:\n",
        "    population_variance = M2 / n\n",
        "    sample_variance = M2 / (n - 1)\n",
        "    population_std = population_variance ** 0.5\n",
        "    sample_std = sample_variance ** 0.5\n",
        "    \n",
        "print(sample_std) # 표본 표준편차\n",
        "print(population_std) # 모집단 표준편차\n",
        "```\n",
        "</br>\n",
        "\n",
        "#### 현재\n",
        "```python\n",
        "arr = [10, 12, 23, 23, 16, 23, 21, 16]\n",
        "\n",
        "import numpy as np\n",
        "\n",
        "print(np.std(arr, ddof=1)) # ddof=1 : 표본 대상\n",
        "print(np.std(arr, ddof=0)) # ddof=0 : 모집단 대상\n",
        "```\n",
        ""
      ],
      "metadata": {
        "id": "k6j1Sgon8QYF"
      }
    },
    {
      "cell_type": "markdown",
      "source": [
        "# 라이브러리 사용 방법\n",
        "\n",
        "개요도\n",
        "\n",
        "---\n"
      ],
      "metadata": {
        "id": "vEkhXXO8EvLj"
      }
    },
    {
      "cell_type": "markdown",
      "source": [
        "## 1️⃣ 라이브러리 설치\n",
        "- 일반적으로 기본적인 라이브러리는 이미 개발 환경(Colab, Jupyter 등)에 설치된 상태 예)Pandas, numpy 등\n",
        "- 라이브러리가 없거나 버전을 수정할 경우에는 다음과 같은 방법으로 설치할 수 있음.\n",
        "```python\n",
        "pip install [`라이브러리 명`] # Local에서 -> Window는 프롬프트, Mac은 터미널 등\n",
        "conda install [`라이브러리 명`] # conda 환경(기존 환경과 독립적인 환경,즉 가상환경에서 작업할 때 사용)\n",
        "```\n",
        "- 라이브러리 버전을 선택할 수도 있습니다. (일반 환경에서는 권장하지 않음!)\n",
        "```python\n",
        "conda install pandas==2.2.2\n",
        "```\n",
        "- 일괄로 여러 라이브러리를 설치할 수도 있습니다.\n",
        "```python\n",
        "pip install [`라이브러리1`] [`라이브러리2`] [`라이브러리3`]\n",
        "```\n",
        "\n",
        "### 주의⚠️\n",
        "- Colab이나 Jupyter Notebook같은 개발환경에서 스크립트로 설치할 경우에는 **맨 앞에 '!'를 붙임**.\n",
        "```python\n",
        "!pip install [`라이브러리 명`]\n",
        "!conda install [`라이브러리 명`]\n",
        "```\n",
        "- 각 라이브러리마다 설치 시 호출명이 다르기 때문에 필요한 라이브러리는 개발처 홈페이지나 Github를 확인해야함, 혹은 Chatgpt를 활용하는 방법도 있음. (라이브러리 명으로 설치가 안될 수 있음)\n",
        "  - Pandas : https://pandas.pydata.org/docs/getting_started/install.html\n",
        "  - Numpy : https://numpy.org/install/\n",
        "\n",
        "- 위 방법 이외에도 배포 방법에 따라 라이브러리 설치할 수 있는 방법은 다양함.\n",
        "\n",
        "```python\n",
        "# == GitHub 레포지토리에서 직접 설치(예시) ==\n",
        "pip install \"git+https://github.com/USER/REPO.git@v0.1.0\"\n",
        "# == 배포 파일(whl/zip) URL로 직접 설치(예시) ==\n",
        "pip install https://example.com/path/to/yourpkg-0.1.0.zip\n",
        "```\n"
      ],
      "metadata": {
        "id": "SilmQYYdBN9i"
      }
    },
    {
      "cell_type": "markdown",
      "source": [
        "### 예제 1. 라이브러리를 설치해봅시다."
      ],
      "metadata": {
        "id": "ji_7zqjLLlWp"
      }
    },
    {
      "cell_type": "code",
      "execution_count": null,
      "metadata": {
        "id": "uC25B2H46b_g"
      },
      "outputs": [],
      "source": [
        "# 판다스 설치하기\n",
        "!pip install pandas"
      ]
    },
    {
      "cell_type": "code",
      "source": [
        "# 예제 라이브러리(edu_sucess_demo) 설치하기\n",
        "!pip install \"git+https://github.com/sbinhigher/tourism_data_lecture.git@main#subdirectory=Week5/edu_success_demo\""
      ],
      "metadata": {
        "id": "mlDZXo_ARasD"
      },
      "execution_count": null,
      "outputs": []
    },
    {
      "cell_type": "markdown",
      "source": [
        "---\n",
        "## 2️⃣ 라이브러리 불러오기\n",
        "-\t일반적으로 설치가 완료된 라이브러리는 **import 문**을 통해 코드 내에서 불러와 사용합니다.\n",
        "-\tPython에서는 특정 모듈 전체 또는 일부만 선택적으로 불러올 수 있습니다.\n",
        "- 라이브러리 명이 긴 경우에는 **약어(Alias)를 지정**하여 간결하게 사용할 수 있습니다.\n",
        "- **from 문**을 통해서 일부 모듈만 선택적으로 불러올 수도 있습니다.\n",
        "\n",
        "```python\n",
        "import [`라이브러리 명`]                # 라이브러리 불러오기\n",
        "import [`라이브러리 명`] as [`약어`]     # 약어(alias) 지정\n",
        "from [`라이브러리 명`] import [`모듈`]   # 선택적으로 불러오기\n",
        "```\n",
        "- 여러 라이브러리를 동시에 불러올 수도 있습니다.\n",
        "```python\n",
        "import numpy as np, pandas as pd, matplotlib.pyplot as plt\n",
        "```\n",
        "- Python에서 불러온 라이브러리는 코드 어디서든 사용 가능합니다. </br>\n",
        "(단, 임포트는 항상 스크립트의 상단부에 두는 것이 가독성과 관리에 좋습니다.)\n",
        "\n",
        "### 주의⚠️\n",
        "- 라이브러리는 **최초 1회**만 불러오면, 이후에는 다시 불러올 필요는 없습니다. </br>\n",
        "단, 세션이 종료되거나 메모리가 out되면 다시 불러와야 합니다.\n",
        "- 라이브러리의 약어(alias)는 관용적으로 정해진 이름을 따르는 것이 좋습니다.\n",
        "  - pandas → pd\n",
        "  - numpy → np\n",
        "  - matplotlib.pyplot → plt\n",
        "  - seaborn → sns\n",
        "- 특정 버전에서만 제공되는 기능을 확인하려면 버전 정보를 함께 확인할 수 있습니다.\n",
        "```python\n",
        "import pandas as pd\n",
        "print(pd.__version__)\n",
        "```\n",
        "\n"
      ],
      "metadata": {
        "id": "VOhhXUFTNLXh"
      }
    },
    {
      "cell_type": "markdown",
      "source": [
        "### 예제 2. 라이브러리를 불러와봅시다."
      ],
      "metadata": {
        "id": "1GPzv-gxR5gW"
      }
    },
    {
      "cell_type": "code",
      "source": [
        "# 빈칸에 들어갈 구문을 작성해봅시다.\n",
        "____ pandas __ pd\n",
        "____ numpy __ np\n",
        "____ matplotlib.pyplot __ plt\n",
        "\n",
        "print(pd.__version__)\n",
        "print(np.__version__)\n",
        "print(plt.__version__)"
      ],
      "metadata": {
        "id": "AVwBLjiMWQYF"
      },
      "execution_count": null,
      "outputs": []
    },
    {
      "cell_type": "markdown",
      "source": [
        "---\n",
        "## 3️⃣ 라이브러리 사용하기\n",
        "- 설치 및 불러오기가 완료되면 이제 실제로 라이브러리를 **활용**할 수 있습니다.  \n",
        "- 각 라이브러리에는 다양한 기능이 있지만, **기초 단계에서는 ‘데이터 불러오기 → 처리 → 확인’** 흐름을 이해하는 것이 중요합니다.\n",
        "\n",
        "### ⚠️ 주의\n",
        "- 코드 실행 시 오류가 발생하면 **설치 및 import 상태**를 먼저 점검합니다.  \n",
        "- Colab, Jupyter 환경에서는 셀 단위로 실행하므로, **import문은 반드시 코드 맨 위에 위치**시키는 것이 좋습니다.  \n",
        "- 데이터 파일이 인식되지 않는 경우, **작업 경로(`os.getcwd()`)와 파일명**을 다시 확인해야 합니다.\n",
        "\n",
        "### 📎 참고 자료\n",
        "- Pandas 공식 문서: https://pandas.pydata.org/docs/\n",
        "- NumPy 공식 문서: https://numpy.org/doc/\n",
        "- Matplotlib 공식 문서: https://matplotlib.org/stable/gallery/index.html"
      ],
      "metadata": {
        "id": "0-HvvbJ-T1fj"
      }
    },
    {
      "cell_type": "markdown",
      "source": [
        "\n",
        "### ⭐️ Pandas — 데이터 다루기\n",
        "```python\n",
        "import pandas as pd\n",
        "\n",
        "# 1) CSV 파일 불러오기\n",
        "df = pd.read_csv(\"jeju_tour.csv\")\n",
        "\n",
        "# 2) 데이터 구조 확인\n",
        "print(df.head())      # 상위 5행 미리보기 -> ()안 숫자 선언하면 그만큼 보임\n",
        "print(df.tail())      # 하위 5행 미리보기\n",
        "print(df.info())      # 컬럼 정보 및 결측치 확인\n",
        "\n",
        "# 3) 기본 통계 확인\n",
        "print(df.describe())  # 평균, 표준편차 등 요약 통계\n",
        "\n",
        "# 4) 특정 열 접근 및 계산\n",
        "print(df[\"방문자수\"].mean())  # 평균 방문자 수 계산\n",
        "```\n",
        "📘 **활용 포인트**  \n",
        "- `read_csv()`, `head()`, `info()`, `describe()` 는 데이터 분석의 기본 진입 함수입니다.  \n",
        "- Pandas의 **DataFrame 구조**는 이후 분석, 시각화, 모델링의 기반이 됩니다."
      ],
      "metadata": {
        "id": "jSRUtpj9BnZl"
      }
    },
    {
      "cell_type": "markdown",
      "source": [
        "#### ❓데이터프레임\n",
        "> 다음 시간에 더 자세하게 다루겠지만, pandas는 저희가 일반적으로 엑셀이나 표의 형태로 된 데이터, 즉 데이터프레임이라는 객체를 다룰 때 활용되는 라이브러리 입니다.\n",
        ">\n",
        "> 지난 시간에 배웠던 딕셔너리(dict)의 특성을 생각해봅시다.\n",
        "\n",
        "```python\n",
        "person = {\"name\": \"Alice\", \"age\": 25, \"city\": \"Seoul\"}\n",
        "```\n",
        "\n",
        "해당 딕셔너리를 데이터프레임 한 행으로 만들면, 데이터를 조회‧수정하기가 더 쉬워집니다. **가장 간단한 방법은 리스트로 감싸 한 행짜리 레코드 목록으로 전달하는 것입니다.**\n",
        "\n",
        "```python\n",
        "pd.DataFrame([person]) # 한 행(레코드)짜리 리스트로 감싼다.\n",
        "```\n",
        "\n",
        "해당 코드를 출력하면 다음과 같이 나옵니다.\n",
        "\n",
        "||name|age|city|\n",
        "|----|----|----|----|\n",
        "|0|Alice|25|Seoul|\n",
        "\n",
        "즉, 리스트의 각 딕셔너리 1개 = 데이터프레임의 1행으로 해석됩니다.\n",
        "여러 명의 정보를 담고 싶다면 딕셔너리들의 리스트로 구성하면 됩니다.\n",
        "\n",
        "```python\n",
        "people = [\n",
        "    {\"name\": \"Alice\", \"age\": 25, \"city\": \"Seoul\"},\n",
        "    {\"name\": \"Bob\",   \"age\": 30, \"city\": \"Busan\"}\n",
        "]\n",
        "```\n",
        "\n",
        "이를 데이터프레임으로 변환하고, 출력하면 다음과 같습니다.\n",
        "\n",
        "||name|age|city|\n",
        "|----|----|----|----|\n",
        "|0|Alice|25|Seoul|\n",
        "|1|Bob|30|Busan|\n",
        "\n",
        "즉, **“딕셔너리의 키 → DataFrame의 컬럼명”, “딕셔너리의 값 → 스칼라(한 행) 또는 리스트(여러 행)”** 로 이해하면 쉽습니다.\n"
      ],
      "metadata": {
        "id": "utPPSZlNHVQY"
      }
    },
    {
      "cell_type": "markdown",
      "source": [
        "#### 📖 pd.DataFrame.describe()를 통해서 얻을 수 있는 값\n",
        "\n",
        "- 수치형 데이터\n",
        "| 항목 | 의미 |\n",
        "|------|------|\n",
        "| **count** | 결측이 아닌 값의 개수 |\n",
        "| **mean** | 평균 |\n",
        "| **std** | 표준편차 |\n",
        "| **min** | 최솟값 |\n",
        "| **25%** | 1사분위수 (Q1) |\n",
        "| **50%** | 중앙값 (Q2) |\n",
        "| **75%** | 3사분위수 (Q3) |\n",
        "| **max** | 최댓값 |\n",
        "\n",
        "- 문자열 / 범주형 (object, string, category) / 불리언 (boolean)\n",
        "| 항목 | 의미 |\n",
        "|------|------|\n",
        "| **count** | 결측이 아닌 값의 개수 |\n",
        "| **unique** | 고유값의 개수 |\n",
        "| **top** | 최빈값(가장 자주 등장한 값) |\n",
        "| **freq** | 최빈값의 등장 횟수 |\n",
        "\n",
        "- 날짜/시간형 (datetime64, timedelta64)\n",
        "| 항목 | 의미 |\n",
        "|------|------|\n",
        "| **count** | 결측이 아닌 값의 개수 |\n",
        "| **unique** | 고유한 날짜/시간의 개수 |\n",
        "| **top** | 최빈 날짜/시간 |\n",
        "| **freq** | 최빈 날짜/시간의 등장 횟수 |\n",
        "| **first** | 첫 값 |\n",
        "| **last** | 마지막 값 |\n",
        "\n",
        "\n",
        "### 🧾 예시 코드\n",
        "\n",
        "```python\n",
        "# 기본 요약\n",
        "df.describe()\n",
        "\n",
        "# 수치형만\n",
        "df.describe(include=[np.number])\n",
        "\n",
        "# 범주형만\n",
        "df.describe(include=['object', 'category'])\n",
        "\n",
        "# 분위수 커스터마이즈 (예: 10%, 50%, 90%)\n",
        "df.describe(percentiles=[.1, .5, .9])\n",
        "\n",
        "# Series 하나만 요약\n",
        "df['방문자수'].describe()\n",
        "```"
      ],
      "metadata": {
        "id": "FfH9ywIiAhYc"
      }
    },
    {
      "cell_type": "markdown",
      "source": [
        "### ⭐️ NumPy — 수치 연산 다루기\n",
        "```python\n",
        "import numpy as np\n",
        "\n",
        "# 1) 배열 생성\n",
        "arr = [10, 20, 30, 40, 50]\n",
        "\n",
        "# 2) 기본 연산\n",
        "print(np.mean(arr))  # 평균\n",
        "print(np.std(arr))   # 표준편차\n",
        "\n",
        "# 3) 다차원 배열\n",
        "mat = np.array([[1, 2, 3],\n",
        "                [4, 5, 6]])\n",
        "print(mat.shape)   # (2, 3)\n",
        "print(mat.sum(axis=0))  # 열 단위 합\n",
        "```\n",
        "📘 **활용 포인트**  \n",
        "- NumPy는 반복문 없이 빠르게 수학적 연산을 수행할 수 있습니다.  \n",
        "- Pandas의 내부 계산도 대부분 NumPy를 기반으로 합니다."
      ],
      "metadata": {
        "id": "5NDksRWuBijx"
      }
    },
    {
      "cell_type": "markdown",
      "source": [
        "#### 📖 numpy 함수 모음\n",
        "\n",
        "| 지표 | NumPy 한 줄 |\n",
        "|---|---|\n",
        "| 평균(mean) | `np.mean(a)` |\n",
        "| 표준편차(std, 표본) | `np.std(a, ddof=1)` |\n",
        "| 표준편차(std, 모집단) | `np.std(a, ddof=0)` |\n",
        "| 분산(variance, 표본) | `np.var(a, ddof=1)` |\n",
        "| 분산(variance, 모집단) | `np.var(a, ddof=0)` |\n",
        "| 최솟값(min) | `np.min(a)` |\n",
        "| 최댓값(max) | `np.max(a)` |\n",
        "| 범위(range) | `np.max(a) - np.min(a)` |\n",
        "| 중위수(median) | `np.median(a)` |\n",
        "| 분위수(percentile) | `np.percentile(a, q)`  *(예: q=25,50,75)* |\n",
        "| 사분위수범위(IQR) | `np.percentile(a,75) - np.percentile(a,25)` |\n",
        "| 합(sum) | `np.sum(a)` |"
      ],
      "metadata": {
        "id": "vPOfM09vDaJs"
      }
    },
    {
      "cell_type": "markdown",
      "source": [
        "### ❓ 작업 디렉토리란?\n",
        "> 파이썬이 **현재 파일을 읽거나 저장할 때 기준으로 삼는 폴더 경로**를 의미합니다.\n",
        "\n",
        "- 즉, read_csv() 나 to_csv() 같은 함수를 사용할 때\n",
        "“파일이 어디에 있는가?” 또는 “파일이 어디에 저장되는가?”를 결정하는 기준 위치입니다.\n",
        "\n",
        "- 디렉토리 경로는 '/'를 구분자로 연결되며, 기본적인 구조는 이렇습니다.</br>\n",
        "'폴더1'안에 '폴더1-1'과 '폴더1-2'가 있고, 각 폴더에 '파일1.csv'과 '파일2.csv'가 각각 들어있다면, 각 파일의 경로는 다음과 같이 표현할 수 있습니다.\n",
        "\n",
        "```python\n",
        "폴더1/폴더1-1/파일1.csv # 파일1.csv\n",
        "폴더1/폴더1-2/파일2.csv # 파일2.csv\n",
        "```\n",
        "- 작업 디렉토리는 운영체제에서 기본적으로 사용하는 기능을 파이썬에 사용할 수 있게 도와주는 os 라이브러리를 활용해서 사용할 수 있습니다.\n",
        "\n",
        "```python\n",
        "import os\n",
        "\n",
        "os.getcwd() # 현재 작업 디렉토리\n",
        "os.chdir(`경로`) # 해당 경로를 작업 디렉토리로 변경\n",
        "os.mkdir(`경로/폴더 이름` 혹은 `폴더 이름`) # 해당 경로에 폴더 생성\n",
        "os.listdir(`경로`) # 해당 경로의 파일 목록\n",
        "```\n",
        "\n",
        "- **현재 작업 디렉토리는 '.'**로 표현할 수 있습니다.</br>\n",
        "예를 들어, 현재 작업 디렉토리에 있는 파일1.csv의 경로는 다음과 같이 표현할 수 있습니다.\n",
        "```python\n",
        "./파일1.csv\n",
        "```\n",
        "\n",
        "### 주의⚠️\n",
        "- 파일명을 선언할 경우, 영어나 숫자, 혹은 '-','_'만 사용하여 선언하는 것을 추천합니다. </br>\n",
        "그 이유는 **개발 환경에 따라 한글로 된 파일을 읽지 못하는 경우나 따로 경로를 설정할 때 ' '(공백)같은 특수기호가 작성에 어려움을 줄 수 있습니다.**\n",
        "- 로컬(Jupyter notebook, VScode 등)과 클라우드(Colab)의 디렉토리 구조가 다르기 때문에 로컬에서 작업한 코드를 클라우드에 적용할 때, 파일 경로를 확인하고 수정해야합니다.\n",
        "\n",
        "| 환경 | 기본 작업 디렉토리 | 예시 파일 경로 | 비고 |\n",
        "|------|--------------------|----------------|------|\n",
        "| 💻 **로컬 (Jupyter, VSCode)** | 보통 사용자 폴더 내 프로젝트 경로 | Window : C:/Users/user/Desktop/jeju_tour.csv<br>Macbook : ~/jeju_tour.csv 또는 /Users/user/Desktop/jeju_tour.csv | `.` 은 현재 폴더를 의미 |\n",
        "| ☁️ **Colab (클라우드)** | /content | /content/jeju_tour.csv | Colab의 임시 저장 공간 |\n",
        "\n",
        "\n",
        "- Colab 환경에서는 **Google Drive와 연동**하여 그 안에 있는 파일을 분석에 활용할 수 있습니다."
      ],
      "metadata": {
        "id": "YJhIRZuXntAe"
      }
    },
    {
      "cell_type": "markdown",
      "source": [
        "- 1. 왼쪽에 탭 중에서 '파일' 탭을 클릭합니다.\n",
        "<img src=\"https://i.ibb.co/hJ214f1F/001.png\" width=\"400\">\n",
        "\n",
        "- 2. 누르면 다음과 같은 파일창이 나옵니다. 파일 탭 4개의 탭 중에서 '드라이브 마운트' 탭을 누릅니다.\n",
        "\n",
        "<img src=\"https://i.ibb.co/B2dZd09m/002.png\" width=\"700\">\n",
        "\n",
        "- 3. 누르게 되면 연결 확인 창이 나오거나, 해당 코드가 나옵니다. </br>\n",
        "연결 확인 창이 나오면 'Google Drive에 연결'을 누르고, 코드가 나오면 실행한 후 연결하면 됩니다.\n",
        "<img src=\"https://i.ibb.co/wNS3Rg0F/003.png\" width=\"700\"> </br>\n",
        "<img src=\"https://i.ibb.co/PzFpXbjP/2025-10-24-7-21-25.png\" width=\"700\">\n",
        "\n",
        "- 4. 연결이 되면, '파일' 탭에 'drive' 폴더가 생깁니다.\n",
        "\n",
        "<img src=\"https://i.ibb.co/v69nmb9T/004.png\" width=\"700\">\n",
        "\n",
        "이 폴더는 각자 Google 계정의 Google Drive의 디렉토리고, 해당 디렉토리에 저장된 파일을 불러와서 분석에 활용할 수 있습니다.\n",
        "\n"
      ],
      "metadata": {
        "id": "j6qNEZT0tmt3"
      }
    },
    {
      "cell_type": "markdown",
      "source": [
        "### 예제 3. 앞에서 배운 라이브러리를 사용해봅시다."
      ],
      "metadata": {
        "id": "pGmvLLbCZ6_2"
      }
    },
    {
      "cell_type": "code",
      "source": [
        "#@title 예제 3.1. google drive 연동\n",
        "\n",
        "# 해당 코드를 실행하거나 위에서 안내한 매뉴얼대로 연결하세요.\n",
        "from google.colab import drive\n",
        "drive.mount('/content/drive')"
      ],
      "metadata": {
        "colab": {
          "base_uri": "https://localhost:8080/"
        },
        "collapsed": true,
        "id": "wTUoQuzoT1vC",
        "outputId": "3b01cff3-a670-4463-89f4-f212688de235"
      },
      "execution_count": 3,
      "outputs": [
        {
          "output_type": "stream",
          "name": "stdout",
          "text": [
            "Drive already mounted at /content/drive; to attempt to forcibly remount, call drive.mount(\"/content/drive\", force_remount=True).\n"
          ]
        }
      ]
    },
    {
      "cell_type": "code",
      "source": [
        "#@title 예제 3.2. 작업 경로를 확인, 작업 디렉토리 변경, 폴더 생성을 해봅시다.\n",
        "\n",
        "import os\n",
        "\n",
        "# 현재 작업 디렉토리를 출력해보세요.\n",
        "print(os._____())"
      ],
      "metadata": {
        "id": "mp2BJ-x9pif7"
      },
      "execution_count": null,
      "outputs": []
    },
    {
      "cell_type": "code",
      "source": [
        "# 현재 경로를 '/content/drive/MyDrive'로 변경해봅시다.\n",
        "path = '/content/drive/MyDrive'\n",
        "os._____(path)"
      ],
      "metadata": {
        "id": "PQ_PBSjOzg_4"
      },
      "execution_count": null,
      "outputs": []
    },
    {
      "cell_type": "code",
      "source": [
        "# 변경한 작업 디렉토리에 'tourism_data' 폴더를 생성해봅시다.\n",
        "mk_path = './tourism_data'\n",
        "os._____(mk_path)"
      ],
      "metadata": {
        "id": "kME6FuSs3FTi"
      },
      "execution_count": null,
      "outputs": []
    },
    {
      "cell_type": "code",
      "source": [
        "# 다음 예제를 수행하기에 앞서, 변경한 작업 디렉토리에 'jeju_data.csv' 파일을 업로드하기 위한 아래 코드를 실행해주세요.\n",
        "!wget -O './tourism_data/jeju_data.csv' https://raw.githubusercontent.com/sbinhigher/tourism_data_lecture/main/Week5/jeju_data.csv"
      ],
      "metadata": {
        "id": "4Ul9LBsV7Ipk"
      },
      "execution_count": null,
      "outputs": []
    },
    {
      "cell_type": "code",
      "source": [
        "#@title 예제 3.3. pandas 라이브러리를 사용해봅시다.\n",
        "\n",
        "import pandas as pd\n",
        "\n",
        "# jeju_data.csv가 어디에 있었는지 기억해보고, data_path에 경로를 선언해봅시다.\n",
        "data_path = '경로/파일명.확장자'\n",
        "\n",
        "# csv 파일을 불러와봅시다.\n",
        "df = pd.______(data_path)\n",
        "\n",
        "df"
      ],
      "metadata": {
        "id": "kYtCo0FV8dBb"
      },
      "execution_count": null,
      "outputs": []
    },
    {
      "cell_type": "code",
      "source": [
        "# df가 너무 길어서 일부만 출력해봅시다.\n",
        "\n",
        "## 상위 5개만 출력해봅시다.\n",
        "print(df.____())\n",
        "\n",
        "## 하위 5개만 출력해봅시다.\n",
        "print(df.____())"
      ],
      "metadata": {
        "id": "UjogeLnJ9npY"
      },
      "execution_count": null,
      "outputs": []
    },
    {
      "cell_type": "code",
      "source": [
        "# df에 어떤 컬럼(열)로 이루어져있을까요?\n",
        "\n",
        "## df의 컬럼 정보와 결측 정보를 확인해봅시다.\n",
        "df.____()"
      ],
      "metadata": {
        "id": "gW6ZrvLJ-QJF"
      },
      "execution_count": null,
      "outputs": []
    },
    {
      "cell_type": "code",
      "source": [
        "# df의 데이터는 어떤 식으로 이루어져있을까요?\n",
        "\n",
        "## df의 기본 기술통계를 확인해봅시다.\n",
        "df.____()"
      ],
      "metadata": {
        "id": "vC5hFn-a-jql"
      },
      "execution_count": null,
      "outputs": []
    },
    {
      "cell_type": "code",
      "source": [
        "#@title 예제 3.4. numpy 라이브러리를 사용해봅시다.\n",
        "\n",
        "import numpy as np\n",
        "\n",
        "## df에서 '방문자수' 컬럼의 데이터를 변수로 선언해봅시다.\n",
        "visit_cnt = df______"
      ],
      "metadata": {
        "id": "b1I5Et0n-0Jl"
      },
      "execution_count": null,
      "outputs": []
    },
    {
      "cell_type": "code",
      "source": [
        "## 선언한 변수를 통해서 각 통계값을 구해봅시다.\n",
        "\n",
        "## 평균\n",
        "print(\"평균 :\", np.____(visit_cnt))\n",
        "\n",
        "## 최솟값\n",
        "print(\"최솟값 :\", np.____(visit_cnt))\n",
        "\n",
        "## 최댓값\n",
        "print(\"최댓값 :\", np.____(visit_cnt))\n",
        "\n",
        "## 중위수\n",
        "print(\"중위수 :\", np.____(visit_cnt))"
      ],
      "metadata": {
        "id": "FX-6SUd1LsQO"
      },
      "execution_count": null,
      "outputs": []
    }
  ]
}