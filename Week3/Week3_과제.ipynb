{
 "cells": [
  {
   "cell_type": "code",
   "execution_count": null,
   "id": "46154311",
   "metadata": {},
   "outputs": [],
   "source": [
    "!wget -q -O Week3_Q.py https://raw.githubusercontent.com/sbinhigher/tourism_data_lecture/main/Week2/Week2_Q.py"
   ]
  },
  {
   "cell_type": "code",
   "execution_count": null,
   "id": "909d2057",
   "metadata": {},
   "outputs": [],
   "source": [
    "import Week3_Q as quiz"
   ]
  },
  {
   "cell_type": "code",
   "execution_count": null,
   "id": "90926c13",
   "metadata": {},
   "outputs": [
    {
     "data": {
      "text/html": [
       "\n",
       "<style>\n",
       ".quiz-panel {border:1px solid #e5e7eb;border-left:6px solid #3b82f6;border-radius:10px;\n",
       "             padding:14px 16px;margin:10px 0;background:#fafbff;font-family:ui-sans-serif,system-ui,-apple-system,Segoe UI,Roboto,Noto Sans,Apple SD Gothic Neo,Helvetica Neue,Arial;}\n",
       ".quiz-title {font-weight:700;color:#1f2937;margin-bottom:6px;font-size:1.05rem;}\n",
       ".quiz-body  {color:#374151;line-height:1.6;}\n",
       ".quiz-code  {background:#111827;color:#e5e7eb;padding:10px 12px;border-radius:8px;\n",
       "             font-family:ui-monospace,SFMono-Regular,Menlo,Monaco,Consolas,\"Liberation Mono\",monospace;margin-top:8px;white-space:pre-wrap;}\n",
       ".quiz-hint  {color:#6b7280;font-size:0.92rem;margin-top:8px;}\n",
       "</style>\n",
       "<div class=\"quiz-panel\"><div class=\"quiz-title\">Q1) 출력 함수</div><div class=\"quiz-body\">아래 코드의 빈칸에 들어갈 **출력 함수 이름**을 쓰세요.</div><div class=\"quiz-code\">_____(\"Hello Jeju\")</div><div class=\"quiz-hint\">힌트: 파이썬에서 화면에 출력할 때 쓰는 내장 함수</div></div>"
      ],
      "text/plain": [
       "<IPython.core.display.HTML object>"
      ]
     },
     "metadata": {},
     "output_type": "display_data"
    }
   ],
   "source": [
    "#@title Q1\n",
    "quiz.show_q1()"
   ]
  },
  {
   "cell_type": "code",
   "execution_count": null,
   "id": "680b0ea9",
   "metadata": {},
   "outputs": [
    {
     "name": "stdout",
     "output_type": "stream",
     "text": [
      "> print\n",
      "✅ 정답입니다!\n",
      "\n"
     ]
    },
    {
     "data": {
      "application/vnd.google.colaboratory.intrinsic+json": {
       "type": "string"
      },
      "text/plain": [
       "'print'"
      ]
     },
     "metadata": {},
     "output_type": "display_data"
    }
   ],
   "source": [
    "quiz.answer_q1()"
   ]
  },
  {
   "cell_type": "code",
   "execution_count": null,
   "id": "b8304b1f",
   "metadata": {},
   "outputs": [
    {
     "data": {
      "text/html": [
       "\n",
       "<style>\n",
       ".quiz-panel {border:1px solid #e5e7eb;border-left:6px solid #3b82f6;border-radius:10px;\n",
       "             padding:14px 16px;margin:10px 0;background:#fafbff;font-family:ui-sans-serif,system-ui,-apple-system,Segoe UI,Roboto,Noto Sans,Apple SD Gothic Neo,Helvetica Neue,Arial;}\n",
       ".quiz-title {font-weight:700;color:#1f2937;margin-bottom:6px;font-size:1.05rem;}\n",
       ".quiz-body  {color:#374151;line-height:1.6;}\n",
       ".quiz-code  {background:#111827;color:#e5e7eb;padding:10px 12px;border-radius:8px;\n",
       "             font-family:ui-monospace,SFMono-Regular,Menlo,Monaco,Consolas,\"Liberation Mono\",monospace;margin-top:8px;white-space:pre-wrap;}\n",
       ".quiz-hint  {color:#6b7280;font-size:0.92rem;margin-top:8px;}\n",
       "</style>\n",
       "<div class=\"quiz-panel\"><div class=\"quiz-title\">Q2) 변수 지정 & 출력</div><div class=\"quiz-body\">다음 코드의 **출력 결과**를 정확히 쓰세요.</div><div class=\"quiz-code\">city = \"Jeju\"\n",
       "print(city)</div></div>"
      ],
      "text/plain": [
       "<IPython.core.display.HTML object>"
      ]
     },
     "metadata": {},
     "output_type": "display_data"
    }
   ],
   "source": [
    "#@title Q2\n",
    "quiz.show_q2()"
   ]
  },
  {
   "cell_type": "code",
   "execution_count": null,
   "id": "fce686f7",
   "metadata": {},
   "outputs": [
    {
     "name": "stdout",
     "output_type": "stream",
     "text": [
      "> Jeju\n",
      "✅ 정답입니다!\n",
      "\n"
     ]
    },
    {
     "data": {
      "application/vnd.google.colaboratory.intrinsic+json": {
       "type": "string"
      },
      "text/plain": [
       "'Jeju'"
      ]
     },
     "metadata": {},
     "output_type": "display_data"
    }
   ],
   "source": [
    "quiz.answer_q2()"
   ]
  },
  {
   "cell_type": "code",
   "execution_count": null,
   "id": "58fcb9ca",
   "metadata": {},
   "outputs": [
    {
     "data": {
      "text/html": [
       "\n",
       "<style>\n",
       ".quiz-panel {border:1px solid #e5e7eb;border-left:6px solid #3b82f6;border-radius:10px;\n",
       "             padding:14px 16px;margin:10px 0;background:#fafbff;font-family:ui-sans-serif,system-ui,-apple-system,Segoe UI,Roboto,Noto Sans,Apple SD Gothic Neo,Helvetica Neue,Arial;}\n",
       ".quiz-title {font-weight:700;color:#1f2937;margin-bottom:6px;font-size:1.05rem;}\n",
       ".quiz-body  {color:#374151;line-height:1.6;}\n",
       ".quiz-code  {background:#111827;color:#e5e7eb;padding:10px 12px;border-radius:8px;\n",
       "             font-family:ui-monospace,SFMono-Regular,Menlo,Monaco,Consolas,\"Liberation Mono\",monospace;margin-top:8px;white-space:pre-wrap;}\n",
       ".quiz-hint  {color:#6b7280;font-size:0.92rem;margin-top:8px;}\n",
       "</style>\n",
       "<div class=\"quiz-panel\"><div class=\"quiz-title\">Q3) 객관식: 숫자와 문자열 구분</div><div class=\"quiz-body\">다음 중 **문자열(string)** 인 것은?</div><div class=\"quiz-hint\">힌트: 따옴표(\")로 둘러싸인 값은 문자열입니다.</div></div>"
      ],
      "text/plain": [
       "<IPython.core.display.HTML object>"
      ]
     },
     "metadata": {},
     "output_type": "display_data"
    },
    {
     "data": {
      "text/markdown": [
       "보기\n",
       "\n",
       "1) 10\n",
       "\n",
       "2) 3.14\n",
       "\n",
       "3) \"10\"\n",
       "\n",
       "4) 0"
      ],
      "text/plain": [
       "<IPython.core.display.Markdown object>"
      ]
     },
     "metadata": {},
     "output_type": "display_data"
    }
   ],
   "source": [
    "#@title Q3\n",
    "quiz.show_q3()"
   ]
  },
  {
   "cell_type": "code",
   "execution_count": null,
   "id": "c1139c4d",
   "metadata": {},
   "outputs": [
    {
     "name": "stdout",
     "output_type": "stream",
     "text": [
      "> 3\n",
      "✅ 정답입니다!\n",
      "\n"
     ]
    },
    {
     "data": {
      "application/vnd.google.colaboratory.intrinsic+json": {
       "type": "string"
      },
      "text/plain": [
       "'3'"
      ]
     },
     "metadata": {},
     "output_type": "display_data"
    }
   ],
   "source": [
    "quiz.answer_q3()"
   ]
  },
  {
   "cell_type": "code",
   "execution_count": null,
   "id": "df07dd98",
   "metadata": {},
   "outputs": [
    {
     "data": {
      "text/html": [
       "\n",
       "<style>\n",
       ".quiz-panel {border:1px solid #e5e7eb;border-left:6px solid #3b82f6;border-radius:10px;\n",
       "             padding:14px 16px;margin:10px 0;background:#fafbff;font-family:ui-sans-serif,system-ui,-apple-system,Segoe UI,Roboto,Noto Sans,Apple SD Gothic Neo,Helvetica Neue,Arial;}\n",
       ".quiz-title {font-weight:700;color:#1f2937;margin-bottom:6px;font-size:1.05rem;}\n",
       ".quiz-body  {color:#374151;line-height:1.6;}\n",
       ".quiz-code  {background:#111827;color:#e5e7eb;padding:10px 12px;border-radius:8px;\n",
       "             font-family:ui-monospace,SFMono-Regular,Menlo,Monaco,Consolas,\"Liberation Mono\",monospace;margin-top:8px;white-space:pre-wrap;}\n",
       ".quiz-hint  {color:#6b7280;font-size:0.92rem;margin-top:8px;}\n",
       "</style>\n",
       "<div class=\"quiz-panel\"><div class=\"quiz-title\">Q4) 객관식: 문자열 연산</div><div class=\"quiz-body\">다음 코드의 **출력 결과**로 알맞은 것은?</div><div class=\"quiz-code\">print(\"10\" + \"20\")</div></div>"
      ],
      "text/plain": [
       "<IPython.core.display.HTML object>"
      ]
     },
     "metadata": {},
     "output_type": "display_data"
    },
    {
     "data": {
      "text/markdown": [
       "보기\n",
       "\n",
       "1) 30\n",
       "\n",
       "2) 1020\n",
       "\n",
       "3) 오류"
      ],
      "text/plain": [
       "<IPython.core.display.Markdown object>"
      ]
     },
     "metadata": {},
     "output_type": "display_data"
    }
   ],
   "source": [
    "#@title Q4\n",
    "quiz.show_q4()"
   ]
  },
  {
   "cell_type": "code",
   "execution_count": null,
   "id": "a1ce923e",
   "metadata": {},
   "outputs": [
    {
     "name": "stdout",
     "output_type": "stream",
     "text": [
      "> 2\n",
      "✅ 정답입니다!\n",
      "\n"
     ]
    },
    {
     "data": {
      "application/vnd.google.colaboratory.intrinsic+json": {
       "type": "string"
      },
      "text/plain": [
       "'2'"
      ]
     },
     "metadata": {},
     "output_type": "display_data"
    }
   ],
   "source": [
    "quiz.answer_q4()"
   ]
  },
  {
   "cell_type": "code",
   "execution_count": null,
   "id": "fddc2874",
   "metadata": {},
   "outputs": [
    {
     "data": {
      "text/html": [
       "\n",
       "<style>\n",
       ".quiz-panel {border:1px solid #e5e7eb;border-left:6px solid #3b82f6;border-radius:10px;\n",
       "             padding:14px 16px;margin:10px 0;background:#fafbff;font-family:ui-sans-serif,system-ui,-apple-system,Segoe UI,Roboto,Noto Sans,Apple SD Gothic Neo,Helvetica Neue,Arial;}\n",
       ".quiz-title {font-weight:700;color:#1f2937;margin-bottom:6px;font-size:1.05rem;}\n",
       ".quiz-body  {color:#374151;line-height:1.6;}\n",
       ".quiz-code  {background:#111827;color:#e5e7eb;padding:10px 12px;border-radius:8px;\n",
       "             font-family:ui-monospace,SFMono-Regular,Menlo,Monaco,Consolas,\"Liberation Mono\",monospace;margin-top:8px;white-space:pre-wrap;}\n",
       ".quiz-hint  {color:#6b7280;font-size:0.92rem;margin-top:8px;}\n",
       "</style>\n",
       "<div class=\"quiz-panel\"><div class=\"quiz-title\">Q5) 객관식: 정수 + 실수</div><div class=\"quiz-body\">다음 코드의 **출력 결과**로 알맞은 것은?</div><div class=\"quiz-code\">print(10 + 10.0)</div><div class=\"quiz-hint\">힌트: 정수 + 실수 → 결과는 실수</div></div>"
      ],
      "text/plain": [
       "<IPython.core.display.HTML object>"
      ]
     },
     "metadata": {},
     "output_type": "display_data"
    },
    {
     "data": {
      "text/markdown": [
       "보기\n",
       "\n",
       "1) 20\n",
       "\n",
       "2) 20.0\n",
       "\n",
       "3) 오류"
      ],
      "text/plain": [
       "<IPython.core.display.Markdown object>"
      ]
     },
     "metadata": {},
     "output_type": "display_data"
    }
   ],
   "source": [
    "#@title Q5\n",
    "quiz.show_q5()"
   ]
  },
  {
   "cell_type": "code",
   "execution_count": null,
   "id": "4601812f",
   "metadata": {},
   "outputs": [
    {
     "name": "stdout",
     "output_type": "stream",
     "text": [
      "> 2\n",
      "✅ 정답입니다!\n",
      "\n"
     ]
    },
    {
     "data": {
      "application/vnd.google.colaboratory.intrinsic+json": {
       "type": "string"
      },
      "text/plain": [
       "'2'"
      ]
     },
     "metadata": {},
     "output_type": "display_data"
    }
   ],
   "source": [
    "quiz.answer_q5()"
   ]
  },
  {
   "cell_type": "code",
   "execution_count": null,
   "id": "6191d4e4",
   "metadata": {},
   "outputs": [
    {
     "data": {
      "text/html": [
       "\n",
       "<style>\n",
       ".quiz-panel {border:1px solid #e5e7eb;border-left:6px solid #3b82f6;border-radius:10px;\n",
       "             padding:14px 16px;margin:10px 0;background:#fafbff;font-family:ui-sans-serif,system-ui,-apple-system,Segoe UI,Roboto,Noto Sans,Apple SD Gothic Neo,Helvetica Neue,Arial;}\n",
       ".quiz-title {font-weight:700;color:#1f2937;margin-bottom:6px;font-size:1.05rem;}\n",
       ".quiz-body  {color:#374151;line-height:1.6;}\n",
       ".quiz-code  {background:#111827;color:#e5e7eb;padding:10px 12px;border-radius:8px;\n",
       "             font-family:ui-monospace,SFMono-Regular,Menlo,Monaco,Consolas,\"Liberation Mono\",monospace;margin-top:8px;white-space:pre-wrap;}\n",
       ".quiz-hint  {color:#6b7280;font-size:0.92rem;margin-top:8px;}\n",
       "</style>\n",
       "<div class=\"quiz-panel\"><div class=\"quiz-title\">Q6) 객관식(복수선택): 변수명으로 사용할 수 있는 것을 모두 고르시오.</div><div class=\"quiz-body\">아래 보기 중 **파이썬 변수명으로 사용 가능한 것**을 모두 고르세요. (정답 2개)\n",
       "입력 예시: 1,4  또는  4, 1</div><div class=\"quiz-hint\">힌트: 규칙: 숫자로 시작 X, 하이픈(-) X, 공백 X, 예약어(예: class) X. 영문/숫자/밑줄(_), 그리고 첫 글자는 영문/밑줄.</div></div>"
      ],
      "text/plain": [
       "<IPython.core.display.HTML object>"
      ]
     },
     "metadata": {},
     "output_type": "display_data"
    },
    {
     "data": {
      "text/markdown": [
       "보기\n",
       "\n",
       "1) visitor_count\n",
       "\n",
       "2) class\n",
       "\n",
       "3) 2nd_place\n",
       "\n",
       "4) _score2\n",
       "\n",
       "5) user-name"
      ],
      "text/plain": [
       "<IPython.core.display.Markdown object>"
      ]
     },
     "metadata": {},
     "output_type": "display_data"
    }
   ],
   "source": [
    "#@title Q6\n",
    "quiz.show_q6()"
   ]
  },
  {
   "cell_type": "code",
   "execution_count": null,
   "id": "5f5d867f",
   "metadata": {},
   "outputs": [
    {
     "name": "stdout",
     "output_type": "stream",
     "text": [
      "> 1,4\n",
      "✅ 정답입니다!\n",
      "\n"
     ]
    },
    {
     "data": {
      "application/vnd.google.colaboratory.intrinsic+json": {
       "type": "string"
      },
      "text/plain": [
       "'1,4'"
      ]
     },
     "metadata": {},
     "output_type": "display_data"
    }
   ],
   "source": [
    "quiz.answer_q6()"
   ]
  },
  {
   "cell_type": "code",
   "execution_count": null,
   "id": "b7af1c88",
   "metadata": {},
   "outputs": [
    {
     "data": {
      "text/html": [
       "\n",
       "<style>\n",
       ".quiz-panel {border:1px solid #e5e7eb;border-left:6px solid #3b82f6;border-radius:10px;\n",
       "             padding:14px 16px;margin:10px 0;background:#fafbff;font-family:ui-sans-serif,system-ui,-apple-system,Segoe UI,Roboto,Noto Sans,Apple SD Gothic Neo,Helvetica Neue,Arial;}\n",
       ".quiz-title {font-weight:700;color:#1f2937;margin-bottom:6px;font-size:1.05rem;}\n",
       ".quiz-body  {color:#374151;line-height:1.6;}\n",
       ".quiz-code  {background:#111827;color:#e5e7eb;padding:10px 12px;border-radius:8px;\n",
       "             font-family:ui-monospace,SFMono-Regular,Menlo,Monaco,Consolas,\"Liberation Mono\",monospace;margin-top:8px;white-space:pre-wrap;}\n",
       ".quiz-hint  {color:#6b7280;font-size:0.92rem;margin-top:8px;}\n",
       "</style>\n",
       "<div class=\"quiz-panel\"><div class=\"quiz-title\">Q7) 참/거짓: 소수 연산 주의</div><div class=\"quiz-body\">다음의 참/거짓을 판단하세요.</div><div class=\"quiz-code\">0.1 + 0.2 == 0.3</div><div class=\"quiz-hint\">힌트: 부동소수점 오차</div></div>"
      ],
      "text/plain": [
       "<IPython.core.display.HTML object>"
      ]
     },
     "metadata": {},
     "output_type": "display_data"
    }
   ],
   "source": [
    "#@title Q7\n",
    "quiz.show_q7()"
   ]
  },
  {
   "cell_type": "code",
   "execution_count": null,
   "id": "9dffd972",
   "metadata": {},
   "outputs": [
    {
     "name": "stdout",
     "output_type": "stream",
     "text": [
      "> 거짓\n",
      "✅ 정답입니다!\n",
      "\n"
     ]
    },
    {
     "data": {
      "application/vnd.google.colaboratory.intrinsic+json": {
       "type": "string"
      },
      "text/plain": [
       "'거짓'"
      ]
     },
     "metadata": {},
     "output_type": "display_data"
    }
   ],
   "source": [
    "quiz.answer_q7()"
   ]
  },
  {
   "cell_type": "code",
   "execution_count": null,
   "id": "9818b4b2",
   "metadata": {},
   "outputs": [
    {
     "data": {
      "text/html": [
       "\n",
       "<style>\n",
       ".quiz-panel {border:1px solid #e5e7eb;border-left:6px solid #3b82f6;border-radius:10px;\n",
       "             padding:14px 16px;margin:10px 0;background:#fafbff;font-family:ui-sans-serif,system-ui,-apple-system,Segoe UI,Roboto,Noto Sans,Apple SD Gothic Neo,Helvetica Neue,Arial;}\n",
       ".quiz-title {font-weight:700;color:#1f2937;margin-bottom:6px;font-size:1.05rem;}\n",
       ".quiz-body  {color:#374151;line-height:1.6;}\n",
       ".quiz-code  {background:#111827;color:#e5e7eb;padding:10px 12px;border-radius:8px;\n",
       "             font-family:ui-monospace,SFMono-Regular,Menlo,Monaco,Consolas,\"Liberation Mono\",monospace;margin-top:8px;white-space:pre-wrap;}\n",
       ".quiz-hint  {color:#6b7280;font-size:0.92rem;margin-top:8px;}\n",
       "</style>\n",
       "<div class=\"quiz-panel\"><div class=\"quiz-title\">Q8) 문자열 반복</div><div class=\"quiz-body\">다음 코드의 **출력 결과**를 쓰세요.</div><div class=\"quiz-code\">print('10' * 3)</div></div>"
      ],
      "text/plain": [
       "<IPython.core.display.HTML object>"
      ]
     },
     "metadata": {},
     "output_type": "display_data"
    }
   ],
   "source": [
    "#@title Q8\n",
    "quiz.show_q8()"
   ]
  },
  {
   "cell_type": "code",
   "execution_count": null,
   "id": "aa45f3de",
   "metadata": {},
   "outputs": [
    {
     "name": "stdout",
     "output_type": "stream",
     "text": [
      "> 101010\n",
      "✅ 정답입니다!\n",
      "\n"
     ]
    },
    {
     "data": {
      "application/vnd.google.colaboratory.intrinsic+json": {
       "type": "string"
      },
      "text/plain": [
       "'101010'"
      ]
     },
     "metadata": {},
     "output_type": "display_data"
    }
   ],
   "source": [
    "quiz.answer_q8()"
   ]
  },
  {
   "cell_type": "code",
   "execution_count": null,
   "id": "2bc85959",
   "metadata": {},
   "outputs": [
    {
     "data": {
      "text/html": [
       "\n",
       "<style>\n",
       ".quiz-panel {border:1px solid #e5e7eb;border-left:6px solid #3b82f6;border-radius:10px;\n",
       "             padding:14px 16px;margin:10px 0;background:#fafbff;font-family:ui-sans-serif,system-ui,-apple-system,Segoe UI,Roboto,Noto Sans,Apple SD Gothic Neo,Helvetica Neue,Arial;}\n",
       ".quiz-title {font-weight:700;color:#1f2937;margin-bottom:6px;font-size:1.05rem;}\n",
       ".quiz-body  {color:#374151;line-height:1.6;}\n",
       ".quiz-code  {background:#111827;color:#e5e7eb;padding:10px 12px;border-radius:8px;\n",
       "             font-family:ui-monospace,SFMono-Regular,Menlo,Monaco,Consolas,\"Liberation Mono\",monospace;margin-top:8px;white-space:pre-wrap;}\n",
       ".quiz-hint  {color:#6b7280;font-size:0.92rem;margin-top:8px;}\n",
       "</style>\n",
       "<div class=\"quiz-panel\"><div class=\"quiz-title\">Q9) 참/거짓: 노트북 출력</div><div class=\"quiz-body\">Colab/Jupyter에서 **마지막 줄에 변수명만 적고 실행**하면, print 없이도 그 변수의 값이 표시된다. (참/거짓)</div></div>"
      ],
      "text/plain": [
       "<IPython.core.display.HTML object>"
      ]
     },
     "metadata": {},
     "output_type": "display_data"
    }
   ],
   "source": [
    "#@title Q9\n",
    "quiz.show_q9()"
   ]
  },
  {
   "cell_type": "code",
   "execution_count": null,
   "id": "5712e823",
   "metadata": {},
   "outputs": [
    {
     "name": "stdout",
     "output_type": "stream",
     "text": [
      "> 참\n",
      "✅ 정답입니다!\n",
      "\n"
     ]
    },
    {
     "data": {
      "application/vnd.google.colaboratory.intrinsic+json": {
       "type": "string"
      },
      "text/plain": [
       "'참'"
      ]
     },
     "metadata": {},
     "output_type": "display_data"
    }
   ],
   "source": [
    "quiz.answer_q9()"
   ]
  },
  {
   "cell_type": "code",
   "execution_count": null,
   "id": "2d9e951e",
   "metadata": {},
   "outputs": [
    {
     "data": {
      "text/html": [
       "\n",
       "<style>\n",
       ".quiz-panel {border:1px solid #e5e7eb;border-left:6px solid #3b82f6;border-radius:10px;\n",
       "             padding:14px 16px;margin:10px 0;background:#fafbff;font-family:ui-sans-serif,system-ui,-apple-system,Segoe UI,Roboto,Noto Sans,Apple SD Gothic Neo,Helvetica Neue,Arial;}\n",
       ".quiz-title {font-weight:700;color:#1f2937;margin-bottom:6px;font-size:1.05rem;}\n",
       ".quiz-body  {color:#374151;line-height:1.6;}\n",
       ".quiz-code  {background:#111827;color:#e5e7eb;padding:10px 12px;border-radius:8px;\n",
       "             font-family:ui-monospace,SFMono-Regular,Menlo,Monaco,Consolas,\"Liberation Mono\",monospace;margin-top:8px;white-space:pre-wrap;}\n",
       ".quiz-hint  {color:#6b7280;font-size:0.92rem;margin-top:8px;}\n",
       "</style>\n",
       "<div class=\"quiz-panel\"><div class=\"quiz-title\">Q10) 객관식: print 함수의 구분자 파라미터</div><div class=\"quiz-body\">다음 중 **print**에서 여러 값을 출력할 때 **값 사이에 들어갈 구분자**를 지정하는 파라미터 이름은?</div></div>"
      ],
      "text/plain": [
       "<IPython.core.display.HTML object>"
      ]
     },
     "metadata": {},
     "output_type": "display_data"
    },
    {
     "data": {
      "text/markdown": [
       "보기\n",
       "\n",
       "1) sep\n",
       "\n",
       "2) end\n",
       "\n",
       "3) seq\n",
       "\n",
       "4) delimiter\n",
       "\n",
       "5) split"
      ],
      "text/plain": [
       "<IPython.core.display.Markdown object>"
      ]
     },
     "metadata": {},
     "output_type": "display_data"
    }
   ],
   "source": [
    "#@title Q10\n",
    "quiz.show_q10()"
   ]
  },
  {
   "cell_type": "code",
   "execution_count": null,
   "id": "d28c7516",
   "metadata": {},
   "outputs": [
    {
     "name": "stdout",
     "output_type": "stream",
     "text": [
      "> 1\n",
      "✅ 정답입니다!\n",
      "\n"
     ]
    },
    {
     "data": {
      "application/vnd.google.colaboratory.intrinsic+json": {
       "type": "string"
      },
      "text/plain": [
       "'1'"
      ]
     },
     "metadata": {},
     "output_type": "display_data"
    }
   ],
   "source": [
    "quiz.answer_q10()"
   ]
  }
 ],
 "metadata": {
  "language_info": {
   "name": "python"
  }
 },
 "nbformat": 4,
 "nbformat_minor": 5
}
