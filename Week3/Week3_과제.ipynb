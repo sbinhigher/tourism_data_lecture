{
  "cells": [
    {
      "cell_type": "code",
      "execution_count": null,
      "id": "46154311",
      "metadata": {
        "id": "46154311"
      },
      "outputs": [],
      "source": [
        "!wget -q -O Week3_Q.py https://raw.githubusercontent.com/sbinhigher/tourism_data_lecture/main/Week3/Week3_Q.py"
      ]
    },
    {
      "cell_type": "code",
      "execution_count": null,
      "id": "909d2057",
      "metadata": {
        "id": "909d2057"
      },
      "outputs": [],
      "source": [
        "import Week3_Q as quiz"
      ]
    },
    {
      "cell_type": "code",
      "execution_count": 5,
      "id": "90926c13",
      "metadata": {
        "colab": {
          "base_uri": "https://localhost:8080/",
          "height": 179
        },
        "id": "90926c13",
        "outputId": "f945cb03-d65c-46a3-eec7-c49e885ab316"
      },
      "outputs": [
        {
          "output_type": "display_data",
          "data": {
            "text/plain": [
              "<IPython.core.display.HTML object>"
            ],
            "text/html": [
              "\n",
              "<style>\n",
              ".quiz-panel {border:1px solid #e5e7eb;border-left:6px solid #3b82f6;border-radius:10px;\n",
              "             padding:14px 16px;margin:10px 0;background:#fafbff;font-family:ui-sans-serif,system-ui,-apple-system,Segoe UI,Roboto,Noto Sans,Apple SD Gothic Neo,Helvetica Neue,Arial;}\n",
              ".quiz-title {font-weight:700;color:#1f2937;margin-bottom:6px;font-size:1.05rem;}\n",
              ".quiz-body  {color:#374151;line-height:1.6;}\n",
              ".quiz-code  {background:#111827;color:#e5e7eb;padding:10px 12px;border-radius:8px;\n",
              "             font-family:ui-monospace,SFMono-Regular,Menlo,Monaco,Consolas,\"Liberation Mono\",monospace;margin-top:8px;white-space:pre-wrap;}\n",
              ".quiz-hint  {color:#6b7280;font-size:0.92rem;margin-top:8px;}\n",
              "</style>\n",
              "<div class=\"quiz-panel\"><div class=\"quiz-title\">Q1) 인덱싱</div><div class=\"quiz-body\">문자열 s = 'Python' 에서 첫 번째 글자를 출력하는 코드를 작성하세요.</div><div class=\"quiz-code\">s = 'Python'\n",
              "print(    )</div></div>"
            ]
          },
          "metadata": {}
        }
      ],
      "source": [
        "#@title Q1\n",
        "quiz.show_q1()"
      ]
    },
    {
      "cell_type": "code",
      "execution_count": null,
      "id": "680b0ea9",
      "metadata": {
        "id": "680b0ea9"
      },
      "outputs": [],
      "source": [
        "quiz.answer_q1()"
      ]
    },
    {
      "cell_type": "code",
      "execution_count": 6,
      "id": "b8304b1f",
      "metadata": {
        "colab": {
          "base_uri": "https://localhost:8080/",
          "height": 179
        },
        "id": "b8304b1f",
        "outputId": "2351fa20-eddd-47af-c946-bf31841e5dd3"
      },
      "outputs": [
        {
          "output_type": "display_data",
          "data": {
            "text/plain": [
              "<IPython.core.display.HTML object>"
            ],
            "text/html": [
              "\n",
              "<style>\n",
              ".quiz-panel {border:1px solid #e5e7eb;border-left:6px solid #3b82f6;border-radius:10px;\n",
              "             padding:14px 16px;margin:10px 0;background:#fafbff;font-family:ui-sans-serif,system-ui,-apple-system,Segoe UI,Roboto,Noto Sans,Apple SD Gothic Neo,Helvetica Neue,Arial;}\n",
              ".quiz-title {font-weight:700;color:#1f2937;margin-bottom:6px;font-size:1.05rem;}\n",
              ".quiz-body  {color:#374151;line-height:1.6;}\n",
              ".quiz-code  {background:#111827;color:#e5e7eb;padding:10px 12px;border-radius:8px;\n",
              "             font-family:ui-monospace,SFMono-Regular,Menlo,Monaco,Consolas,\"Liberation Mono\",monospace;margin-top:8px;white-space:pre-wrap;}\n",
              ".quiz-hint  {color:#6b7280;font-size:0.92rem;margin-top:8px;}\n",
              "</style>\n",
              "<div class=\"quiz-panel\"><div class=\"quiz-title\">Q2) 슬라이싱</div><div class=\"quiz-body\">문자열 s = 'Python' 에서 'Pyt'을 출력하는 코드를 작성하세요.</div><div class=\"quiz-code\">s = 'Python'\n",
              "print(    )</div></div>"
            ]
          },
          "metadata": {}
        }
      ],
      "source": [
        "#@title Q2\n",
        "quiz.show_q2()"
      ]
    },
    {
      "cell_type": "code",
      "execution_count": null,
      "id": "fce686f7",
      "metadata": {
        "id": "fce686f7"
      },
      "outputs": [],
      "source": [
        "quiz.answer_q2()"
      ]
    },
    {
      "cell_type": "code",
      "execution_count": 7,
      "id": "58fcb9ca",
      "metadata": {
        "colab": {
          "base_uri": "https://localhost:8080/",
          "height": 275
        },
        "id": "58fcb9ca",
        "outputId": "04c2614e-022e-4aa1-c916-dcdb25394f1f"
      },
      "outputs": [
        {
          "output_type": "display_data",
          "data": {
            "text/plain": [
              "<IPython.core.display.HTML object>"
            ],
            "text/html": [
              "\n",
              "<style>\n",
              ".quiz-panel {border:1px solid #e5e7eb;border-left:6px solid #3b82f6;border-radius:10px;\n",
              "             padding:14px 16px;margin:10px 0;background:#fafbff;font-family:ui-sans-serif,system-ui,-apple-system,Segoe UI,Roboto,Noto Sans,Apple SD Gothic Neo,Helvetica Neue,Arial;}\n",
              ".quiz-title {font-weight:700;color:#1f2937;margin-bottom:6px;font-size:1.05rem;}\n",
              ".quiz-body  {color:#374151;line-height:1.6;}\n",
              ".quiz-code  {background:#111827;color:#e5e7eb;padding:10px 12px;border-radius:8px;\n",
              "             font-family:ui-monospace,SFMono-Regular,Menlo,Monaco,Consolas,\"Liberation Mono\",monospace;margin-top:8px;white-space:pre-wrap;}\n",
              ".quiz-hint  {color:#6b7280;font-size:0.92rem;margin-top:8px;}\n",
              "</style>\n",
              "<div class=\"quiz-panel\"><div class=\"quiz-title\">Q3) 객관식: 데이터 형의 기본 특성</div><div class=\"quiz-body\">다음 중 **올바른 설명**을 고르세요.</div><div class=\"quiz-hint\">힌트: 문자열은 불변, 인덱싱은 0부터.</div></div>"
            ]
          },
          "metadata": {}
        },
        {
          "output_type": "display_data",
          "data": {
            "text/plain": [
              "<IPython.core.display.Markdown object>"
            ],
            "text/markdown": "보기\n\n1) 문자열(str)은 불변(immutable)이다.\n\n2) 10 + 10.0 의 결과 타입은 int 이다.\n\n3) 인덱싱은 1부터 시작한다.\n\n4) '3' + 4 는 7 이 된다."
          },
          "metadata": {}
        }
      ],
      "source": [
        "#@title Q3\n",
        "quiz.show_q3()"
      ]
    },
    {
      "cell_type": "code",
      "execution_count": null,
      "id": "c1139c4d",
      "metadata": {
        "id": "c1139c4d"
      },
      "outputs": [],
      "source": [
        "quiz.answer_q3()"
      ]
    },
    {
      "cell_type": "code",
      "execution_count": 8,
      "id": "df07dd98",
      "metadata": {
        "colab": {
          "base_uri": "https://localhost:8080/",
          "height": 292
        },
        "id": "df07dd98",
        "outputId": "964b8d4c-8afe-4bf0-8ebe-c2685c038aa9"
      },
      "outputs": [
        {
          "output_type": "display_data",
          "data": {
            "text/plain": [
              "<IPython.core.display.HTML object>"
            ],
            "text/html": [
              "\n",
              "<style>\n",
              ".quiz-panel {border:1px solid #e5e7eb;border-left:6px solid #3b82f6;border-radius:10px;\n",
              "             padding:14px 16px;margin:10px 0;background:#fafbff;font-family:ui-sans-serif,system-ui,-apple-system,Segoe UI,Roboto,Noto Sans,Apple SD Gothic Neo,Helvetica Neue,Arial;}\n",
              ".quiz-title {font-weight:700;color:#1f2937;margin-bottom:6px;font-size:1.05rem;}\n",
              ".quiz-body  {color:#374151;line-height:1.6;}\n",
              ".quiz-code  {background:#111827;color:#e5e7eb;padding:10px 12px;border-radius:8px;\n",
              "             font-family:ui-monospace,SFMono-Regular,Menlo,Monaco,Consolas,\"Liberation Mono\",monospace;margin-top:8px;white-space:pre-wrap;}\n",
              ".quiz-hint  {color:#6b7280;font-size:0.92rem;margin-top:8px;}\n",
              "</style>\n",
              "<div class=\"quiz-panel\"><div class=\"quiz-title\">Q4) 주관식: 숫자형 연산 결과</div><div class=\"quiz-body\">다음 변수들을 사용하여 식을 계산한 결과값을 숫자로 입력하세요.</div><div class=\"quiz-code\">a = 7\n",
              "b = 10\n",
              "c = 4\n",
              "d = 5\n",
              "e = 3\n",
              "\n",
              "# 식: a + b/c - d//2 + e**2</div><div class=\"quiz-hint\">힌트: / 는 실수 나눗셈, // 는 몫(정수 나눗셈), ** 는 거듭제곱</div></div>"
            ]
          },
          "metadata": {}
        }
      ],
      "source": [
        "#@title Q4\n",
        "quiz.show_q4()"
      ]
    },
    {
      "cell_type": "code",
      "execution_count": null,
      "id": "a1ce923e",
      "metadata": {
        "id": "a1ce923e"
      },
      "outputs": [],
      "source": [
        "quiz.answer_q4()"
      ]
    },
    {
      "cell_type": "code",
      "execution_count": 9,
      "id": "fddc2874",
      "metadata": {
        "colab": {
          "base_uri": "https://localhost:8080/",
          "height": 275
        },
        "id": "fddc2874",
        "outputId": "6d394ef9-9fe1-43c3-c7b6-244eed67a3a0"
      },
      "outputs": [
        {
          "output_type": "display_data",
          "data": {
            "text/plain": [
              "<IPython.core.display.HTML object>"
            ],
            "text/html": [
              "\n",
              "<style>\n",
              ".quiz-panel {border:1px solid #e5e7eb;border-left:6px solid #3b82f6;border-radius:10px;\n",
              "             padding:14px 16px;margin:10px 0;background:#fafbff;font-family:ui-sans-serif,system-ui,-apple-system,Segoe UI,Roboto,Noto Sans,Apple SD Gothic Neo,Helvetica Neue,Arial;}\n",
              ".quiz-title {font-weight:700;color:#1f2937;margin-bottom:6px;font-size:1.05rem;}\n",
              ".quiz-body  {color:#374151;line-height:1.6;}\n",
              ".quiz-code  {background:#111827;color:#e5e7eb;padding:10px 12px;border-radius:8px;\n",
              "             font-family:ui-monospace,SFMono-Regular,Menlo,Monaco,Consolas,\"Liberation Mono\",monospace;margin-top:8px;white-space:pre-wrap;}\n",
              ".quiz-hint  {color:#6b7280;font-size:0.92rem;margin-top:8px;}\n",
              "</style>\n",
              "<div class=\"quiz-panel\"><div class=\"quiz-title\">Q5) 객관식: 연산 결과의 타입</div><div class=\"quiz-body\">`10 + 10.0` 의 **결과 타입**으로 알맞은 것은?</div><div class=\"quiz-hint\">힌트: 정수 + 실수 = ?</div></div>"
            ]
          },
          "metadata": {}
        },
        {
          "output_type": "display_data",
          "data": {
            "text/plain": [
              "<IPython.core.display.Markdown object>"
            ],
            "text/markdown": "보기\n\n1) int\n\n2) float\n\n3) str\n\n4) bool"
          },
          "metadata": {}
        }
      ],
      "source": [
        "#@title Q5\n",
        "quiz.show_q5()"
      ]
    },
    {
      "cell_type": "code",
      "execution_count": null,
      "id": "4601812f",
      "metadata": {
        "id": "4601812f"
      },
      "outputs": [],
      "source": [
        "quiz.answer_q5()"
      ]
    },
    {
      "cell_type": "code",
      "execution_count": 10,
      "id": "6191d4e4",
      "metadata": {
        "colab": {
          "base_uri": "https://localhost:8080/",
          "height": 223
        },
        "id": "6191d4e4",
        "outputId": "05ea0211-8c31-4491-ac09-de0e64a1f7f3"
      },
      "outputs": [
        {
          "output_type": "display_data",
          "data": {
            "text/plain": [
              "<IPython.core.display.HTML object>"
            ],
            "text/html": [
              "\n",
              "<style>\n",
              ".quiz-panel {border:1px solid #e5e7eb;border-left:6px solid #3b82f6;border-radius:10px;\n",
              "             padding:14px 16px;margin:10px 0;background:#fafbff;font-family:ui-sans-serif,system-ui,-apple-system,Segoe UI,Roboto,Noto Sans,Apple SD Gothic Neo,Helvetica Neue,Arial;}\n",
              ".quiz-title {font-weight:700;color:#1f2937;margin-bottom:6px;font-size:1.05rem;}\n",
              ".quiz-body  {color:#374151;line-height:1.6;}\n",
              ".quiz-code  {background:#111827;color:#e5e7eb;padding:10px 12px;border-radius:8px;\n",
              "             font-family:ui-monospace,SFMono-Regular,Menlo,Monaco,Consolas,\"Liberation Mono\",monospace;margin-top:8px;white-space:pre-wrap;}\n",
              ".quiz-hint  {color:#6b7280;font-size:0.92rem;margin-top:8px;}\n",
              "</style>\n",
              "<div class=\"quiz-panel\"><div class=\"quiz-title\">Q6) 문자열 포맷팅</div><div class=\"quiz-body\">다음 변수를 사용하여 **'Jeju has 4.8 rating.'** 을 출력하는 코드를 작성하세요. (포맷팅 1가지 방식만 쓰면 됩니다)</div><div class=\"quiz-code\">city = 'Jeju'\n",
              "rating = 4.8\n",
              "print(    )</div><div class=\"quiz-hint\">힌트: 권장: f-string. 예) f\"{변수} ... {변수}\"</div></div>"
            ]
          },
          "metadata": {}
        }
      ],
      "source": [
        "#@title Q6\n",
        "quiz.show_q6()"
      ]
    },
    {
      "cell_type": "code",
      "execution_count": null,
      "id": "5f5d867f",
      "metadata": {
        "id": "5f5d867f"
      },
      "outputs": [],
      "source": [
        "quiz.answer_q6()"
      ]
    },
    {
      "cell_type": "code",
      "execution_count": 11,
      "id": "b7af1c88",
      "metadata": {
        "colab": {
          "base_uri": "https://localhost:8080/",
          "height": 275
        },
        "id": "b7af1c88",
        "outputId": "593dc0af-c060-435c-d352-a2ad46e7cfc6"
      },
      "outputs": [
        {
          "output_type": "display_data",
          "data": {
            "text/plain": [
              "<IPython.core.display.HTML object>"
            ],
            "text/html": [
              "\n",
              "<style>\n",
              ".quiz-panel {border:1px solid #e5e7eb;border-left:6px solid #3b82f6;border-radius:10px;\n",
              "             padding:14px 16px;margin:10px 0;background:#fafbff;font-family:ui-sans-serif,system-ui,-apple-system,Segoe UI,Roboto,Noto Sans,Apple SD Gothic Neo,Helvetica Neue,Arial;}\n",
              ".quiz-title {font-weight:700;color:#1f2937;margin-bottom:6px;font-size:1.05rem;}\n",
              ".quiz-body  {color:#374151;line-height:1.6;}\n",
              ".quiz-code  {background:#111827;color:#e5e7eb;padding:10px 12px;border-radius:8px;\n",
              "             font-family:ui-monospace,SFMono-Regular,Menlo,Monaco,Consolas,\"Liberation Mono\",monospace;margin-top:8px;white-space:pre-wrap;}\n",
              ".quiz-hint  {color:#6b7280;font-size:0.92rem;margin-top:8px;}\n",
              "</style>\n",
              "<div class=\"quiz-panel\"><div class=\"quiz-title\">Q7) 객관식: str() 변환 후 다시 복원 가능한 경우</div><div class=\"quiz-body\">다음 중 **str()로 변환 후 다시 원래 타입으로 복원이 가능한 것**을 고르시오.</div><div class=\"quiz-hint\">힌트: 실수(float)는 복원이 가능합니다.</div></div>"
            ]
          },
          "metadata": {}
        },
        {
          "output_type": "display_data",
          "data": {
            "text/plain": [
              "<IPython.core.display.Markdown object>"
            ],
            "text/markdown": "보기\n\n1) float( str(3.14) ) → float\n\n2) bool( str(True) ) → bool\n\n3) list( str([1, 2, 3]) ) → list\n\n4) dict( str({'a': 1}) ) → dict"
          },
          "metadata": {}
        }
      ],
      "source": [
        "#@title Q7\n",
        "quiz.show_q7()"
      ]
    },
    {
      "cell_type": "code",
      "execution_count": null,
      "id": "9dffd972",
      "metadata": {
        "id": "9dffd972"
      },
      "outputs": [],
      "source": [
        "quiz.answer_q7()"
      ]
    },
    {
      "cell_type": "code",
      "execution_count": 12,
      "id": "9818b4b2",
      "metadata": {
        "colab": {
          "base_uri": "https://localhost:8080/",
          "height": 299
        },
        "id": "9818b4b2",
        "outputId": "b1cd6638-698d-49a7-cb57-2add08651592"
      },
      "outputs": [
        {
          "output_type": "display_data",
          "data": {
            "text/plain": [
              "<IPython.core.display.HTML object>"
            ],
            "text/html": [
              "\n",
              "<style>\n",
              ".quiz-panel {border:1px solid #e5e7eb;border-left:6px solid #3b82f6;border-radius:10px;\n",
              "             padding:14px 16px;margin:10px 0;background:#fafbff;font-family:ui-sans-serif,system-ui,-apple-system,Segoe UI,Roboto,Noto Sans,Apple SD Gothic Neo,Helvetica Neue,Arial;}\n",
              ".quiz-title {font-weight:700;color:#1f2937;margin-bottom:6px;font-size:1.05rem;}\n",
              ".quiz-body  {color:#374151;line-height:1.6;}\n",
              ".quiz-code  {background:#111827;color:#e5e7eb;padding:10px 12px;border-radius:8px;\n",
              "             font-family:ui-monospace,SFMono-Regular,Menlo,Monaco,Consolas,\"Liberation Mono\",monospace;margin-top:8px;white-space:pre-wrap;}\n",
              ".quiz-hint  {color:#6b7280;font-size:0.92rem;margin-top:8px;}\n",
              "</style>\n",
              "<div class=\"quiz-panel\"><div class=\"quiz-title\">Q8) 객관식: 다음 중 **기본형이 아닌 것**은?</div><div class=\"quiz-body\">파이썬의 기본형은 숫자형(int, float), 불리안(bool), 문자열(str) 입니다.</div><div class=\"quiz-hint\">힌트: 기본형이 아닌 것 = 컬렉션이나 매핑 같은 복합 자료형</div></div>"
            ]
          },
          "metadata": {}
        },
        {
          "output_type": "display_data",
          "data": {
            "text/plain": [
              "<IPython.core.display.Markdown object>"
            ],
            "text/markdown": "보기\n\n1) list\n\n2) int\n\n3) float\n\n4) bool\n\n5) str"
          },
          "metadata": {}
        }
      ],
      "source": [
        "#@title Q8\n",
        "quiz.show_q8()"
      ]
    },
    {
      "cell_type": "code",
      "execution_count": null,
      "id": "aa45f3de",
      "metadata": {
        "id": "aa45f3de"
      },
      "outputs": [],
      "source": [
        "quiz.answer_q8()"
      ]
    },
    {
      "cell_type": "code",
      "execution_count": 13,
      "id": "2bc85959",
      "metadata": {
        "colab": {
          "base_uri": "https://localhost:8080/",
          "height": 249
        },
        "id": "2bc85959",
        "outputId": "0cf67d33-4bf2-4e14-b0f3-c37f505b1f06"
      },
      "outputs": [
        {
          "output_type": "display_data",
          "data": {
            "text/plain": [
              "<IPython.core.display.HTML object>"
            ],
            "text/html": [
              "\n",
              "<style>\n",
              ".quiz-panel {border:1px solid #e5e7eb;border-left:6px solid #3b82f6;border-radius:10px;\n",
              "             padding:14px 16px;margin:10px 0;background:#fafbff;font-family:ui-sans-serif,system-ui,-apple-system,Segoe UI,Roboto,Noto Sans,Apple SD Gothic Neo,Helvetica Neue,Arial;}\n",
              ".quiz-title {font-weight:700;color:#1f2937;margin-bottom:6px;font-size:1.05rem;}\n",
              ".quiz-body  {color:#374151;line-height:1.6;}\n",
              ".quiz-code  {background:#111827;color:#e5e7eb;padding:10px 12px;border-radius:8px;\n",
              "             font-family:ui-monospace,SFMono-Regular,Menlo,Monaco,Consolas,\"Liberation Mono\",monospace;margin-top:8px;white-space:pre-wrap;}\n",
              ".quiz-hint  {color:#6b7280;font-size:0.92rem;margin-top:8px;}\n",
              "</style>\n",
              "<div class=\"quiz-panel\"><div class=\"quiz-title\">Q9) 객관식: 숫자형 변환 에러</div><div class=\"quiz-body\">다음 중 **숫자형 변환 함수를 사용하면 에러가 나는 것**은?</div></div>"
            ]
          },
          "metadata": {}
        },
        {
          "output_type": "display_data",
          "data": {
            "text/plain": [
              "<IPython.core.display.Markdown object>"
            ],
            "text/markdown": "보기\n\n1) int(\"123\")\n\n2) float(\"3.14\")\n\n3) int(\"3.14\")\n\n4) float(\"10\")"
          },
          "metadata": {}
        }
      ],
      "source": [
        "#@title Q9\n",
        "quiz.show_q9()"
      ]
    },
    {
      "cell_type": "code",
      "execution_count": null,
      "id": "5712e823",
      "metadata": {
        "id": "5712e823"
      },
      "outputs": [],
      "source": [
        "quiz.answer_q9()"
      ]
    },
    {
      "cell_type": "code",
      "execution_count": 14,
      "id": "2d9e951e",
      "metadata": {
        "colab": {
          "base_uri": "https://localhost:8080/",
          "height": 338
        },
        "id": "2d9e951e",
        "outputId": "fc4bb54d-9c59-44be-d1ce-ad1b3629bd40"
      },
      "outputs": [
        {
          "output_type": "display_data",
          "data": {
            "text/plain": [
              "<IPython.core.display.HTML object>"
            ],
            "text/html": [
              "\n",
              "<style>\n",
              ".quiz-panel {border:1px solid #e5e7eb;border-left:6px solid #3b82f6;border-radius:10px;\n",
              "             padding:14px 16px;margin:10px 0;background:#fafbff;font-family:ui-sans-serif,system-ui,-apple-system,Segoe UI,Roboto,Noto Sans,Apple SD Gothic Neo,Helvetica Neue,Arial;}\n",
              ".quiz-title {font-weight:700;color:#1f2937;margin-bottom:6px;font-size:1.05rem;}\n",
              ".quiz-body  {color:#374151;line-height:1.6;}\n",
              ".quiz-code  {background:#111827;color:#e5e7eb;padding:10px 12px;border-radius:8px;\n",
              "             font-family:ui-monospace,SFMono-Regular,Menlo,Monaco,Consolas,\"Liberation Mono\",monospace;margin-top:8px;white-space:pre-wrap;}\n",
              ".quiz-hint  {color:#6b7280;font-size:0.92rem;margin-top:8px;}\n",
              "</style>\n",
              "<div class=\"quiz-panel\"><div class=\"quiz-title\">Q10) 객관식: replace() 메서드</div><div class=\"quiz-body\">다음 코드의 실행 결과로 알맞은 것은?</div><div class=\"quiz-code\">text = 'banana banana banana'\n",
              "print(text.replace('banana', 'apple', 2))</div><div class=\"quiz-hint\">힌트: count=2 → 앞에서부터 2번만 바꿉니다.</div></div>"
            ]
          },
          "metadata": {}
        },
        {
          "output_type": "display_data",
          "data": {
            "text/plain": [
              "<IPython.core.display.Markdown object>"
            ],
            "text/markdown": "보기\n\n1) apple apple apple\n\n2) apple apple banana\n\n3) apple banana banana\n\n4) banana banana apple"
          },
          "metadata": {}
        }
      ],
      "source": [
        "#@title Q10\n",
        "quiz.show_q10()"
      ]
    },
    {
      "cell_type": "code",
      "execution_count": null,
      "id": "d28c7516",
      "metadata": {
        "id": "d28c7516"
      },
      "outputs": [],
      "source": [
        "quiz.answer_q10()"
      ]
    }
  ],
  "metadata": {
    "language_info": {
      "name": "python"
    },
    "colab": {
      "provenance": []
    },
    "kernelspec": {
      "name": "python3",
      "display_name": "Python 3"
    }
  },
  "nbformat": 4,
  "nbformat_minor": 5
}