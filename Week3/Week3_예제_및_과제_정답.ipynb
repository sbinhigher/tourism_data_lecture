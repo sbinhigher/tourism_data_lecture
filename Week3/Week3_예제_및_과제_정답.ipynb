{
  "nbformat": 4,
  "nbformat_minor": 0,
  "metadata": {
    "colab": {
      "provenance": []
    },
    "kernelspec": {
      "name": "python3",
      "display_name": "Python 3"
    },
    "language_info": {
      "name": "python"
    }
  },
  "cells": [
    {
      "cell_type": "markdown",
      "source": [
        "# 0. 데이터 타입 확인"
      ],
      "metadata": {
        "id": "e2I-rddqC_kJ"
      }
    },
    {
      "cell_type": "code",
      "source": [
        "#@title 예제 1. 각 변수의 데이터 타입을 출력해봅시다.\n",
        "\n",
        "x = '10,000원'\n",
        "y = True\n",
        "z = [1, 2, 3]\n",
        "\n",
        "print(type(x)) # x의 타입 출력\n",
        "print(type(y)) # y의 타입 출력\n",
        "print(type(z)) # z의 타입 출력"
      ],
      "metadata": {
        "id": "TrwUuB-5uKbm",
        "colab": {
          "base_uri": "https://localhost:8080/"
        },
        "outputId": "db3d7a20-aff3-474e-8dc3-49960efaaddd"
      },
      "execution_count": 1,
      "outputs": [
        {
          "output_type": "stream",
          "name": "stdout",
          "text": [
            "<class 'str'>\n",
            "<class 'bool'>\n",
            "<class 'list'>\n"
          ]
        }
      ]
    },
    {
      "cell_type": "markdown",
      "source": [
        "# 1. 기본형"
      ],
      "metadata": {
        "id": "PZ9hpBaUC_88"
      }
    },
    {
      "cell_type": "code",
      "source": [
        "#@title 예제 2-1. 변수 x를 정수로 변환하고 타입을 출력해봅시다.\n",
        "##\n",
        "\n",
        "x = 1.9999\n",
        "\n",
        "result = int(x)    # 힌트 : 정수로 변환하는 함수를 활용해봅시다.\n",
        "\n",
        "print(type(result)) # 힌트 : result의 타입을 출력하는 함수를 활용해봅시다."
      ],
      "metadata": {
        "id": "HoURMdUZydc0",
        "colab": {
          "base_uri": "https://localhost:8080/"
        },
        "outputId": "72f9dbb9-b805-4386-b0f1-d934aaae4bcf"
      },
      "execution_count": 2,
      "outputs": [
        {
          "output_type": "stream",
          "name": "stdout",
          "text": [
            "<class 'int'>\n"
          ]
        }
      ]
    },
    {
      "cell_type": "code",
      "source": [
        "#@title 예제 2-2. 변수 x를 실수로 변환하고 타입을 출력해봅시다.\n",
        "\n",
        "x = 1234\n",
        "\n",
        "result = float(x)    # 힌트 : 실수로 변환하는 함수를 활용해봅시다.\n",
        "\n",
        "print(type(result)) # 힌트 : result의 타입을 출력하는 함수를 활용해봅시다."
      ],
      "metadata": {
        "id": "Kcm56BQK_teq",
        "colab": {
          "base_uri": "https://localhost:8080/"
        },
        "outputId": "b2df65aa-ddc8-40c7-ac15-516ff7b0e408"
      },
      "execution_count": 3,
      "outputs": [
        {
          "output_type": "stream",
          "name": "stdout",
          "text": [
            "<class 'float'>\n"
          ]
        }
      ]
    },
    {
      "cell_type": "code",
      "source": [
        "#@title 예제 2-3. 다음 변수들을 활용해서 다음 식을 구해봅시다."
      ],
      "metadata": {
        "id": "h4ybPBI2_35a"
      },
      "execution_count": 4,
      "outputs": []
    },
    {
      "cell_type": "markdown",
      "source": [
        "$$ x^2 + 2y + \\frac{z}{2} $$"
      ],
      "metadata": {
        "id": "J6At6B6LAZCV"
      }
    },
    {
      "cell_type": "code",
      "source": [
        "x = 10\n",
        "y = 25\n",
        "z = 100\n",
        "\n",
        "result = x**2 + 2*y + z/2 # 정답\n",
        "\n",
        "print(result)"
      ],
      "metadata": {
        "id": "pT2GicpDBw86",
        "colab": {
          "base_uri": "https://localhost:8080/"
        },
        "outputId": "01de5b3f-e84a-46df-f932-f4b43d723232"
      },
      "execution_count": 5,
      "outputs": [
        {
          "output_type": "stream",
          "name": "stdout",
          "text": [
            "200.0\n"
          ]
        }
      ]
    },
    {
      "cell_type": "markdown",
      "source": [
        "# 문자형"
      ],
      "metadata": {
        "id": "stt98GpcEKV2"
      }
    },
    {
      "cell_type": "code",
      "source": [
        "#@title 예제 3-1. 문자열을 정수로 변환하고 타입을 출력해봅시다.\n",
        "\n",
        "x = \"123\"\n",
        "\n",
        "result = float(x) # 정답\n",
        "\n",
        "print(type(result))   # 타입 출력"
      ],
      "metadata": {
        "id": "Pd4cz3-NImuV",
        "colab": {
          "base_uri": "https://localhost:8080/"
        },
        "outputId": "c5982148-aca1-4ae6-8ad7-f505abaf49b1"
      },
      "execution_count": 6,
      "outputs": [
        {
          "output_type": "stream",
          "name": "stdout",
          "text": [
            "<class 'float'>\n"
          ]
        }
      ]
    },
    {
      "cell_type": "code",
      "source": [
        "#@title 예제 3-2. 문자열에서 원하는 글자를 꺼내어 출력해봅시다.\n",
        "## first_word엔 s에서 첫 번째 글자를 출력\n",
        "## slicing_words엔 s에서 \"Pyt\"를 슬라이싱으로 출력\n",
        "\n",
        "s = \"Python\"\n",
        "\n",
        "# 힌트 : 인덱싱과 슬라이싱을 어떻게 했는지 생각해봅시다.\n",
        "\n",
        "first_word = s[0] # 정답\n",
        "slicing_words = s[0:3] # 정답\n",
        "\n",
        "print(first_word)\n",
        "print(slicing_words)"
      ],
      "metadata": {
        "id": "JovnZqPUIn2M",
        "colab": {
          "base_uri": "https://localhost:8080/"
        },
        "outputId": "dd9aa0db-9359-48b6-df15-0c0f88fb622e"
      },
      "execution_count": 7,
      "outputs": [
        {
          "output_type": "stream",
          "name": "stdout",
          "text": [
            "P\n",
            "Pyt\n"
          ]
        }
      ]
    },
    {
      "cell_type": "code",
      "source": [
        "#@title 예제 3-3. 문자열 연산을 활용해서 새로운 문자열을 출력해봅시다.\n",
        "## words에는 word1과 word2를 연결해서 출력\n",
        "## word1_3에는 word1을 3번 반복해서 출력\n",
        "\n",
        "word1 = \"Hello \"\n",
        "word2 = \"Python\"\n",
        "\n",
        "# 힌트 : 문자열도 연산이 가능합니다.\n",
        "\n",
        "words = word1 + word2 # 정답\n",
        "word1_3 = word1 * 3 # 정답\n",
        "\n",
        "print(words)\n",
        "print(word1_3)"
      ],
      "metadata": {
        "id": "-mt0Yq4sInz-",
        "colab": {
          "base_uri": "https://localhost:8080/"
        },
        "outputId": "d8813756-6b5b-4f6e-e521-b730ae4bf95f"
      },
      "execution_count": 8,
      "outputs": [
        {
          "output_type": "stream",
          "name": "stdout",
          "text": [
            "Hello Python\n",
            "Hello Hello Hello \n"
          ]
        }
      ]
    },
    {
      "cell_type": "code",
      "source": [
        "#@title 예제 3-4. 문자열에 적용할 수 있는 메서드를 활용해봅시다.\n",
        "\n",
        "name = \"kang\"\n",
        "\n",
        "upper = name.upper() # 대문자로 변환\n",
        "replace = name.replace('k','K') # 'k'를 'K'로 변환\n",
        "\n",
        "print(upper)\n",
        "print(replace)"
      ],
      "metadata": {
        "colab": {
          "base_uri": "https://localhost:8080/"
        },
        "outputId": "013e78df-dca0-4fb9-a0a9-46202c98b3fa",
        "id": "vFCdpyAYJFd3"
      },
      "execution_count": 9,
      "outputs": [
        {
          "output_type": "stream",
          "name": "stdout",
          "text": [
            "KANG\n",
            "Kang\n"
          ]
        }
      ]
    },
    {
      "cell_type": "code",
      "source": [],
      "metadata": {
        "id": "uMFtdMlTJcmL"
      },
      "execution_count": 9,
      "outputs": []
    },
    {
      "cell_type": "code",
      "execution_count": 10,
      "metadata": {
        "id": "46154311"
      },
      "outputs": [],
      "source": [
        "!wget -q -O Week3_Q.py https://raw.githubusercontent.com/sbinhigher/tourism_data_lecture/main/Week3/Week3_Q.py"
      ]
    },
    {
      "cell_type": "code",
      "source": [
        "import Week3_Q as quiz"
      ],
      "metadata": {
        "id": "ytZT740WKj9E"
      },
      "execution_count": 11,
      "outputs": []
    },
    {
      "cell_type": "code",
      "source": [
        "quiz.show_all_explanations()              # 기본값: 정답 포함"
      ],
      "metadata": {
        "colab": {
          "base_uri": "https://localhost:8080/",
          "height": 1000
        },
        "id": "e6H1HVYeK6Jv",
        "outputId": "eb4ea8a2-7d1c-466c-fad3-4afc3bf77d8e"
      },
      "execution_count": 15,
      "outputs": [
        {
          "output_type": "display_data",
          "data": {
            "text/plain": [
              "<IPython.core.display.Markdown object>"
            ],
            "text/markdown": "## 📘 Week3 전체 해설"
          },
          "metadata": {}
        },
        {
          "output_type": "display_data",
          "data": {
            "text/plain": [
              "<IPython.core.display.Markdown object>"
            ],
            "text/markdown": "### Q1 해설\n\n> **정답:** `s[0]`  \n"
          },
          "metadata": {}
        },
        {
          "output_type": "stream",
          "name": "stdout",
          "text": [
            "Q1 해설: 문자열 인덱스는 0부터 시작하며, s[0]은 첫 글자를 가리킵니다.\n"
          ]
        },
        {
          "output_type": "display_data",
          "data": {
            "text/plain": [
              "<IPython.core.display.Markdown object>"
            ],
            "text/markdown": "---"
          },
          "metadata": {}
        },
        {
          "output_type": "display_data",
          "data": {
            "text/plain": [
              "<IPython.core.display.Markdown object>"
            ],
            "text/markdown": "### Q2 해설\n\n> **정답:** `s[0:3]  (또는 s[:3])`  \n"
          },
          "metadata": {}
        },
        {
          "output_type": "stream",
          "name": "stdout",
          "text": [
            "Q2 해설: s[0:3] 은 0~2번째까지 잘라내므로 'Pyt'이 출력됩니다.\n",
            "         슬라이싱은 시작 인덱스 포함, 끝 인덱스 미포함 규칙을 기억하세요.\n"
          ]
        },
        {
          "output_type": "display_data",
          "data": {
            "text/plain": [
              "<IPython.core.display.Markdown object>"
            ],
            "text/markdown": "---"
          },
          "metadata": {}
        },
        {
          "output_type": "display_data",
          "data": {
            "text/plain": [
              "<IPython.core.display.Markdown object>"
            ],
            "text/markdown": "### Q3 해설\n\n> **정답:** `1  (문자열은 불변)`  \n"
          },
          "metadata": {}
        },
        {
          "output_type": "stream",
          "name": "stdout",
          "text": [
            "Q3 해설: 데이터 형의 기본 특성\n",
            "1) 문자열(str)은 불변(immutable)이다. ✅ 올바른 설명입니다.\n",
            "2) 10 + 10.0 의 결과 타입은 int 이다. ❌ 틀림 → 정수 + 실수 = float 이므로 결과는 float입니다.\n",
            "3) 인덱싱은 1부터 시작한다. ❌ 틀림 → 파이썬은 0부터 시작합니다.\n",
            "4) '3' + 4 는 7 이 된다. ❌ 틀림 → 문자열 '3'과 숫자 4는 더할 수 없어 TypeError가 발생합니다.\n"
          ]
        },
        {
          "output_type": "display_data",
          "data": {
            "text/plain": [
              "<IPython.core.display.Markdown object>"
            ],
            "text/markdown": "---"
          },
          "metadata": {}
        },
        {
          "output_type": "display_data",
          "data": {
            "text/plain": [
              "<IPython.core.display.Markdown object>"
            ],
            "text/markdown": "### Q4 해설\n\n> **정답:** `16.5`  \n"
          },
          "metadata": {}
        },
        {
          "output_type": "stream",
          "name": "stdout",
          "text": [
            "Q4 해설: / 는 실수 나눗셈, // 는 몫(정수 나눗셈), ** 는 거듭제곱 연산입니다.\n",
            "         a + b/c - d//2 + e**2 = 7 + 10/4 - 2 + 9 = 7 + 2.5 - 2 + 9 = 16.5\n"
          ]
        },
        {
          "output_type": "display_data",
          "data": {
            "text/plain": [
              "<IPython.core.display.Markdown object>"
            ],
            "text/markdown": "---"
          },
          "metadata": {}
        },
        {
          "output_type": "display_data",
          "data": {
            "text/plain": [
              "<IPython.core.display.Markdown object>"
            ],
            "text/markdown": "### Q5 해설\n\n> **정답:** `2  (float)`  \n"
          },
          "metadata": {}
        },
        {
          "output_type": "stream",
          "name": "stdout",
          "text": [
            "Q5 해설: 연산 결과의 타입\n",
            "1) int ❌ 틀림 → 정수와 실수를 더하면 결과는 실수입니다.\n",
            "2) float ✅ 정답 → 10 + 10.0 = 20.0 으로 float 입니다.\n",
            "3) str ❌ 틀림 → 문자열 연산이 아니므로 str 이 될 수 없습니다.\n",
            "4) bool ❌ 틀림 → True/False와 관련된 연산이 아니므로 bool 이 아닙니다.\n"
          ]
        },
        {
          "output_type": "display_data",
          "data": {
            "text/plain": [
              "<IPython.core.display.Markdown object>"
            ],
            "text/markdown": "---"
          },
          "metadata": {}
        },
        {
          "output_type": "display_data",
          "data": {
            "text/plain": [
              "<IPython.core.display.Markdown object>"
            ],
            "text/markdown": "### Q6 해설\n\n> **정답:** `f\"{city} has {rating} rating.\"  (또는 \"{} has {} rating.\".format(city, rating))`  \n"
          },
          "metadata": {}
        },
        {
          "output_type": "stream",
          "name": "stdout",
          "text": [
            "Q6 해설: 문자열 포맷팅\n",
            "- f-string: f\"{city} has {rating} rating.\" 처럼 변수값을 직접 삽입할 수 있어 간결합니다.\n",
            "- format(): \"{} has {} rating.\".format(city, rating) 도 동일한 결과를 냅니다.\n"
          ]
        },
        {
          "output_type": "display_data",
          "data": {
            "text/plain": [
              "<IPython.core.display.Markdown object>"
            ],
            "text/markdown": "---"
          },
          "metadata": {}
        },
        {
          "output_type": "display_data",
          "data": {
            "text/plain": [
              "<IPython.core.display.Markdown object>"
            ],
            "text/markdown": "### Q7 해설\n\n> **정답:** `1  (float(str(3.14)) → float)`  \n"
          },
          "metadata": {}
        },
        {
          "output_type": "stream",
          "name": "stdout",
          "text": [
            "Q7 해설: str() 변환 후 ‘복원 가능’ 판단\n",
            "1) float(str(3.14)) ✅ 가능 → '3.14'는 float()로 정확히 3.14로 복원됩니다.\n",
            "2) bool(str(True))  ❌ 일반적 복원으로 보지 않습니다.\n",
            "   - 이유: bool('무슨문자열이든') 은 비어있지 않으면 항상 True 입니다.\n",
            "           예를 들어 bool('False') 도 True 가 되어 의미 보존이 되지 않습니다.\n",
            "3) list(str([1, 2, 3])) ❌ '[1, 2, 3]' 은 단순 문자열일 뿐 list 로 파싱되지 않습니다.\n",
            "4) dict(str({'a': 1})) ❌ \"{'a': 1}\" 역시 문자열이며 dict()로 변환할 수 없습니다.\n"
          ]
        },
        {
          "output_type": "display_data",
          "data": {
            "text/plain": [
              "<IPython.core.display.Markdown object>"
            ],
            "text/markdown": "---"
          },
          "metadata": {}
        },
        {
          "output_type": "display_data",
          "data": {
            "text/plain": [
              "<IPython.core.display.Markdown object>"
            ],
            "text/markdown": "### Q8 해설\n\n> **정답:** `1  (list는 기본형이 아님)`  \n"
          },
          "metadata": {}
        },
        {
          "output_type": "stream",
          "name": "stdout",
          "text": [
            "Q8 해설: 기본형이 아닌 것\n",
            "1) list ✅ 정답 → list는 컬렉션형(복합형)으로 기본형이 아닙니다.\n",
            "2) int ❌ 틀림 → 숫자형 기본형입니다.\n",
            "3) float ❌ 틀림 → 숫자형 기본형입니다.\n",
            "4) bool ❌ 틀림 → 불리안 기본형입니다.\n",
            "5) str ❌ 틀림 → 문자열 기본형입니다.\n"
          ]
        },
        {
          "output_type": "display_data",
          "data": {
            "text/plain": [
              "<IPython.core.display.Markdown object>"
            ],
            "text/markdown": "---"
          },
          "metadata": {}
        },
        {
          "output_type": "display_data",
          "data": {
            "text/plain": [
              "<IPython.core.display.Markdown object>"
            ],
            "text/markdown": "### Q9 해설\n\n> **정답:** `3  (int(\"3.14\")는 ValueError)`  \n"
          },
          "metadata": {}
        },
        {
          "output_type": "stream",
          "name": "stdout",
          "text": [
            "Q9 해설: 숫자형 변환 에러\n",
            "1) int('123')   ✅ 정상 → '123' 은 정수 123으로 변환 가능합니다.\n",
            "2) float('3.14')✅ 정상 → '3.14' 는 실수 3.14로 변환 가능합니다.\n",
            "3) int('3.14')  ❌ 에러 → int()는 소수점 문자열을 직접 변환하지 못해 ValueError 발생.\n",
            "4) float('10')  ✅ 정상 → '10' 은 10.0 으로 변환됩니다.\n"
          ]
        },
        {
          "output_type": "display_data",
          "data": {
            "text/plain": [
              "<IPython.core.display.Markdown object>"
            ],
            "text/markdown": "---"
          },
          "metadata": {}
        },
        {
          "output_type": "display_data",
          "data": {
            "text/plain": [
              "<IPython.core.display.Markdown object>"
            ],
            "text/markdown": "### Q10 해설\n\n> **정답:** `2  (apple apple banana)`  \n"
          },
          "metadata": {}
        },
        {
          "output_type": "stream",
          "name": "stdout",
          "text": [
            "Q10 해설: replace(old, new, count)\n",
            "- count를 지정하면 앞에서부터 해당 횟수만 치환합니다.\n",
            "- 예제: 'banana banana banana' 에서 2회 치환 → 'apple apple banana'\n",
            "- count를 생략하면 전체가 치환됩니다.\n"
          ]
        },
        {
          "output_type": "display_data",
          "data": {
            "text/plain": [
              "<IPython.core.display.Markdown object>"
            ],
            "text/markdown": "---"
          },
          "metadata": {}
        },
        {
          "output_type": "display_data",
          "data": {
            "text/plain": [
              "<IPython.core.display.Markdown object>"
            ],
            "text/markdown": "✅ **모든 해설이 출력되었습니다.**"
          },
          "metadata": {}
        }
      ]
    },
    {
      "cell_type": "code",
      "source": [],
      "metadata": {
        "id": "E5SVnwR1KufR"
      },
      "execution_count": null,
      "outputs": []
    }
  ]
}