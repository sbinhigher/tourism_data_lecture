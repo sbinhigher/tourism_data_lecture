{
 "cells": [
  {
   "cell_type": "code",
   "execution_count": 8,
   "id": "a4f276b3-d5c6-42b5-987a-edbd380610f1",
   "metadata": {
    "scrolled": true
   },
   "outputs": [],
   "source": [
    "import Week2_Q as quiz"
   ]
  },
  {
   "cell_type": "code",
   "execution_count": 4,
   "id": "5eced671-f504-495d-8be2-a6e6bcd81008",
   "metadata": {
    "scrolled": true
   },
   "outputs": [
    {
     "data": {
      "text/html": [
       "\n",
       "<style>\n",
       ".quiz-panel {border:1px solid #e5e7eb;border-left:6px solid #3b82f6;border-radius:10px;\n",
       "             padding:14px 16px;margin:10px 0;background:#fafbff;font-family:ui-sans-serif,system-ui,-apple-system,Segoe UI,Roboto,Noto Sans,Apple SD Gothic Neo,Helvetica Neue,Arial;}\n",
       ".quiz-title {font-weight:700;color:#1f2937;margin-bottom:6px;font-size:1.05rem;}\n",
       ".quiz-body  {color:#374151;line-height:1.6;}\n",
       ".quiz-code  {background:#111827;color:#e5e7eb;padding:10px 12px;border-radius:8px;\n",
       "             font-family:ui-monospace,SFMono-Regular,Menlo,Monaco,Consolas,\"Liberation Mono\",monospace;margin-top:8px;white-space:pre-wrap;}\n",
       ".quiz-hint  {color:#6b7280;font-size:0.92rem;margin-top:8px;}\n",
       "</style>\n",
       "<div class=\"quiz-panel\"><div class=\"quiz-title\">Q1) 아래 코드의 빈칸에 들어갈 **출력 함수** 이름을 쓰세요.</div><div class=\"quiz-body\">\n",
       "\n",
       "`빈칸(\"Hello Jeju\")`</div><div class=\"quiz-code\">빈칸(\"Hello Jeju\")</div><div class=\"quiz-hint\">힌트: 파이썬에서 화면에 출력할 때 쓰는 내장 함수</div></div>"
      ],
      "text/plain": [
       "<IPython.core.display.HTML object>"
      ]
     },
     "metadata": {},
     "output_type": "display_data"
    }
   ],
   "source": [
    "#@ title Q1\n",
    "quiz.show_q1()"
   ]
  },
  {
   "cell_type": "code",
   "execution_count": null,
   "id": "3d4bedfd-f15a-4cf9-874d-901ba0701721",
   "metadata": {},
   "outputs": [],
   "source": [
    "quiz.answer_q1()"
   ]
  },
  {
   "cell_type": "code",
   "execution_count": 9,
   "id": "d2a3add8-edb8-4c21-a7e9-cf6606ca2274",
   "metadata": {},
   "outputs": [
    {
     "data": {
      "text/html": [
       "\n",
       "<style>\n",
       ".quiz-panel {border:1px solid #e5e7eb;border-left:6px solid #3b82f6;border-radius:10px;\n",
       "             padding:14px 16px;margin:10px 0;background:#fafbff;font-family:ui-sans-serif,system-ui,-apple-system,Segoe UI,Roboto,Noto Sans,Apple SD Gothic Neo,Helvetica Neue,Arial;}\n",
       ".quiz-title {font-weight:700;color:#1f2937;margin-bottom:6px;font-size:1.05rem;}\n",
       ".quiz-body  {color:#374151;line-height:1.6;}\n",
       ".quiz-code  {background:#111827;color:#e5e7eb;padding:10px 12px;border-radius:8px;\n",
       "             font-family:ui-monospace,SFMono-Regular,Menlo,Monaco,Consolas,\"Liberation Mono\",monospace;margin-top:8px;white-space:pre-wrap;}\n",
       ".quiz-hint  {color:#6b7280;font-size:0.92rem;margin-top:8px;}\n",
       "</style>\n",
       "<div class=\"quiz-panel\"><div class=\"quiz-title\">Q2) 객관식: 포맷팅 문법이 잘못 적용된 경우는?</div><div class=\"quiz-body\">다음 중 문법적으로 잘못되었거나 실행 시 오류가 나는 포맷팅을 고르세요.</div><div class=\"quiz-hint\">힌트: 포맷 문자열의 '필드'와 format() 인자의 매칭 규칙을 떠올려 보세요.</div></div>"
      ],
      "text/plain": [
       "<IPython.core.display.HTML object>"
      ]
     },
     "metadata": {},
     "output_type": "display_data"
    },
    {
     "data": {
      "text/markdown": [
       "**보기**\n",
       "\n",
       "1) f\"{name} is {age} years old.\"\n",
       "\n",
       "2) \"{} is {} years old.\".format(name, age)\n",
       "\n",
       "3) \"{name} is {age} years old.\".format(name, age)"
      ],
      "text/plain": [
       "<IPython.core.display.Markdown object>"
      ]
     },
     "metadata": {},
     "output_type": "display_data"
    }
   ],
   "source": [
    "#@ title Q2\n",
    "quiz.show_q2()"
   ]
  },
  {
   "cell_type": "code",
   "execution_count": null,
   "id": "4632f6e2-44d5-456a-ad13-fecd3146f87b",
   "metadata": {},
   "outputs": [],
   "source": [
    "quiz.answer_q2()"
   ]
  },
  {
   "cell_type": "code",
   "execution_count": 31,
   "id": "be9bbe14-333b-4d4a-86ef-87bbfacde5ad",
   "metadata": {},
   "outputs": [
    {
     "data": {
      "text/html": [
       "\n",
       "<style>\n",
       ".quiz-panel {border:1px solid #e5e7eb;border-left:6px solid #3b82f6;border-radius:10px;\n",
       "             padding:14px 16px;margin:10px 0;background:#fafbff;font-family:ui-sans-serif,system-ui,-apple-system,Segoe UI,Roboto,Noto Sans,Apple SD Gothic Neo,Helvetica Neue,Arial;}\n",
       ".quiz-title {font-weight:700;color:#1f2937;margin-bottom:6px;font-size:1.05rem;}\n",
       ".quiz-body  {color:#374151;line-height:1.6;}\n",
       ".quiz-code  {background:#111827;color:#e5e7eb;padding:10px 12px;border-radius:8px;\n",
       "             font-family:ui-monospace,SFMono-Regular,Menlo,Monaco,Consolas,\"Liberation Mono\",monospace;margin-top:8px;white-space:pre-wrap;}\n",
       ".quiz-hint  {color:#6b7280;font-size:0.92rem;margin-top:8px;}\n",
       "</style>\n",
       "<div class=\"quiz-panel\"><div class=\"quiz-title\">Q3) 인덱싱</div><div class=\"quiz-body\">`word = \"Seongsan\"` 일 때, `word[0]`의 값(문자 그대로)을 쓰세요.</div></div>"
      ],
      "text/plain": [
       "<IPython.core.display.HTML object>"
      ]
     },
     "metadata": {},
     "output_type": "display_data"
    }
   ],
   "source": [
    "#@ title Q3\n",
    "quiz.show_q3()"
   ]
  },
  {
   "cell_type": "code",
   "execution_count": null,
   "id": "8add3823-cee8-4e89-afd1-46a9686dd2a3",
   "metadata": {},
   "outputs": [],
   "source": [
    "quiz.answer_q3()"
   ]
  },
  {
   "cell_type": "code",
   "execution_count": 33,
   "id": "f0369118-2c74-4456-9c83-5bb80c5f9460",
   "metadata": {
    "scrolled": true
   },
   "outputs": [
    {
     "data": {
      "text/html": [
       "\n",
       "<style>\n",
       ".quiz-panel {border:1px solid #e5e7eb;border-left:6px solid #3b82f6;border-radius:10px;\n",
       "             padding:14px 16px;margin:10px 0;background:#fafbff;font-family:ui-sans-serif,system-ui,-apple-system,Segoe UI,Roboto,Noto Sans,Apple SD Gothic Neo,Helvetica Neue,Arial;}\n",
       ".quiz-title {font-weight:700;color:#1f2937;margin-bottom:6px;font-size:1.05rem;}\n",
       ".quiz-body  {color:#374151;line-height:1.6;}\n",
       ".quiz-code  {background:#111827;color:#e5e7eb;padding:10px 12px;border-radius:8px;\n",
       "             font-family:ui-monospace,SFMono-Regular,Menlo,Monaco,Consolas,\"Liberation Mono\",monospace;margin-top:8px;white-space:pre-wrap;}\n",
       ".quiz-hint  {color:#6b7280;font-size:0.92rem;margin-top:8px;}\n",
       "</style>\n",
       "<div class=\"quiz-panel\"><div class=\"quiz-title\">Q4) 슬라이싱</div><div class=\"quiz-body\">`word = \"Seongsan\"` 일 때, `word[:4]`의 결과를 쓰세요.</div><div class=\"quiz-hint\">힌트: 끝 인덱스는 포함되지 않습니다.</div></div>"
      ],
      "text/plain": [
       "<IPython.core.display.HTML object>"
      ]
     },
     "metadata": {},
     "output_type": "display_data"
    }
   ],
   "source": [
    "#@ title Q4\n",
    "quiz.show_q4()"
   ]
  },
  {
   "cell_type": "code",
   "execution_count": null,
   "id": "554a4e1d-9433-46a2-8521-fd6c9ffafbde",
   "metadata": {},
   "outputs": [],
   "source": [
    "quiz.answer_q4()"
   ]
  },
  {
   "cell_type": "code",
   "execution_count": 35,
   "id": "1c415ab8-bedd-4b93-95e4-2516fa3b1405",
   "metadata": {},
   "outputs": [
    {
     "data": {
      "text/html": [
       "\n",
       "<style>\n",
       ".quiz-panel {border:1px solid #e5e7eb;border-left:6px solid #3b82f6;border-radius:10px;\n",
       "             padding:14px 16px;margin:10px 0;background:#fafbff;font-family:ui-sans-serif,system-ui,-apple-system,Segoe UI,Roboto,Noto Sans,Apple SD Gothic Neo,Helvetica Neue,Arial;}\n",
       ".quiz-title {font-weight:700;color:#1f2937;margin-bottom:6px;font-size:1.05rem;}\n",
       ".quiz-body  {color:#374151;line-height:1.6;}\n",
       ".quiz-code  {background:#111827;color:#e5e7eb;padding:10px 12px;border-radius:8px;\n",
       "             font-family:ui-monospace,SFMono-Regular,Menlo,Monaco,Consolas,\"Liberation Mono\",monospace;margin-top:8px;white-space:pre-wrap;}\n",
       ".quiz-hint  {color:#6b7280;font-size:0.92rem;margin-top:8px;}\n",
       "</style>\n",
       "<div class=\"quiz-panel\"><div class=\"quiz-title\">Q5) 객관식: 자료형 특성</div><div class=\"quiz-body\">**순서가 없고**, **중복을 허용하지 않으며**, **가변**인 자료형은?</div></div>"
      ],
      "text/plain": [
       "<IPython.core.display.HTML object>"
      ]
     },
     "metadata": {},
     "output_type": "display_data"
    },
    {
     "data": {
      "text/markdown": [
       "**보기**\n",
       "\n",
       "1) list\n",
       "\n",
       "2) **set**\n",
       "\n",
       "3) tuple"
      ],
      "text/plain": [
       "<IPython.core.display.Markdown object>"
      ]
     },
     "metadata": {},
     "output_type": "display_data"
    }
   ],
   "source": [
    "#@ title Q5\n",
    "quiz.show_q5()"
   ]
  },
  {
   "cell_type": "code",
   "execution_count": null,
   "id": "dc81c292-4d3f-44da-8d95-a1818c418332",
   "metadata": {},
   "outputs": [],
   "source": [
    "quiz.answer_q5()"
   ]
  },
  {
   "cell_type": "code",
   "execution_count": 6,
   "id": "dab2fd08-93f9-4b03-b6d4-105efe6fd030",
   "metadata": {},
   "outputs": [
    {
     "data": {
      "text/html": [
       "\n",
       "<style>\n",
       ".quiz-panel {border:1px solid #e5e7eb;border-left:6px solid #3b82f6;border-radius:10px;\n",
       "             padding:14px 16px;margin:10px 0;background:#fafbff;font-family:ui-sans-serif,system-ui,-apple-system,Segoe UI,Roboto,Noto Sans,Apple SD Gothic Neo,Helvetica Neue,Arial;}\n",
       ".quiz-title {font-weight:700;color:#1f2937;margin-bottom:6px;font-size:1.05rem;}\n",
       ".quiz-body  {color:#374151;line-height:1.6;}\n",
       ".quiz-code  {background:#111827;color:#e5e7eb;padding:10px 12px;border-radius:8px;\n",
       "             font-family:ui-monospace,SFMono-Regular,Menlo,Monaco,Consolas,\"Liberation Mono\",monospace;margin-top:8px;white-space:pre-wrap;}\n",
       ".quiz-hint  {color:#6b7280;font-size:0.92rem;margin-top:8px;}\n",
       "</style>\n",
       "<div class=\"quiz-panel\"><div class=\"quiz-title\">Q6) Set의 특성</div><div class=\"quiz-body\">다음 코드의 결과값을 **정수**로 입력하시오.</div><div class=\"quiz-code\">print(len(set(['hiking', 'swimming', 'hiking', 'snorkeling', 'hiking'])))</div><div class=\"quiz-hint\">힌트: len() 함수는 시퀀스나 컬렉션의 길이(원소 개수)를 반환합니다.</div></div>"
      ],
      "text/plain": [
       "<IPython.core.display.HTML object>"
      ]
     },
     "metadata": {},
     "output_type": "display_data"
    }
   ],
   "source": [
    "#@ title Q6\n",
    "quiz.show_q6()"
   ]
  },
  {
   "cell_type": "code",
   "execution_count": null,
   "id": "46781cbb-58ca-4851-be97-5d311dc08f40",
   "metadata": {},
   "outputs": [],
   "source": [
    "quiz.answer_q6()"
   ]
  },
  {
   "cell_type": "code",
   "execution_count": 10,
   "id": "5de97244-0a44-4fd7-a481-006895399ee7",
   "metadata": {
    "scrolled": true
   },
   "outputs": [
    {
     "data": {
      "text/html": [
       "\n",
       "<style>\n",
       ".quiz-panel {border:1px solid #e5e7eb;border-left:6px solid #3b82f6;border-radius:10px;\n",
       "             padding:14px 16px;margin:10px 0;background:#fafbff;font-family:ui-sans-serif,system-ui,-apple-system,Segoe UI,Roboto,Noto Sans,Apple SD Gothic Neo,Helvetica Neue,Arial;}\n",
       ".quiz-title {font-weight:700;color:#1f2937;margin-bottom:6px;font-size:1.05rem;}\n",
       ".quiz-body  {color:#374151;line-height:1.6;}\n",
       ".quiz-code  {background:#111827;color:#e5e7eb;padding:10px 12px;border-radius:8px;\n",
       "             font-family:ui-monospace,SFMono-Regular,Menlo,Monaco,Consolas,\"Liberation Mono\",monospace;margin-top:8px;white-space:pre-wrap;}\n",
       ".quiz-hint  {color:#6b7280;font-size:0.92rem;margin-top:8px;}\n",
       "</style>\n",
       "<div class=\"quiz-panel\"><div class=\"quiz-title\">Q7) 딕셔너리 접근</div><div class=\"quiz-body\">`spot_info[\"Hallasan\"][\"height_m\"]`의 값은? **정수**로 쓰세요.</div><div class=\"quiz-code\">spot_info = {\n",
       "    \"Hallasan\": {\"height_m\": 1947, \"rating\": 4.8, \"activity\": \"hiking\"},\n",
       "    \"Seongsan Ilchulbong\": {\"height_m\": 182, \"rating\": 4.9, \"activity\": \"hiking\"},\n",
       "    \"Hyeopjae Beach\": {\"visitors_monthly\": 100_000, \"rating\": 4.6, \"activity\": \"swimming\"}\n",
       "}\n",
       "print(spot_info[\"Hallasan\"][\"height_m\"])</div><div class=\"quiz-hint\">힌트: 중첩 딕셔너리에서 키를 순서대로 접근합니다: [\"Hallasan\"] → [\"height_m\"]</div></div>"
      ],
      "text/plain": [
       "<IPython.core.display.HTML object>"
      ]
     },
     "metadata": {},
     "output_type": "display_data"
    }
   ],
   "source": [
    "#@ title Q7\n",
    "quiz.show_q7()"
   ]
  },
  {
   "cell_type": "code",
   "execution_count": null,
   "id": "b2bda455-b055-4bff-90d7-dddf3eec44e1",
   "metadata": {},
   "outputs": [],
   "source": [
    "quiz.answer_q7()"
   ]
  },
  {
   "cell_type": "code",
   "execution_count": 9,
   "id": "d253b7af-7606-4e78-b873-e88e07ec4cfc",
   "metadata": {},
   "outputs": [
    {
     "data": {
      "text/html": [
       "\n",
       "<style>\n",
       ".quiz-panel {border:1px solid #e5e7eb;border-left:6px solid #3b82f6;border-radius:10px;\n",
       "             padding:14px 16px;margin:10px 0;background:#fafbff;font-family:ui-sans-serif,system-ui,-apple-system,Segoe UI,Roboto,Noto Sans,Apple SD Gothic Neo,Helvetica Neue,Arial;}\n",
       ".quiz-title {font-weight:700;color:#1f2937;margin-bottom:6px;font-size:1.05rem;}\n",
       ".quiz-body  {color:#374151;line-height:1.6;}\n",
       ".quiz-code  {background:#111827;color:#e5e7eb;padding:10px 12px;border-radius:8px;\n",
       "             font-family:ui-monospace,SFMono-Regular,Menlo,Monaco,Consolas,\"Liberation Mono\",monospace;margin-top:8px;white-space:pre-wrap;}\n",
       ".quiz-hint  {color:#6b7280;font-size:0.92rem;margin-top:8px;}\n",
       "</style>\n",
       "<div class=\"quiz-panel\"><div class=\"quiz-title\">Q8) 객관식: 딕셔너리 요소</div><div class=\"quiz-body\">다음 중 **딕셔너리를 구성하는 요소가 아닌 것**은?</div></div>"
      ],
      "text/plain": [
       "<IPython.core.display.HTML object>"
      ]
     },
     "metadata": {},
     "output_type": "display_data"
    },
    {
     "data": {
      "text/markdown": [
       "**보기**\n",
       "\n",
       "1) keys\n",
       "\n",
       "2) values\n",
       "\n",
       "3) indexes\n",
       "\n",
       "4) items"
      ],
      "text/plain": [
       "<IPython.core.display.Markdown object>"
      ]
     },
     "metadata": {},
     "output_type": "display_data"
    }
   ],
   "source": [
    "#@ title Q8\n",
    "quiz.show_q8()"
   ]
  },
  {
   "cell_type": "code",
   "execution_count": null,
   "id": "f05242d0-247e-4af9-b2ba-a122b77a4d59",
   "metadata": {},
   "outputs": [],
   "source": [
    "quiz.answer_q8()"
   ]
  },
  {
   "cell_type": "code",
   "execution_count": 43,
   "id": "d8975676-61b9-4366-85f8-331071ae3334",
   "metadata": {},
   "outputs": [
    {
     "data": {
      "text/html": [
       "\n",
       "<style>\n",
       ".quiz-panel {border:1px solid #e5e7eb;border-left:6px solid #3b82f6;border-radius:10px;\n",
       "             padding:14px 16px;margin:10px 0;background:#fafbff;font-family:ui-sans-serif,system-ui,-apple-system,Segoe UI,Roboto,Noto Sans,Apple SD Gothic Neo,Helvetica Neue,Arial;}\n",
       ".quiz-title {font-weight:700;color:#1f2937;margin-bottom:6px;font-size:1.05rem;}\n",
       ".quiz-body  {color:#374151;line-height:1.6;}\n",
       ".quiz-code  {background:#111827;color:#e5e7eb;padding:10px 12px;border-radius:8px;\n",
       "             font-family:ui-monospace,SFMono-Regular,Menlo,Monaco,Consolas,\"Liberation Mono\",monospace;margin-top:8px;white-space:pre-wrap;}\n",
       ".quiz-hint  {color:#6b7280;font-size:0.92rem;margin-top:8px;}\n",
       "</style>\n",
       "<div class=\"quiz-panel\"><div class=\"quiz-title\">Q9) f-string 결과 쓰기</div><div class=\"quiz-body\">다음 f-string의 **출력 결과 전체**를 정확히 쓰세요.</div><div class=\"quiz-code\">spot=\"Hallasan\"; h=1947\n",
       "f\"{spot} is {h} meters tall.\"</div></div>"
      ],
      "text/plain": [
       "<IPython.core.display.HTML object>"
      ]
     },
     "metadata": {},
     "output_type": "display_data"
    }
   ],
   "source": [
    "#@ title Q9\n",
    "quiz.show_q9()"
   ]
  },
  {
   "cell_type": "code",
   "execution_count": null,
   "id": "9938dfe1-f26d-4764-b7dd-0bdb9adf513b",
   "metadata": {},
   "outputs": [],
   "source": [
    "quiz.answer_q9()"
   ]
  },
  {
   "cell_type": "code",
   "execution_count": 11,
   "id": "2b52cd16-f7ec-4f70-aabd-021c0ce3de10",
   "metadata": {
    "scrolled": true
   },
   "outputs": [
    {
     "data": {
      "text/html": [
       "\n",
       "<style>\n",
       ".quiz-panel {border:1px solid #e5e7eb;border-left:6px solid #3b82f6;border-radius:10px;\n",
       "             padding:14px 16px;margin:10px 0;background:#fafbff;font-family:ui-sans-serif,system-ui,-apple-system,Segoe UI,Roboto,Noto Sans,Apple SD Gothic Neo,Helvetica Neue,Arial;}\n",
       ".quiz-title {font-weight:700;color:#1f2937;margin-bottom:6px;font-size:1.05rem;}\n",
       ".quiz-body  {color:#374151;line-height:1.6;}\n",
       ".quiz-code  {background:#111827;color:#e5e7eb;padding:10px 12px;border-radius:8px;\n",
       "             font-family:ui-monospace,SFMono-Regular,Menlo,Monaco,Consolas,\"Liberation Mono\",monospace;margin-top:8px;white-space:pre-wrap;}\n",
       ".quiz-hint  {color:#6b7280;font-size:0.92rem;margin-top:8px;}\n",
       "</style>\n",
       "<div class=\"quiz-panel\"><div class=\"quiz-title\">Q10) 객관식: 부동소수점 비교</div><div class=\"quiz-body\">`0.1 + 0.2 == 0.3` 의 결과로 알맞은 것은?</div></div>"
      ],
      "text/plain": [
       "<IPython.core.display.HTML object>"
      ]
     },
     "metadata": {},
     "output_type": "display_data"
    },
    {
     "data": {
      "text/markdown": [
       "**보기**\n",
       "\n",
       "1) True (정확히 같다)\n",
       "\n",
       "2) False (부동소수점 오차)\n",
       "\n",
       "3) 비교 불가"
      ],
      "text/plain": [
       "<IPython.core.display.Markdown object>"
      ]
     },
     "metadata": {},
     "output_type": "display_data"
    }
   ],
   "source": [
    "#@ title Q10\n",
    "quiz.show_q10()"
   ]
  },
  {
   "cell_type": "code",
   "execution_count": null,
   "id": "6c8cbe08-932c-4548-bb50-51142f71c543",
   "metadata": {},
   "outputs": [],
   "source": [
    "quiz.answer_q10()"
   ]
  },
  {
   "cell_type": "code",
   "execution_count": 49,
   "id": "723ccab2-cdf2-4620-a0b3-343f10650adc",
   "metadata": {},
   "outputs": [
    {
     "data": {
      "text/html": [
       "\n",
       "<style>\n",
       ".quiz-panel {border:1px solid #e5e7eb;border-left:6px solid #3b82f6;border-radius:10px;\n",
       "             padding:14px 16px;margin:10px 0;background:#fafbff;font-family:ui-sans-serif,system-ui,-apple-system,Segoe UI,Roboto,Noto Sans,Apple SD Gothic Neo,Helvetica Neue,Arial;}\n",
       ".quiz-title {font-weight:700;color:#1f2937;margin-bottom:6px;font-size:1.05rem;}\n",
       ".quiz-body  {color:#374151;line-height:1.6;}\n",
       ".quiz-code  {background:#111827;color:#e5e7eb;padding:10px 12px;border-radius:8px;\n",
       "             font-family:ui-monospace,SFMono-Regular,Menlo,Monaco,Consolas,\"Liberation Mono\",monospace;margin-top:8px;white-space:pre-wrap;}\n",
       ".quiz-hint  {color:#6b7280;font-size:0.92rem;margin-top:8px;}\n",
       "</style>\n",
       "<div class=\"quiz-panel\"><div class=\"quiz-title\">Q11) 객관식: 실수 비교의 권장 방법</div><div class=\"quiz-body\">`0.1 + 0.2` 를 `0.3`과 비교할 때 권장되는 방법은?</div></div>"
      ],
      "text/plain": [
       "<IPython.core.display.HTML object>"
      ]
     },
     "metadata": {},
     "output_type": "display_data"
    },
    {
     "data": {
      "text/markdown": [
       "**보기**\n",
       "\n",
       "1) 그냥 == 로 비교\n",
       "\n",
       "2) **abs(차이) < 아주 작은 수** 또는 `math.isclose`\n",
       "\n",
       "3) 문자열로 변환해서 비교"
      ],
      "text/plain": [
       "<IPython.core.display.Markdown object>"
      ]
     },
     "metadata": {},
     "output_type": "display_data"
    }
   ],
   "source": [
    "#@ title Q11\n",
    "quiz.show_q11()"
   ]
  },
  {
   "cell_type": "code",
   "execution_count": null,
   "id": "0403e9fd-68b8-4238-a753-e1f658d3cbc3",
   "metadata": {},
   "outputs": [],
   "source": [
    "quiz.answer_q11()"
   ]
  },
  {
   "cell_type": "code",
   "execution_count": 51,
   "id": "530f0ff6-0345-4717-a0f9-1a961cf26291",
   "metadata": {},
   "outputs": [
    {
     "data": {
      "text/html": [
       "\n",
       "<style>\n",
       ".quiz-panel {border:1px solid #e5e7eb;border-left:6px solid #3b82f6;border-radius:10px;\n",
       "             padding:14px 16px;margin:10px 0;background:#fafbff;font-family:ui-sans-serif,system-ui,-apple-system,Segoe UI,Roboto,Noto Sans,Apple SD Gothic Neo,Helvetica Neue,Arial;}\n",
       ".quiz-title {font-weight:700;color:#1f2937;margin-bottom:6px;font-size:1.05rem;}\n",
       ".quiz-body  {color:#374151;line-height:1.6;}\n",
       ".quiz-code  {background:#111827;color:#e5e7eb;padding:10px 12px;border-radius:8px;\n",
       "             font-family:ui-monospace,SFMono-Regular,Menlo,Monaco,Consolas,\"Liberation Mono\",monospace;margin-top:8px;white-space:pre-wrap;}\n",
       ".quiz-hint  {color:#6b7280;font-size:0.92rem;margin-top:8px;}\n",
       "</style>\n",
       "<div class=\"quiz-panel\"><div class=\"quiz-title\">Q12) 리스트 인덱싱 + f-string</div><div class=\"quiz-body\">아래 f-string의 **출력 결과 전체**를 정확히 쓰세요.</div><div class=\"quiz-code\">destination=\"Jeju\"\n",
       "spots=['Hallasan', 'Seongsan Ilchulbong', 'Hyeopjae Beach']\n",
       "f\"Jeju has 3 spots: Hallasan, Seongsan Ilchulbong, Hyeopjae Beach\"</div></div>"
      ],
      "text/plain": [
       "<IPython.core.display.HTML object>"
      ]
     },
     "metadata": {},
     "output_type": "display_data"
    }
   ],
   "source": [
    "#@ title Q12\n",
    "quiz.show_q12()"
   ]
  },
  {
   "cell_type": "code",
   "execution_count": null,
   "id": "87c557d0-ade4-4e75-9887-3a5569452e51",
   "metadata": {},
   "outputs": [],
   "source": [
    "quiz.answer_q12()"
   ]
  },
  {
   "cell_type": "code",
   "execution_count": 53,
   "id": "47186dcf-2a22-486f-b181-297a60c75df1",
   "metadata": {},
   "outputs": [
    {
     "data": {
      "text/html": [
       "\n",
       "<style>\n",
       ".quiz-panel {border:1px solid #e5e7eb;border-left:6px solid #3b82f6;border-radius:10px;\n",
       "             padding:14px 16px;margin:10px 0;background:#fafbff;font-family:ui-sans-serif,system-ui,-apple-system,Segoe UI,Roboto,Noto Sans,Apple SD Gothic Neo,Helvetica Neue,Arial;}\n",
       ".quiz-title {font-weight:700;color:#1f2937;margin-bottom:6px;font-size:1.05rem;}\n",
       ".quiz-body  {color:#374151;line-height:1.6;}\n",
       ".quiz-code  {background:#111827;color:#e5e7eb;padding:10px 12px;border-radius:8px;\n",
       "             font-family:ui-monospace,SFMono-Regular,Menlo,Monaco,Consolas,\"Liberation Mono\",monospace;margin-top:8px;white-space:pre-wrap;}\n",
       ".quiz-hint  {color:#6b7280;font-size:0.92rem;margin-top:8px;}\n",
       "</style>\n",
       "<div class=\"quiz-panel\"><div class=\"quiz-title\">Q13) 인덱싱(음수)</div><div class=\"quiz-body\">`word = \"Hallasan\"` 일 때, `word[-1]`의 값은? (마지막 글자)</div></div>"
      ],
      "text/plain": [
       "<IPython.core.display.HTML object>"
      ]
     },
     "metadata": {},
     "output_type": "display_data"
    }
   ],
   "source": [
    "#@ title Q13\n",
    "quiz.show_q13()"
   ]
  },
  {
   "cell_type": "code",
   "execution_count": null,
   "id": "18f07eab-4eb5-478e-bf2e-bdd21eb082a3",
   "metadata": {},
   "outputs": [],
   "source": [
    "quiz.answer_q13()"
   ]
  },
  {
   "cell_type": "code",
   "execution_count": 57,
   "id": "f2ce3143-bbd1-4dbe-9c8f-4e287bc514b8",
   "metadata": {},
   "outputs": [
    {
     "data": {
      "text/html": [
       "\n",
       "<style>\n",
       ".quiz-panel {border:1px solid #e5e7eb;border-left:6px solid #3b82f6;border-radius:10px;\n",
       "             padding:14px 16px;margin:10px 0;background:#fafbff;font-family:ui-sans-serif,system-ui,-apple-system,Segoe UI,Roboto,Noto Sans,Apple SD Gothic Neo,Helvetica Neue,Arial;}\n",
       ".quiz-title {font-weight:700;color:#1f2937;margin-bottom:6px;font-size:1.05rem;}\n",
       ".quiz-body  {color:#374151;line-height:1.6;}\n",
       ".quiz-code  {background:#111827;color:#e5e7eb;padding:10px 12px;border-radius:8px;\n",
       "             font-family:ui-monospace,SFMono-Regular,Menlo,Monaco,Consolas,\"Liberation Mono\",monospace;margin-top:8px;white-space:pre-wrap;}\n",
       ".quiz-hint  {color:#6b7280;font-size:0.92rem;margin-top:8px;}\n",
       "</style>\n",
       "<div class=\"quiz-panel\"><div class=\"quiz-title\">Q14) 슬라이싱(step)</div><div class=\"quiz-body\">`s = \"JejuIsland\"` 일 때, `s[::2]`의 결과를 쓰세요. (2칸씩 건너뛰기)</div><div class=\"quiz-hint\">힌트: start:end:step 에서 step=2</div></div>"
      ],
      "text/plain": [
       "<IPython.core.display.HTML object>"
      ]
     },
     "metadata": {},
     "output_type": "display_data"
    }
   ],
   "source": [
    "#@ title Q14\n",
    "quiz.show_q14()"
   ]
  },
  {
   "cell_type": "code",
   "execution_count": null,
   "id": "725311ba-4f43-4ac5-9e6c-88e824f6342d",
   "metadata": {},
   "outputs": [],
   "source": [
    "quiz.answer_q14()"
   ]
  },
  {
   "cell_type": "code",
   "execution_count": 12,
   "id": "ae142737-ac7e-4a4f-b474-7e314e14734e",
   "metadata": {
    "scrolled": true
   },
   "outputs": [
    {
     "data": {
      "text/html": [
       "\n",
       "<style>\n",
       ".quiz-panel {border:1px solid #e5e7eb;border-left:6px solid #3b82f6;border-radius:10px;\n",
       "             padding:14px 16px;margin:10px 0;background:#fafbff;font-family:ui-sans-serif,system-ui,-apple-system,Segoe UI,Roboto,Noto Sans,Apple SD Gothic Neo,Helvetica Neue,Arial;}\n",
       ".quiz-title {font-weight:700;color:#1f2937;margin-bottom:6px;font-size:1.05rem;}\n",
       ".quiz-body  {color:#374151;line-height:1.6;}\n",
       ".quiz-code  {background:#111827;color:#e5e7eb;padding:10px 12px;border-radius:8px;\n",
       "             font-family:ui-monospace,SFMono-Regular,Menlo,Monaco,Consolas,\"Liberation Mono\",monospace;margin-top:8px;white-space:pre-wrap;}\n",
       ".quiz-hint  {color:#6b7280;font-size:0.92rem;margin-top:8px;}\n",
       "</style>\n",
       "<div class=\"quiz-panel\"><div class=\"quiz-title\">Q15) 주관식(코드 작성, 한 줄) : 리스트 중복 제거</div><div class=\"quiz-body\">다음 리스트에서 **중복을 제거**하는 코드를 작성하세요.\n",
       "\n",
       "출력(정답 예시):\n",
       "['hiking', 'swimming', 'snorkeling']   (순서는 달라도 정답 처리)</div><div class=\"quiz-code\">activities = ['hiking','swimming','hiking','snorkeling','hiking']\n",
       "# 여기에 한 줄 코드를 작성하세요.</div><div class=\"quiz-hint\">힌트: 리스트는 중복을 허용하고, 세트는 중복을 제거합니다. list(set(...)) 형태를 떠올리세요.</div></div>"
      ],
      "text/plain": [
       "<IPython.core.display.HTML object>"
      ]
     },
     "metadata": {},
     "output_type": "display_data"
    }
   ],
   "source": [
    "#@ title Q15\n",
    "quiz.show_q15()"
   ]
  },
  {
   "cell_type": "code",
   "execution_count": null,
   "id": "21944797-0049-4a19-b529-f32f81399734",
   "metadata": {},
   "outputs": [],
   "source": [
    "quiz.answer_q15()"
   ]
  },
  {
   "cell_type": "code",
   "execution_count": 10,
   "id": "ac85fee4-17e0-40bd-8a91-823b3b98b92e",
   "metadata": {},
   "outputs": [
    {
     "data": {
      "text/html": [
       "\n",
       "<style>\n",
       ".quiz-panel {border:1px solid #e5e7eb;border-left:6px solid #3b82f6;border-radius:10px;\n",
       "             padding:14px 16px;margin:10px 0;background:#fafbff;font-family:ui-sans-serif,system-ui,-apple-system,Segoe UI,Roboto,Noto Sans,Apple SD Gothic Neo,Helvetica Neue,Arial;}\n",
       ".quiz-title {font-weight:700;color:#1f2937;margin-bottom:6px;font-size:1.05rem;}\n",
       ".quiz-body  {color:#374151;line-height:1.6;}\n",
       ".quiz-code  {background:#111827;color:#e5e7eb;padding:10px 12px;border-radius:8px;\n",
       "             font-family:ui-monospace,SFMono-Regular,Menlo,Monaco,Consolas,\"Liberation Mono\",monospace;margin-top:8px;white-space:pre-wrap;}\n",
       ".quiz-hint  {color:#6b7280;font-size:0.92rem;margin-top:8px;}\n",
       "</style>\n",
       "<div class=\"quiz-panel\"><div class=\"quiz-title\">Q16) 객관식: 튜플(tuple)의 특성</div><div class=\"quiz-body\">다음 중 튜플의 특성을 올바르게 설명한 것은?</div></div>"
      ],
      "text/plain": [
       "<IPython.core.display.HTML object>"
      ]
     },
     "metadata": {},
     "output_type": "display_data"
    },
    {
     "data": {
      "text/markdown": [
       "**보기**\n",
       "\n",
       "1) 튜플은 리스트와 달리 원소를 변경할 수 없다.\n",
       "\n",
       "2) 튜플은 집합(set)과 같이 중복을 제거한다.\n",
       "\n",
       "3) 튜플은 항상 딕셔너리의 키(key)로 사용할 수 없다.\n",
       "\n",
       "4) 튜플은 문자열과 달리 인덱싱이나 슬라이싱을 지원하지 않는다."
      ],
      "text/plain": [
       "<IPython.core.display.Markdown object>"
      ]
     },
     "metadata": {},
     "output_type": "display_data"
    }
   ],
   "source": [
    "#@ title Q16\n",
    "quiz.show_q16()"
   ]
  },
  {
   "cell_type": "code",
   "execution_count": null,
   "id": "8ed6e756-d016-4e25-9f6a-3e317726d443",
   "metadata": {},
   "outputs": [],
   "source": [
    "quiz.answer_q16()"
   ]
  },
  {
   "cell_type": "code",
   "execution_count": null,
   "id": "538de95c-7f57-4b5d-8c19-4b364aacc8d1",
   "metadata": {},
   "outputs": [],
   "source": []
  }
 ],
 "metadata": {
  "kernelspec": {
   "display_name": "Python (anaconda-base)",
   "language": "python",
   "name": "anaconda-base"
  },
  "language_info": {
   "codemirror_mode": {
    "name": "ipython",
    "version": 3
   },
   "file_extension": ".py",
   "mimetype": "text/x-python",
   "name": "python",
   "nbconvert_exporter": "python",
   "pygments_lexer": "ipython3",
   "version": "3.12.7"
  }
 },
 "nbformat": 4,
 "nbformat_minor": 5
}
