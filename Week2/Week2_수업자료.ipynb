{
 "cells": [
  {
   "cell_type": "markdown",
   "id": "d329ad4b",
   "metadata": {
    "id": "d329ad4b"
   },
   "source": [
    "# Week2.데이터 타입의 이해"
   ]
  },
  {
   "cell_type": "markdown",
   "id": "4afa1458",
   "metadata": {
    "id": "4afa1458"
   },
   "source": [
    "Juhyun Kang"
   ]
  },
  {
   "cell_type": "markdown",
   "id": "lIdAEi5RXF1u",
   "metadata": {
    "id": "lIdAEi5RXF1u"
   },
   "source": [
    "# Print 하기"
   ]
  },
  {
   "cell_type": "code",
   "execution_count": 14,
   "id": "2-efO9dgXAXT",
   "metadata": {
    "id": "2-efO9dgXAXT"
   },
   "outputs": [],
   "source": [
    "text = 'Hello Worlds'"
   ]
  },
  {
   "cell_type": "code",
   "execution_count": 15,
   "id": "_uA7d1LDW9lu",
   "metadata": {
    "colab": {
     "base_uri": "https://localhost:8080/"
    },
    "id": "_uA7d1LDW9lu",
    "outputId": "7a59d17e-51c0-48e1-a9b9-ce82118f181b"
   },
   "outputs": [
    {
     "name": "stdout",
     "output_type": "stream",
     "text": [
      "Hello Worlds\n"
     ]
    }
   ],
   "source": [
    "print(text)"
   ]
  },
  {
   "cell_type": "markdown",
   "id": "7f3fe6a9",
   "metadata": {
    "id": "7f3fe6a9"
   },
   "source": [
    "# 데이터 타입"
   ]
  },
  {
   "cell_type": "markdown",
   "id": "12b1e659-40cd-421b-bdce-c6cb7773664d",
   "metadata": {
    "jp-MarkdownHeadingCollapsed": true
   },
   "source": [
    "## 데이터 타입 출력하는 함수 : Ctrl + Enter 로 실행 후 넘어가시면 됩니다!"
   ]
  },
  {
   "cell_type": "code",
   "execution_count": 87,
   "id": "44da0906-fa4e-4436-a60c-43591e780e61",
   "metadata": {
    "id": "5SMmLmIxUc7s"
   },
   "outputs": [],
   "source": [
    "def print_type(x):\n",
    "  data_type = type(x)\n",
    "\n",
    "  if data_type == int:\n",
    "    korean_type = \"정수형\"\n",
    "    english_type = \"integer\"\n",
    "  elif data_type == float:\n",
    "    korean_type = \"실수형\"\n",
    "    english_type = \"float\"\n",
    "  elif data_type == str:\n",
    "    korean_type = \"문자열\"\n",
    "    english_type = \"string\"\n",
    "  elif data_type == list:\n",
    "    korean_type = \"리스트\"\n",
    "    english_type = \"list\"\n",
    "  elif data_type == dict:\n",
    "    korean_type = \"딕셔너리\"\n",
    "    english_type = \"dictionary\"\n",
    "  elif data_type == tuple:\n",
    "    korean_type = \"튜플\"\n",
    "    english_type = \"tuple\"\n",
    "  elif data_type == set:\n",
    "    korean_type = \"세트\"\n",
    "    english_type = \"set\"\n",
    "  elif data_type == bool:\n",
    "    korean_type = \"불리언\"\n",
    "    english_type = \"boolean\"\n",
    "  else:\n",
    "    korean_type = \"알 수 없는 타입\"\n",
    "    english_type = \"unknown type\"\n",
    "\n",
    "  print(f\"{x}의 데이터 타입\")\n",
    "  print(f\"데이터 타입 (한글): {korean_type}\")\n",
    "  print(f\"Data Type (English): {english_type}\")\n",
    "  print('*' * 30)\n"
   ]
  },
  {
   "cell_type": "code",
   "execution_count": 16,
   "id": "Px_Uj48uWEbt",
   "metadata": {
    "colab": {
     "base_uri": "https://localhost:8080/"
    },
    "id": "Px_Uj48uWEbt",
    "outputId": "0da512f7-5ba9-4fbb-8364-5798fd2e2d43",
    "scrolled": true
   },
   "outputs": [
    {
     "name": "stdout",
     "output_type": "stream",
     "text": [
      "10의 데이터 타입\n",
      "데이터 타입 (한글): 정수형\n",
      "Data Type (English): integer\n",
      "******************************\n",
      "3.14의 데이터 타입\n",
      "데이터 타입 (한글): 실수형\n",
      "Data Type (English): float\n",
      "******************************\n",
      "hello의 데이터 타입\n",
      "데이터 타입 (한글): 문자열\n",
      "Data Type (English): string\n",
      "******************************\n",
      "[1, 2, 3]의 데이터 타입\n",
      "데이터 타입 (한글): 리스트\n",
      "Data Type (English): list\n",
      "******************************\n",
      "{'a': 1, 'b': 2}의 데이터 타입\n",
      "데이터 타입 (한글): 딕셔너리\n",
      "Data Type (English): dictionary\n",
      "******************************\n",
      "(1, 2, 3)의 데이터 타입\n",
      "데이터 타입 (한글): 튜플\n",
      "Data Type (English): tuple\n",
      "******************************\n",
      "{1, 2, 3}의 데이터 타입\n",
      "데이터 타입 (한글): 세트\n",
      "Data Type (English): set\n",
      "******************************\n",
      "True의 데이터 타입\n",
      "데이터 타입 (한글): 불리언\n",
      "Data Type (English): boolean\n",
      "******************************\n"
     ]
    }
   ],
   "source": [
    "print_type(10) # 정수\n",
    "print_type(3.14) # 실수\n",
    "print_type(\"hello\") # 문자열\n",
    "print_type([1, 2, 3]) # 리스트\n",
    "print_type({\"a\": 1, \"b\": 2}) # 딕셔너리\n",
    "print_type((1, 2, 3)) # 튜플\n",
    "print_type({1, 2, 3}) # 세트\n",
    "print_type(True) # 불리안(Boolean) : 참, 거짓"
   ]
  },
  {
   "cell_type": "markdown",
   "id": "cc0518d9-bb71-4d5b-8e0b-a63732f6ef7c",
   "metadata": {},
   "source": [
    "---"
   ]
  },
  {
   "cell_type": "markdown",
   "id": "0b8e8f9f-257f-4fb8-a81b-a64ab83c0d2d",
   "metadata": {},
   "source": [
    "## 데이터 타입의 특징"
   ]
  },
  {
   "cell_type": "markdown",
   "id": "900837f5-fb8d-4c12-bf2e-d426b6d8f1e2",
   "metadata": {},
   "source": [
    "### 1. '='과 '=='의 차이"
   ]
  },
  {
   "cell_type": "code",
   "execution_count": 82,
   "id": "6da0b872-c8db-4713-970d-e3cc80796dc0",
   "metadata": {},
   "outputs": [
    {
     "data": {
      "text/plain": [
       "True"
      ]
     },
     "execution_count": 82,
     "metadata": {},
     "output_type": "execute_result"
    }
   ],
   "source": [
    "'''\n",
    "= 는 특정 변수에 데이터를 지정할 때 쓰는 문법이고,\n",
    "== 는 두 변수의 참, 거짓을 출력할 때 쓰는 문법입니다.\n",
    "'''\n",
    "\n",
    "x = 1 # x라는 변수에 1 이라는 데이터를 지정\n",
    "x == 1 # x와 1이 같은 데이터인지 참,거짓을 출력"
   ]
  },
  {
   "cell_type": "markdown",
   "id": "b5b1bc64-582f-4cd3-9d36-492e145cfdc4",
   "metadata": {},
   "source": [
    "### 2. 10 과 \"10\"은 같은 데이터일까?"
   ]
  },
  {
   "cell_type": "code",
   "execution_count": 15,
   "id": "d0d4e717-fe26-4451-9bf0-c2126ecd6181",
   "metadata": {},
   "outputs": [],
   "source": [
    "'''\n",
    "10 과 \"10\"은 파이썬에서 엄연히 다른 데이터입니다.\n",
    "10은 숫자(정수) 이지만 \"10\"은 텍스트로 여겨지기 때문입니다.\n",
    "문자열 타입의 데이터는 \"\"로 감싸서 표현할 수 있습니다.\n",
    "\n",
    "즉, 10 + \"10\"을 하면 숫자와 텍스트를 계산하는 것이기 때문에 타입 불일치로 인한 에러가 발생하게 됩니다.\n",
    "'''\n",
    "\n",
    "x1 = 10\n",
    "x2 = \"10\""
   ]
  },
  {
   "cell_type": "code",
   "execution_count": 217,
   "id": "a5daa0e7-6223-4906-b33c-659d24016193",
   "metadata": {},
   "outputs": [],
   "source": [
    "# print(x1 + x2)"
   ]
  },
  {
   "cell_type": "markdown",
   "id": "4e208cbc-42f9-40b5-86c5-b43e5a961916",
   "metadata": {},
   "source": [
    "### 3. 10 + 10.0은 정수일까, 실수일까?"
   ]
  },
  {
   "cell_type": "code",
   "execution_count": 70,
   "id": "2d0e08ff-5727-4799-ab94-017b7eeb1354",
   "metadata": {},
   "outputs": [
    {
     "name": "stdout",
     "output_type": "stream",
     "text": [
      "<class 'float'>\n",
      "20.0\n",
      "<class 'int'>\n",
      "30\n"
     ]
    }
   ],
   "source": [
    "'''\n",
    "파이썬은 연산할 때 모든 정수를 실수로 전환하여 계산합니다.\n",
    "그래서 정수 + 실수 연산을 해서 나오는 모든 결과값은 실수입니다.\n",
    "'''\n",
    "x3 = 10 + 10.0 # 정수 + 실수\n",
    "print(type(x3)) \n",
    "print(x3)\n",
    "\n",
    "'''하지만, 정수 + 정수를 하게되면 실수로 전활할 필요가 없기 때문에, 정수로 결과가 나오게 됩니다.'''\n",
    "\n",
    "x4 = 10 + 20 # 정수 + 정수\n",
    "print(type(x4)) \n",
    "print(x4)"
   ]
  },
  {
   "cell_type": "markdown",
   "id": "d911f9b0-cf56-4df6-b11f-982e5dc5adc3",
   "metadata": {},
   "source": [
    "### 4. 실수 데이터 연산의 함정 : 0.1 + 0.2는 0.3이 아니다?"
   ]
  },
  {
   "cell_type": "code",
   "execution_count": 74,
   "id": "3413bd06-0b80-4387-93a5-5172ceb0bc33",
   "metadata": {},
   "outputs": [],
   "source": [
    "'''\n",
    "일반적으로, 0.1 + 0.2 연산을 하면 0.3이 정답이지만,\n",
    "파이썬에서는 실수 즉, 소수점을 이진수으로 바꿔 저장을 하는데, 이 과정에서 딱 떨어지지 않고 무한 소수로서 저장이 됩니다.\n",
    "\t• 0.1 → 2진수로 정확히 표현 불가 → 0.10000000000000000555…\n",
    "\t• 0.2 → 0.2000000000000000111…\n",
    "\t• 0.3 → 0.2999999999999999889…\n",
    "즉, 0.1 + 0.2는 실제로 0.30000000000000004인 셈입니다.\n",
    "'''\n",
    "\n",
    "x5 = 0.1 + 0.2\n",
    "x6 = 0.3"
   ]
  },
  {
   "cell_type": "code",
   "execution_count": 79,
   "id": "42b53240-7a55-4ca7-b5eb-6f105452a74c",
   "metadata": {},
   "outputs": [
    {
     "data": {
      "text/plain": [
       "False"
      ]
     },
     "execution_count": 79,
     "metadata": {},
     "output_type": "execute_result"
    }
   ],
   "source": [
    "x5 == x6"
   ]
  },
  {
   "cell_type": "markdown",
   "id": "1b228985-8ff6-4124-96b4-3d150baa0131",
   "metadata": {},
   "source": [
    "### 5. 리스트 [], 세트 {}, 튜플 () 이란?"
   ]
  },
  {
   "cell_type": "markdown",
   "id": "adc7b693-8455-4dc4-b019-46b0eca274ea",
   "metadata": {},
   "source": [
    "| 데이터 타입 | 순서(Ordered) | 중복 허용 | 수정 가능(Mutable) | 주요 활용 |\n",
    "|-------------|---------------|-----------|--------------------|-----------|\n",
    "| 리스트(list) | ✅ 있음       | ✅ 허용    | ✅ 가능             | 순서 있는 데이터 모음, CRUD(Create, Read, Update, Delete) 작업 |\n",
    "| 세트(set)   | ❌ 없음       | ❌ 불가    | ✅ 가능             | 중복 제거, 집합 연산(합집합/교집합) |\n",
    "| 튜플(tuple) | ✅ 있음       | ✅ 허용    | ❌ 불가             | 변하지 않는 데이터 저장, 좌표, 고정 값 |"
   ]
  },
  {
   "cell_type": "raw",
   "id": "29d49189-fec7-4f26-98a3-ca2e672dc4ea",
   "metadata": {},
   "source": [
    "1. 리스트(List) → [1, 2] : 자유롭게 추가/삭제/수정할 수 있어 데이터 관리에 적합\n",
    " • 정의: 여러 개의 값을 순서대로 저장하는 자료형\n",
    " • 특징:\n",
    "\t- 순서가 있다.\n",
    "\t- 중복을 허용한다.\n",
    "\t- 값을 변경할 수 있다.\n",
    "2. 세트(Set) → {1,2} : 순서가 필요 없고 중복 제거가 자동으로 필요할 때 유용\n",
    " • 정의: 여러 값을 집합 형태로 저장하는 자료형\n",
    " • 특징:\n",
    "\t- 순서가 없다.\n",
    "\t- 중복을 허용하지 않는다.\n",
    "\t- 값의 변경은 가능하지만, 원소 자체는 변경 불가(불변 객체만 저장 가능)\n",
    "\t- 집합 연산 지원 (합집합, 교집합 등)\n",
    "3. 튜플(Tuple) → (1,2) : 값이 바뀌면 안 되는 고정 데이터(예: (x, y) 좌표) 저장할 때 적합\n",
    " • 정의: 여러 개의 값을 순서대로 저장하지만, 변경할 수 없는 자료형\n",
    " • 특징:\n",
    "\t- 순서가 있다 (ordered)\n",
    "\t- 중복을 허용한다\n",
    "\t- 변경 불가 (immutable)\n",
    "\t- 리스트보다 안전하게 데이터를 저장하고 싶을 때 사용"
   ]
  },
  {
   "cell_type": "code",
   "execution_count": 254,
   "id": "b1469f4a-eb5e-4e49-8580-10996cd9b619",
   "metadata": {},
   "outputs": [
    {
     "name": "stdout",
     "output_type": "stream",
     "text": [
      "=== list() 함수 ===\n",
      "list('hello') = ['h', 'e', 'l', 'l', 'o']\n",
      "list((1,2,3)) = [1, 2, 3]\n",
      "list({1,2,3}) = [1, 2, 3]\n",
      "\n",
      "=== set() 함수 ===\n",
      "set('hello') = {'l', 'e', 'o', 'h'}\n",
      "set([1,2,2,3,3,3]) = {1, 2, 3}\n",
      "set((1,2,2,3)) = {1, 2, 3}\n",
      "\n",
      "=== tuple() 함수 ===\n",
      "tuple('hi') = ('h', 'i')\n",
      "tuple([1,2,3]) = (1, 2, 3)\n",
      "tuple({1,2,3}) = (1, 2, 3)\n"
     ]
    }
   ],
   "source": [
    "'''\n",
    "리스트, 세트, 튜플의 기본적인 특성의 이해는 개발, 데이터 분석 코드를 간소화할 수 있는 중요한 이론이 됩니다.\n",
    "각 데이터 타입마다 고유한 특성을 암기하고, 실제 분석 과정에 적용해보세요.\n",
    "'''\n",
    "\n",
    "print(\"=== list() 함수 ===\")\n",
    "# 문자열을 리스트로 변환 → 각 글자가 요소가 됨\n",
    "text = \"hello\"\n",
    "print(\"list('hello') =\", list(text))\n",
    "\n",
    "\n",
    "# 튜플을 리스트로 변환\n",
    "my_tuple = (1, 2, 3)\n",
    "print(\"list((1,2,3)) =\", list(my_tuple))\n",
    "\n",
    "# 세트를 리스트로 변환 → 순서가 없기 때문에 결과 순서는 일정하지 않을 수 있음\n",
    "my_set = {1, 2, 3}\n",
    "print(\"list({1,2,3}) =\", list(my_set))\n",
    "\n",
    "\n",
    "print(\"\\n=== set() 함수 ===\")\n",
    "# 문자열을 세트로 변환 → 중복 제거 + 순서 없음\n",
    "print(\"set('hello') =\", set(\"hello\"))\n",
    "\n",
    "# 리스트를 세트로 변환 → 중복된 값 제거\n",
    "my_list = [1, 2, 2, 3, 3, 3]\n",
    "print(\"set([1,2,2,3,3,3]) =\", set(my_list))\n",
    "\n",
    "# 튜플을 세트로 변환\n",
    "print(\"set((1,2,2,3)) =\", set((1,2,2,3)))\n",
    "\n",
    "\n",
    "print(\"\\n=== tuple() 함수 ===\")\n",
    "# 문자열을 튜플로 변환\n",
    "print(\"tuple('hi') =\", tuple(\"hi\"))\n",
    "\n",
    "# 리스트를 튜플로 변환\n",
    "print(\"tuple([1,2,3]) =\", tuple([1,2,3]))\n",
    "\n",
    "# 세트를 튜플로 변환 → 순서 없음\n",
    "print(\"tuple({1,2,3}) =\", tuple({1,2,3}))"
   ]
  },
  {
   "attachments": {},
   "cell_type": "markdown",
   "id": "d56bd8c3-499f-4b09-9347-723e0c6ac311",
   "metadata": {},
   "source": [
    "### 6. 세트와 딕셔너리의 차이\n",
    "\n",
    "| 데이터 타입       | 구조(저장 방식)            | 순서(Ordered) | 중복 허용 | 수정 가능 | 접근 방법                  | 주요 활용 |\n",
    "|------------------|---------------------------|---------------|-----------|-----------|---------------------------|-----------|\n",
    "| 세트 (set)        | 고유한 값들의 모음 `{1,2}`| ❌ 없음       | ❌ 불가    | ✅ 가능    | 직접 접근 불가 (in 사용)   | 중복 제거, 집합 연산 |\n",
    "| 딕셔너리 (dict)   | 키:값 쌍 `{k:v}`          | ✅ 있음 (3.7+) | 키 중복 ❌ | ✅ 가능    | 키로 접근: `mydict['a']`  | 이름표 붙은 데이터 관리 |"
   ]
  },
  {
   "cell_type": "code",
   "execution_count": 124,
   "id": "34b679c1-411d-4ba6-87b6-dd249625deee",
   "metadata": {},
   "outputs": [
    {
     "name": "stdout",
     "output_type": "stream",
     "text": [
      "세트: {1, 2, 3}\n",
      "2 in my_set? True\n",
      "딕셔너리: {'a': 3, 'b': 2}\n",
      "키 'a'의 값: 3\n"
     ]
    }
   ],
   "source": [
    "# 세트\n",
    "my_set = {1, 2, 2, 3}\n",
    "print(\"세트:\", my_set)          # {1, 2, 3}\n",
    "print(\"2 in my_set?\", 2 in my_set)  # True\n",
    "\n",
    "# 딕셔너리\n",
    "my_dict = {\"a\": 1, \"b\": 2, \"a\": 3}  # 키 중복 → 마지막 값만 유지\n",
    "print(\"딕셔너리:\", my_dict)   # {'a': 3, 'b': 2}\n",
    "print(\"키 'a'의 값:\", my_dict[\"a\"]) # 3"
   ]
  },
  {
   "cell_type": "code",
   "execution_count": 127,
   "id": "a68a93cf-af07-4faa-af6a-a7f0a3b6b97b",
   "metadata": {},
   "outputs": [
    {
     "name": "stdout",
     "output_type": "stream",
     "text": [
      "{'name': 'Alice', 'age': 20, 'major': 'Data Science'}\n",
      "이름: Alice\n",
      "나이: 20\n"
     ]
    }
   ],
   "source": [
    "'''\n",
    "일반적으로, 기업에서 데이터를 수집하고 적재할 때, 딕셔너리의 데이터 타입을 기반으로 저장이 됩니다.\n",
    "딕셔너리 타입의 특성을 이해하는 것이 앞으로 데이터 프레임(일종의 엑셀같은 표)의 이해에 도움이 됩니다.\n",
    "'''\n",
    "\n",
    "\n",
    "student = {\n",
    "    \"name\": \"Alice\",\n",
    "    \"age\": 20,\n",
    "    \"major\": \"Data Science\"\n",
    "}\n",
    "\n",
    "print(student)\n",
    "print(\"이름:\", student[\"name\"])   # 키로 값 찾기\n",
    "print(\"나이:\", student[\"age\"])"
   ]
  },
  {
   "cell_type": "markdown",
   "id": "e62096d0-38d7-4aa3-923b-707f3f25dfd7",
   "metadata": {},
   "source": [
    "#### 딕셔너리 타입의 데이터 핸들링"
   ]
  },
  {
   "cell_type": "code",
   "execution_count": 130,
   "id": "ebd3b75b-1377-4576-b789-1d3d8256d7a5",
   "metadata": {},
   "outputs": [
    {
     "name": "stdout",
     "output_type": "stream",
     "text": [
      "초기 딕셔너리: {'name': 'Alice', 'age': 20, 'major': 'Data Science'}\n"
     ]
    }
   ],
   "source": [
    "# 1. 딕셔너리 만들기\n",
    "student = {\"name\": \"Alice\", \"age\": 20, \"major\": \"Data Science\"}\n",
    "print(\"초기 딕셔너리:\", student)"
   ]
  },
  {
   "cell_type": "code",
   "execution_count": 132,
   "id": "d8c82a27-d493-4884-8a21-c6396e75c83b",
   "metadata": {},
   "outputs": [
    {
     "name": "stdout",
     "output_type": "stream",
     "text": [
      "이름: Alice\n",
      "전공: Data Science\n"
     ]
    }
   ],
   "source": [
    "# 2. 값 접근하기\n",
    "print(\"이름:\", student[\"name\"])          # 직접 접근\n",
    "print(\"전공:\", student.get(\"major\"))     # get() 사용 (안전)"
   ]
  },
  {
   "cell_type": "code",
   "execution_count": 134,
   "id": "ef61f485-3ee5-4013-bf56-5613825faa0c",
   "metadata": {},
   "outputs": [
    {
     "name": "stdout",
     "output_type": "stream",
     "text": [
      "나이 수정 후: {'name': 'Alice', 'age': 21, 'major': 'Data Science'}\n"
     ]
    }
   ],
   "source": [
    "# 3. 값 수정하기\n",
    "student[\"age\"] = 21\n",
    "print(\"나이 수정 후:\", student)"
   ]
  },
  {
   "cell_type": "code",
   "execution_count": 136,
   "id": "a33fc4c1-1582-4bf2-a1d7-390adc0555fc",
   "metadata": {},
   "outputs": [
    {
     "name": "stdout",
     "output_type": "stream",
     "text": [
      "새 항목 추가 후: {'name': 'Alice', 'age': 21, 'major': 'Data Science', 'grade': 'A'}\n"
     ]
    }
   ],
   "source": [
    "# 4. 새로운 키-값 추가하기\n",
    "student[\"grade\"] = \"A\"\n",
    "print(\"새 항목 추가 후:\", student)"
   ]
  },
  {
   "cell_type": "code",
   "execution_count": 138,
   "id": "e8dfc29a-7b82-4626-8c56-64c549708955",
   "metadata": {},
   "outputs": [
    {
     "name": "stdout",
     "output_type": "stream",
     "text": [
      "삭제 후: {'name': 'Alice', 'age': 21, 'grade': 'A'}\n"
     ]
    }
   ],
   "source": [
    "# 5. 값 삭제하기\n",
    "del student[\"major\"]\n",
    "print(\"삭제 후:\", student)"
   ]
  },
  {
   "cell_type": "code",
   "execution_count": 140,
   "id": "3dd762fd-d52f-4dac-a256-d38995b121b1",
   "metadata": {},
   "outputs": [
    {
     "name": "stdout",
     "output_type": "stream",
     "text": [
      "keys(): ['name', 'age', 'grade']\n",
      "values(): ['Alice', 21, 'A']\n",
      "items(): [('name', 'Alice'), ('age', 21), ('grade', 'A')]\n"
     ]
    }
   ],
   "source": [
    "# 6. 모든 키/값/쌍 확인하기\n",
    "print(\"keys():\", list(student.keys()))\n",
    "print(\"values():\", list(student.values()))\n",
    "print(\"items():\", list(student.items()))"
   ]
  },
  {
   "cell_type": "code",
   "execution_count": 142,
   "id": "a434e8d1-599e-472b-8157-910ddbba83b2",
   "metadata": {},
   "outputs": [
    {
     "name": "stdout",
     "output_type": "stream",
     "text": [
      "반복문 출력:\n",
      "name → Alice\n",
      "age → 21\n",
      "grade → A\n"
     ]
    }
   ],
   "source": [
    "# 7. 반복문으로 순회하기\n",
    "print(\"반복문 출력:\")\n",
    "for key, value in student.items():\n",
    "    print(f\"{key} → {value}\")"
   ]
  },
  {
   "cell_type": "code",
   "execution_count": 144,
   "id": "f519c48b-01df-42d5-918b-9ce6be1a9cf8",
   "metadata": {},
   "outputs": [
    {
     "name": "stdout",
     "output_type": "stream",
     "text": [
      "'name' in student ? True\n",
      "'major' in student ? False\n"
     ]
    }
   ],
   "source": [
    "# 8. 키 존재 여부 확인\n",
    "print(\"'name' in student ?\", \"name\" in student)\n",
    "print(\"'major' in student ?\", \"major\" in student)"
   ]
  },
  {
   "cell_type": "code",
   "execution_count": 146,
   "id": "38d2509c-fd2f-4838-8620-318d1dd9ef58",
   "metadata": {},
   "outputs": [
    {
     "name": "stdout",
     "output_type": "stream",
     "text": [
      "병합 후: {'name': 'Alice', 'age': 21, 'grade': 'A', 'club': 'AI Society', 'hobby': 'Photography'}\n"
     ]
    }
   ],
   "source": [
    "# 9. 딕셔너리 병합하기\n",
    "other = {\"club\": \"AI Society\", \"hobby\": \"Photography\"}\n",
    "student.update(other)\n",
    "print(\"병합 후:\", student)"
   ]
  },
  {
   "cell_type": "code",
   "execution_count": 148,
   "id": "15df924c-f3de-40d9-b9a1-598ce8d96794",
   "metadata": {},
   "outputs": [
    {
     "name": "stdout",
     "output_type": "stream",
     "text": [
      "컴프리헨션 예시 (숫자와 제곱): {0: 0, 1: 1, 2: 4, 3: 9, 4: 16}\n"
     ]
    }
   ],
   "source": [
    "# 10. 딕셔너리 컴프리헨션\n",
    "squares = {x: x**2 for x in range(5)}\n",
    "print(\"컴프리헨션 예시 (숫자와 제곱):\", squares)"
   ]
  },
  {
   "cell_type": "code",
   "execution_count": 150,
   "id": "618b962b-c8d0-49b9-b635-9682d600606a",
   "metadata": {},
   "outputs": [
    {
     "name": "stdout",
     "output_type": "stream",
     "text": [
      "setdefault 결과: {'name': 'Unknown'}\n"
     ]
    }
   ],
   "source": [
    "# 11. 기본값 활용 (setdefault)\n",
    "profile = {}\n",
    "profile.setdefault(\"name\", \"Unknown\")\n",
    "print(\"setdefault 결과:\", profile)"
   ]
  },
  {
   "cell_type": "code",
   "execution_count": 152,
   "id": "04ba3e63-b91a-4f81-8e48-811a8852c2d1",
   "metadata": {},
   "outputs": [
    {
     "name": "stdout",
     "output_type": "stream",
     "text": [
      "꺼낸 값: A\n",
      "꺼낸 후 딕셔너리: {'name': 'Alice', 'age': 21, 'club': 'AI Society', 'hobby': 'Photography'}\n"
     ]
    }
   ],
   "source": [
    "# 12. pop() 사용 (꺼내면서 삭제)\n",
    "grade = student.pop(\"grade\")\n",
    "print(\"꺼낸 값:\", grade)\n",
    "print(\"꺼낸 후 딕셔너리:\", student)"
   ]
  },
  {
   "cell_type": "code",
   "execution_count": 154,
   "id": "89d8a328-4668-4c10-8ab0-35ce6429589e",
   "metadata": {},
   "outputs": [
    {
     "name": "stdout",
     "output_type": "stream",
     "text": [
      "fromkeys 결과: {'id': None, 'pw': None, 'email': None}\n"
     ]
    }
   ],
   "source": [
    "# 13. fromkeys() 사용 (초기화)\n",
    "keys = [\"id\", \"pw\", \"email\"]\n",
    "empty_user = dict.fromkeys(keys, None)\n",
    "print(\"fromkeys 결과:\", empty_user)"
   ]
  },
  {
   "cell_type": "code",
   "execution_count": 156,
   "id": "d60f7713-3256-4f38-aa1e-c26bda221a52",
   "metadata": {},
   "outputs": [
    {
     "name": "stdout",
     "output_type": "stream",
     "text": [
      "중첩 딕셔너리: {'student1': {'name': 'Alice', 'age': 20}, 'student2': {'name': 'Bob', 'age': 22}}\n",
      "student1의 이름: Alice\n"
     ]
    }
   ],
   "source": [
    "# 14. 중첩 딕셔너리\n",
    "school = {\n",
    "    \"student1\": {\"name\": \"Alice\", \"age\": 20},\n",
    "    \"student2\": {\"name\": \"Bob\", \"age\": 22}\n",
    "}\n",
    "print(\"중첩 딕셔너리:\", school)\n",
    "print(\"student1의 이름:\", school[\"student1\"][\"name\"])"
   ]
  },
  {
   "cell_type": "markdown",
   "id": "39357299-f615-4a6c-b93b-2269fc2e4a58",
   "metadata": {},
   "source": [
    "---"
   ]
  },
  {
   "cell_type": "markdown",
   "id": "54674d2f-f1a3-498c-84fc-47056bb7dfe3",
   "metadata": {},
   "source": [
    "### 7. 텍스트(string) 타입의 특성과 주의할 점"
   ]
  },
  {
   "cell_type": "code",
   "execution_count": 212,
   "id": "2ca31e3e-ccec-46ee-aa0e-67f945d89f92",
   "metadata": {},
   "outputs": [
    {
     "name": "stdout",
     "output_type": "stream",
     "text": [
      "빅데이터분석 수업은재밌다.\n",
      "빅데이터분석 수업은 재밌다.\n",
      "hahaha\n",
      "True\n",
      "True\n",
      "True\n",
      "True\n",
      "True\n"
     ]
    }
   ],
   "source": [
    "# 텍스트 타입이 연산자 적용\n",
    "\n",
    "## 1. 덧셈(+) → 문자열 이어붙이기\n",
    "a = \"빅데이터분석 수업은\"\n",
    "b = \"재밌다.\"\n",
    "print(a + b)\n",
    "print(a + \" \" + b)  # 중간에 공백(\" \") 추가\n",
    "\n",
    "'''\n",
    "여기서, 덧셈 연산자는 같은 텍스트 타입의 데이터끼리만 연산이 가능합니다.\n",
    "정수 혹은 실수와 연산을 실행할 경우 데이터 타입 차이로 인한 에러가 발생합니다. -> 1+'Python'\n",
    "'''\n",
    "\n",
    "## 2. 곱셈(*) → 문자열 반복\n",
    "word = \"ha\"\n",
    "print(word * 3)   # hahaha\n",
    "\n",
    "\n",
    "## 3. 포함 여부(in, not in)\n",
    "text = \"Python is fun\"\n",
    "print(\"Python\" in text)    # True\n",
    "print(\"Java\" not in text)  # True\n",
    "\n",
    "\n",
    "## 4. 비교 연산 (==, <, >)\n",
    "print(\"apple\" == \"apple\")   # True\n",
    "print(\"apple\" < \"banana\")   # True (사전순 비교)\n",
    "print(\"Zoo\" < \"apple\")      # True (대문자가 더 앞)"
   ]
  },
  {
   "cell_type": "code",
   "execution_count": 198,
   "id": "3644e203-0db5-4033-bc9a-34f191649d27",
   "metadata": {},
   "outputs": [
    {
     "name": "stdout",
     "output_type": "stream",
     "text": [
      "P\n",
      "n\n",
      "Pyt\n",
      "Python\n"
     ]
    }
   ],
   "source": [
    "# 2. 시퀀스(Sequence) 타입 : 메모리에 연속적으로 저장되는 데이터 타입(순서가 있다!)\n",
    "\n",
    "'''\n",
    "인덱싱과 슬라이싱이 가능\n",
    "\n",
    "- 인덱싱 : 위치를 지정해서 한 글자(또는 요소)를 꺼내는 것 -> x[0]\n",
    "- 슬라이싱 : 범위를 지정해서 여러 글자를 잘라내는 것 -> x[0:2]\n",
    " 1) 시작 위치 포함, 끝 위치는 포함되지 않음(중요!) -> x[0:2] : 첫 번째 요소부터 두 번째 요소까지 출력\n",
    " 2) 시작이나 끝을 생략할 수도 있음\n",
    "\n",
    "※ 파이썬에서 첫 번째를 나타내는 숫자는 0이고, 마지막을 나타내는 숫자는 -1 입니다.\n",
    "'''\n",
    "\n",
    "s = \"Python\"\n",
    "print(s[0])     # 'P'\n",
    "print(s[-1])    # 'n'\n",
    "print(s[0:3])   # 'Pyt'\n",
    "print(s[:])     # 'Python' : 전체 출력(0이나 -1은 슬라이싱할 때 생략할 수 있음)"
   ]
  },
  {
   "cell_type": "code",
   "execution_count": 192,
   "id": "a572b509-addb-432e-8f15-27409f00c3e8",
   "metadata": {},
   "outputs": [
    {
     "name": "stdout",
     "output_type": "stream",
     "text": [
      "   hello\n",
      "==== 새로운 변수 지정 전 ====\n",
      "   hello\n",
      "==== 새로운 변수 지정 후 ====\n",
      "hello\n",
      "   Hello\n"
     ]
    }
   ],
   "source": [
    "# 3. 불변(immutable) : 한 번 만들어진 문자열은 바꿀 수 없음\n",
    "\n",
    "'''\n",
    "불변의 특성이란 한번 변수에 지정된 문자열 데이터는 수정하려면 새로운 문자열을 만들어서 새로운 변수에 지정을 해줘야 합니다.\n",
    "그래서, 인덱싱, 슬라이싱으로 출력은 가능하지만, 수정은 불가능합니다.\n",
    "'''\n",
    "\n",
    "s = \"   hello\"\n",
    "# s[0] = \"H\"   # 오류 발생\n",
    "print(s)  # 'Hello'\n",
    "\n",
    "# 새로운 변수를 지정하지 않았기 때문에 함수를 적용한 후 다시 출력해도 변경하기 전으로 출력됩니다.\n",
    "print(\"==== 새로운 변수 지정 전 ====\")\n",
    "s.strip()         # 앞뒤 공백 제거 함수 적용\n",
    "s.replace(\"h\", \"H\")  # 문자열 대체 적용\n",
    "print(s)\n",
    "\n",
    "print(\"==== 새로운 변수 지정 후 ====\")\n",
    "s1 = s.strip()\n",
    "print(s1)\n",
    "s2 = s.replace(\"h\", \"H\")\n",
    "print(s2)"
   ]
  },
  {
   "cell_type": "code",
   "execution_count": 206,
   "id": "fc25c848-af3c-4efc-b3b6-f3a3b653e5aa",
   "metadata": {},
   "outputs": [
    {
     "name": "stdout",
     "output_type": "stream",
     "text": [
      "Alice is 20 years old.\n",
      "My name is Alice\n",
      "My name is Alice\n"
     ]
    }
   ],
   "source": [
    "# 4. 포맷팅 지원\n",
    "\n",
    "'''\n",
    "포맷팅이란 문자열 안에 원하는 값(변수, 숫자 등)을 넣어서 완성된 문장을 만드는 것을 말합니다.\n",
    "단순 연결(+)만 쓰면 코드가 지저분해지고, 숫자/변수와 섞일 때 번거롭기 때문에, 포맷팅을 쓰면 깔끔하고 직관적인 문자열 생성이 가능함.\n",
    "'''\n",
    "\n",
    "name = \"Alice\"\n",
    "age = 20\n",
    "print(f\"{name} is {age} years old.\")\n",
    "print(\"My name is {}\".format(name))\n",
    "print('My name is %s' %(name))"
   ]
  }
 ],
 "metadata": {
  "colab": {
   "provenance": []
  },
  "kernelspec": {
   "display_name": "Python (anaconda-base)",
   "language": "python",
   "name": "anaconda-base"
  },
  "language_info": {
   "codemirror_mode": {
    "name": "ipython",
    "version": 3
   },
   "file_extension": ".py",
   "mimetype": "text/x-python",
   "name": "python",
   "nbconvert_exporter": "python",
   "pygments_lexer": "ipython3",
   "version": "3.12.7"
  }
 },
 "nbformat": 4,
 "nbformat_minor": 5
}
